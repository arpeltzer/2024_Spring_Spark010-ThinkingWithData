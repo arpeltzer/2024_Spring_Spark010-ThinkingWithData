{
 "cells": [
  {
   "cell_type": "markdown",
   "id": "659138d7-09f6-40ca-a0b5-1fb35b91ce20",
   "metadata": {},
   "source": [
    "# Homework 4 – Table Manipulations\n",
    "\n",
    "In this homework assignment, you will use exercise table manipulation skills.\n",
    "\n",
    "This homework is due on **Friday, April 19th<sup>th</sup> at 11:59PM**. "
   ]
  },
  {
   "cell_type": "code",
   "execution_count": null,
   "id": "3e0adf20-c080-46d7-9e5e-8a8f2ca9e8db",
   "metadata": {},
   "outputs": [],
   "source": [
    "import pandas as pd\n",
    "import numpy as np"
   ]
  },
  {
   "cell_type": "markdown",
   "id": "9ee316a0-8092-4f41-93d0-5cc259ca4246",
   "metadata": {},
   "source": [
    "<hr style=\"border: 5px solid #003262;\" />\n",
    "<hr style=\"border: 1px solid #fdb515;\" />\n",
    "\n",
    "# Part 1: UC Admissions\n",
    "<hr style=\"border: 1px solid #fdb515;\" />\n",
    "\n",
    "## Understanding the data\n",
    "\n",
    "In this part of the homework, we will ask and answer questions about the University of California's admissions numbers for the class that entered in Fall 2019. The data we'll work with in this question comes from [this public webpage](https://www.universityofcalifornia.edu/infocenter/admissions-source-school).\n",
    "\n",
    "Run the cell below to load in our data as a table."
   ]
  },
  {
   "cell_type": "code",
   "execution_count": null,
   "id": "98e14622-7d60-451a-b178-6ae12aca8fb4",
   "metadata": {},
   "outputs": [],
   "source": [
    "schools = pd.read_csv('data/Fall2019_UCEnrollmentData.csv')\n",
    "schools"
   ]
  },
  {
   "cell_type": "markdown",
   "id": "1645383c-fdcf-4dc4-9c7c-391e5f838920",
   "metadata": {},
   "source": [
    "Each row corresponds to each of the nearly 1.6K high schools! For each high school, we have the following information:\n",
    "- ` `: This is just an index of the 660 schools.\n",
    "- `'School'`: The name of the high school. Note, this is not unique – for instance, the top three rows of our table correspond to three different high schools all with the name `'ABRAHAM LINCOLN HIGH SCHOOL'`; one is in Los Angeles, one is in San Francisco, and one is in San Jose.\n",
    "- `'City'`: The city in which the high school is. Note, only schools within the US have a valid `'City'` listed; international schools have a city of `'nan'`. (`'nan'` means \"missing value\".) \n",
    "- `'Region'`: The county in which the high school is if the high school is in California, or the state in which the high school is if the high school is elsewhere in the US (see `'ADLAI E STEVENSON HIGH SCHOOL'` above). Again, if the high school is not within the US, `'Region'` is `'nan'`.\n",
    "- `'Applied'`: The number of students who applied to the **UC System** from that high school for admission in Fall 2019.\n",
    "- `'Admitted'`: The number of students who were admitted to the **UC System** from that high school for admission in Fall 2019.\n",
    "- `'Enrolled'`: The number of students who actually chose to attend a school in the **UC System** from that high school starting in Fall 2019."
   ]
  },
  {
   "cell_type": "markdown",
   "id": "d2e25f7e-eb1f-4be5-a0a5-9f8c6ce6c577",
   "metadata": {},
   "source": [
    "**Note:** It's a good idea your previous lecture notes, and other online resources open while working on the assignment in the event you have any questions.\n",
    "\n",
    "You can also easily see the documentation for a function by typing the name of the function on a new line, followed by a `?`, and running the cell\n",
    "\n",
    "Try it out below! Just add a `?` to the end of the line."
   ]
  },
  {
   "cell_type": "code",
   "execution_count": null,
   "id": "f5f96c50-053d-49b0-8ec0-6dbb61d8cf4a",
   "metadata": {},
   "outputs": [],
   "source": [
    "pd.read_csv?"
   ]
  },
  {
   "cell_type": "markdown",
   "id": "31080dd5-af57-4d40-9630-f42576c8904a",
   "metadata": {},
   "source": [
    "\n",
    "<hr style=\"border: 1px solid #fdb515;\" />\n",
    "\n",
    "# Question 1 – Key Numbers\n",
    "---\n",
    "## Question 1a – How many students were admitted?\n",
    "\n",
    "Suppose we're interested in determining the number of students who *applied* to any School in the UC Systme. We can calculate that number by finding the sum of the `'Applied'` column in our dataset like so:"
   ]
  },
  {
   "cell_type": "code",
   "execution_count": null,
   "id": "5d6933dd-f8e5-4deb-ac50-825c717ce6f1",
   "metadata": {},
   "outputs": [],
   "source": [
    "schools['Applied'].sum()"
   ]
  },
  {
   "cell_type": "markdown",
   "id": "db730bea-2b06-4d16-9e27-36d78a162b6a",
   "metadata": {},
   "source": [
    "**Task**: Below, assign the variable `num_admitted` to an integer corresponding to the number of students who were *admitted* to a school in the UC System in our dataset.\n"
   ]
  },
  {
   "cell_type": "code",
   "execution_count": null,
   "id": "9b50876e-50a6-4932-b224-ac8900d39f7a",
   "metadata": {},
   "outputs": [],
   "source": [
    "num_admitted = ..."
   ]
  },
  {
   "cell_type": "markdown",
   "id": "c0ef2576-164a-4b70-81ca-688a47c4503d",
   "metadata": {},
   "source": [
    "---\n",
    "## Question 1b – What was the overall acceptance rate?\n",
    "\n",
    "Below, assign the variable `overall_acceptance_rate` to a float corresponding to the proportion of students who applied to the UC System that were admitted.\n",
    "\n",
    "_Hint_: Use `num_admitted` along with the example that came right before it.\n",
    "\n",
    "<!--\n",
    "BEGIN QUESTION\n",
    "name: q1b\n",
    "points: 1\n",
    "-->"
   ]
  },
  {
   "cell_type": "code",
   "execution_count": null,
   "id": "f9f1cded-7011-4517-82dc-d325b2ccc5e5",
   "metadata": {},
   "outputs": [],
   "source": [
    "overall_acceptance_rate = ...\n",
    "overall_acceptance_rate"
   ]
  },
  {
   "cell_type": "markdown",
   "id": "160e8bbd-e939-4115-9f37-8ac06020a278",
   "metadata": {},
   "source": [
    "---\n",
    "## Question 1c – Interpretation?\n",
    "\n",
    "In **Question 1a**, you computed the number of students that the UC System admitted for enrollment in Fall 2019. \n",
    "\n",
    "In **Question 1b**, you computed the acceptance rate, is this lower or higher than you expected. \n",
    "\n",
    "What might or might not be impacting these numbers? \n",
    "Hint: What about transfer students, what about differences in these schools?"
   ]
  },
  {
   "cell_type": "markdown",
   "id": "f7f2c867-c8f1-4ab3-ace2-7aa6465a9235",
   "metadata": {},
   "source": [
    "Question 1c: *Your Answer Here in Words*"
   ]
  },
  {
   "cell_type": "markdown",
   "id": "529e428c-b270-4a0e-bef2-46b1cd081594",
   "metadata": {},
   "source": [
    "## Question 1d – If you were a student entering college in 2019 would you have been in this data set?\n",
    "\n",
    "- If you are a California student, is your HS represented in this data set?\n",
    "- If you are an international student, are you represented here?\n",
    "- In short, are students like you in this data (or not)?"
   ]
  },
  {
   "cell_type": "markdown",
   "id": "5b0a9a70-3942-43c7-b1c6-a54f7ae1796a",
   "metadata": {},
   "source": [
    "Question 1d: *Your Answer Here in Words*"
   ]
  },
  {
   "cell_type": "markdown",
   "id": "2c46a7d9-b593-4d2c-9151-59c1f290bf44",
   "metadata": {},
   "source": [
    "<hr style=\"border: 1px solid #fdb515;\" />\n",
    "\n",
    "# Question 2 – Which Schools?\n",
    "\n",
    "Now it's time to answer questions of the form \"Which schools \\_\\_\\_\\_\\_\"? In order to proceed, you'll need to make sure you're familiar with selecting/dropping, table sorting, and element-wise array operations.\n",
    "\n",
    "We will also play around with some data-cleaning operations! We (thus far) haven't had to clean much data, and for now we will do a teeny bit."
   ]
  },
  {
   "cell_type": "markdown",
   "id": "3356cdf7-43ce-47d7-886d-fd9377855b91",
   "metadata": {},
   "source": [
    "---\n",
    "## Question 2a – Removing columns\n",
    "\n",
    "In this section, we're not going to worry about the city where each school is – we'll look at cities in the next section. It'll be helpful to keep around the `'Region'` column just so that we can see at a glance if a school is in-state, domestic, or international. We also need it to tell apart the three `'ABRAHAM LINCOLN HIGH SCHOOL'`s!\n",
    "\n",
    "**Task**: Assign `schools_stats` to a new table  that contains all of the columns in `schools` except for `'City'`."
   ]
  },
  {
   "cell_type": "code",
   "execution_count": null,
   "id": "c23ce794-3ba2-4828-ba09-18eb264a7e48",
   "metadata": {},
   "outputs": [],
   "source": [
    "schools_stats =  schools[['School',...]]\n",
    "schools_stats"
   ]
  },
  {
   "cell_type": "markdown",
   "id": "f99b936d-39c1-4b30-8c38-247f7c0f4f22",
   "metadata": {},
   "source": [
    "---\n",
    "## Question 2b – Which school sent the most students?\n",
    "\n",
    "The value in the `'Enrolled'` column for each high school is the number of students they sent to the UC system.\n",
    "\n",
    "Below, assign `feeders` to a table with the same columns as `schools_stats`, but with **only the 100 high schools who sent the most students to UC system**, sorted in descending order. The first five rows of your table should look like this:\n",
    "\n",
    "| School                         | Region        |   Applied |   Admitted |   Enrolled |\n",
    "|-----------------------------:|--------------:|----------:|-----------:|-----------:|\n",
    "| LOWELL HIGH SCHOOL | San Francisco | 515 | 370 |  215 |\n",
    "| DIAMOND BAR HIGH SCHOOL | Los Angeles | 471 | 354 | 214 |\n",
    "| DOUGHERTY VALLEY HIGH SCHOOL | Contra Costa  |  538 | 386 | 203 |\n",
    "| ARCADIA HIGH SCHOOL | Los Angeles | 451 | 336 | 194 |\n",
    "| MISSION SAN JOSE HIGH SCHOOL | Alameda | 422 | 366 | 183 |\n",
    "\n",
    "_Hint_: Use the `sort_values` and `head` table methods\n"
   ]
  },
  {
   "cell_type": "code",
   "execution_count": null,
   "id": "2c018063-9147-4392-b3e4-245280f78f07",
   "metadata": {},
   "outputs": [],
   "source": [
    "feeders= schools_stats.sort_values(by='...',ascending=...).head(...)"
   ]
  },
  {
   "cell_type": "code",
   "execution_count": null,
   "id": "40ffed60-1bf0-4379-b525-c2ed2d9b9cca",
   "metadata": {},
   "outputs": [],
   "source": [
    "feeders"
   ]
  },
  {
   "cell_type": "markdown",
   "id": "71f8e673-f31c-4d7d-b2b7-8417e03352af",
   "metadata": {},
   "source": [
    "---\n",
    "## Question 2c – Drop Schools with no Applications with `'dropna'` function\n",
    "\n",
    "Often in working with data, you'll have a \"missing\" value or a \"0\" value that shows up as \"NaN\" = Not a Number.\n",
    "\n",
    "The first step is to remove any school with no applicants (\"NaN\" in the Applied Column). \n",
    "\n",
    "If we do not have any applicants from a school, we can not calculate an acceptance rate!\n",
    "\n",
    "Once again Python has made our job easier by having a function that \"Cleans\" data. \n",
    "\n",
    "Your job in this question is to create a table `clean_schools_stats` that has none of the NaN\n",
    "\n",
    "I'll do an example of this with a \"messyTest\"."
   ]
  },
  {
   "cell_type": "code",
   "execution_count": null,
   "id": "2134c304-becc-421e-b0ef-dd6f93634da1",
   "metadata": {},
   "outputs": [],
   "source": [
    "messyTest = pd.DataFrame({\n",
    "    \"Name\": [\"21ST CENTURY LEARNING INST\", \"A B MILLER HIGH SCHOOL\", \"ABLE CHARTER\", \"ABRAHAM LINCOLN HIGH SCHOOL\", \"ABRAHAM LINCOLN HIGH SCHOOL\"],\n",
    "    \"Region\": [\"Riverside\", \"San Bernardino\", \"San Joaquin\", \"Los Angeles\", \"San Francisco\"],\n",
    "    \"Applied\": [None, 59, 11.0, 65, 226],\n",
    "    \"Admitted\": [None, 50, 9.0, 35, 133],\n",
    "    \"Enrolled\": [None, 21, None, 26, 80],\n",
    "    \"Acceptance Rate\": [None, 0.847458, 0.818182, 0.538462, 0.588496]\n",
    "})\n",
    "\n",
    "messyTest"
   ]
  },
  {
   "cell_type": "markdown",
   "id": "41430119-7989-4dea-b583-6b849a869576",
   "metadata": {},
   "source": [
    "We now want to use the `'dropna'` function to remove any row that has an \"NaN\" in the Applied column."
   ]
  },
  {
   "cell_type": "code",
   "execution_count": null,
   "id": "e294485f-0334-4146-ab04-596ca15174fd",
   "metadata": {},
   "outputs": [],
   "source": [
    "cleanTest = messyTest.dropna(subset=['Applied'])\n",
    "\n",
    "cleanTest"
   ]
  },
  {
   "cell_type": "code",
   "execution_count": null,
   "id": "e9a51642-4dc0-4d9f-a550-2d301fc6b0bd",
   "metadata": {},
   "outputs": [],
   "source": [
    "clean_schools_stats = schools_stats.dropna(subset=['...'])"
   ]
  },
  {
   "cell_type": "markdown",
   "id": "87f1d088-15be-435c-ad1d-de76ebbc8c8f",
   "metadata": {},
   "source": [
    "---\n",
    "## Question 2d – Change NaN to 0 for Admissions and Enrollment with Drop Schools with `'fillna'` function\n",
    "\n",
    "Great - so we now have `clean_schools_stats` where only schools that actually had student applying to the UC system are included. \n",
    "\n",
    "Because we want to calculate acceptance rates, we want to change \"NaN\" to 0 if they appear in either the Admitted or Enrolled column.\n",
    "\n",
    "Once again, Python has made this really straightforward with a `'fillna'` function. \n",
    "\n",
    "I'll show how to do this with our \"cleanTest\" example (which has a \"Nan\" in Enrolled for one of the schools). \n",
    "\n",
    "Then you do this for your `clean_schools_stats` table."
   ]
  },
  {
   "cell_type": "code",
   "execution_count": null,
   "id": "ee6e554a-a446-4bc9-aad7-cffbc6f3495e",
   "metadata": {},
   "outputs": [],
   "source": [
    "cleanTest.loc[:, 'Enrolled'] = cleanTest['Enrolled'].fillna(0)\n",
    "cleanTest.loc[:, 'Admitted'] = cleanTest['Admitted'].fillna(0)\n",
    "cleanTest"
   ]
  },
  {
   "cell_type": "code",
   "execution_count": null,
   "id": "a39117fb-fab0-4538-b578-4816de2d3970",
   "metadata": {},
   "outputs": [],
   "source": [
    "clean_schools_stats.loc[:,'...']=clean_schools_stats['...'].fillna(0)\n",
    "clean_schools_stats.loc[:,'...']=clean_schools_stats['...'].fillna(0)"
   ]
  },
  {
   "cell_type": "markdown",
   "id": "e641bf01-9ecf-4265-8fb2-afc5fbb07d6f",
   "metadata": {},
   "source": [
    "---\n",
    "## Question 2e – What was the acceptance rate of each school?\n",
    "\n",
    "Right now we have the number of students who applied, were admitted, and actually enrolled from each school. We don't have the acceptance rate of students at each school, but we can easily figure that out using some array operations!\n",
    "\n",
    "Below, add a fifth column to `schools_stats` that gives the `'Acceptance Rate'` for each school. If there were students that applied to the UC system, this value should be a decimal between 0 (no students were admitted) and 1 (all students were admitted).\n",
    "\n",
    "There are several steps involved:\n",
    "- First, create an array containing the acceptance rates `acc_rates` for each school. This should be done in one line; remember that each column in a table is an array, and that if you divide two arrays, the division is performed element-wise.\n",
    "- Then, add a new column called `'Acceptance Rate'` to `schools_stats`, using the array you just created.\n",
    "\n",
    "- **Note**: unlike in the previous question, you aren't supposed to sort or take the top 10.\n",
    "\n",
    "The first few rows of your table should look like this:\n",
    "\n",
    "| Name                        | Region        |   Applied |   Admitted |   Enrolled |   Acceptance Rate |\n",
    "|----------------------------:|--------------:|----------:|-----------:|-----------:|------------------:|\n",
    "| A B MILLER HIGH SCHOOL\t|San Bernardino\t|59.0|\t50.0\t|21.0\t|0.847458|\n",
    "|\tABLE CHARTER|\tSan Joaquin|\t11.0|\t9.0|\t0.0|\t0.818182|\n",
    "|\tABRAHAM LINCOLN HIGH SCHOOL|\tLos Angeles|\t65.0|\t35.0|\t26.0\t|0.538462|\n",
    "|\tABRAHAM LINCOLN HIGH SCHOOL|\tSan Francisco|\t226.0\t|133.0\t|80.0\t|0.588496|\n",
    "|\tABRAHAM LINCOLN HIGH SCHOOL|\tSanta Clara\t|105.0|\t56.0|\t23.0\t|0.533333|"
   ]
  },
  {
   "cell_type": "code",
   "execution_count": null,
   "id": "bb3f7a94-0097-4637-acdf-c53bcb792c74",
   "metadata": {},
   "outputs": [],
   "source": [
    "acc_rates = clean_schools_stats['...']/clean_schools_stats['...']\n",
    "\n",
    "clean_schools_stats.loc[:,'Acceptance Rate'] = acc_rates"
   ]
  },
  {
   "cell_type": "code",
   "execution_count": null,
   "id": "2a18a3be-8629-427d-9099-05813ddcfa48",
   "metadata": {},
   "outputs": [],
   "source": [
    "clean_schools_stats.head()"
   ]
  },
  {
   "cell_type": "markdown",
   "id": "85272201-fabb-4335-a91c-8c12cd821f9e",
   "metadata": {},
   "source": [
    "---\n",
    "## Question 2f – Which schools had the lowest and highest acceptance rate?\n",
    "\n",
    "Now that we have a table, `clean_schools_stats`, containing the acceptance rate of each school, it's natural to ask which schools had the highest and lowest acceptance rates.\n",
    "\n",
    "Your job below is to define two **arrays**:\n",
    "- `top_5_acc`, which contains the **names** of the five schools with the highest acceptance rates, such that the first element of `top_5_acc` has the absolute highest acceptance rate, the second element has the second highest acceptance rate, and so on.\n",
    "- `bottom_5_acc`, which contains the **names** of the five schools with the lowest acceptance rates, such that the first element of `bottom_5_acc` has the absolute lowest acceptance rate, the second element has the second lowest acceptance rate, and so on.\n",
    "\n",
    "At some point, you'll need to sort `clean_schools_stats` by acceptance rate. However, how you choose to do that is up to you – you could elect to sort it in both descending and ascending order, or you could just sort it once and be creative.\n"
   ]
  },
  {
   "cell_type": "code",
   "execution_count": null,
   "id": "a05098ea-3f8a-4a8b-a412-67d5753ece85",
   "metadata": {},
   "outputs": [],
   "source": [
    "top_5_acc = clean_schools_stats.sort_values(by='...',ascending=False).head(5)\n",
    "top_5_acc"
   ]
  },
  {
   "cell_type": "code",
   "execution_count": null,
   "id": "3b272080-dff2-4008-80c4-69596f9cbce1",
   "metadata": {},
   "outputs": [],
   "source": [
    "bottom_5_acc = clean_schools_stats.sort_values(by='...',ascending=False).tail(5)\n",
    "bottom_5_acc"
   ]
  },
  {
   "cell_type": "markdown",
   "id": "07abd6e3-f20e-422b-bc33-b44ee0127233",
   "metadata": {},
   "source": [
    "\n",
    "<hr style=\"border: 1px solid #fdb515;\" />\n",
    "\n",
    "# Question 3 – Location\n",
    "\n",
    "In the last question, we did not use the `'Region'` column from `schools`. In this question, we'll bring that information back in. "
   ]
  },
  {
   "cell_type": "markdown",
   "id": "bd7b3762-8944-41cf-8638-9953d7bc8806",
   "metadata": {},
   "source": [
    "---\n",
    "## Question 3a – How many schools were in Los Angeles county?\n",
    "\n",
    "Los Angeles is both the name of a city and a county, and counties correspond to regions in our dataset (at least for California high schools).\n",
    "\n",
    "Below, assign `num_schools_lac` to the **number** of schools in our dataset that are from Los Angeles county.\n",
    "\n",
    "_Hint: We can use a boolean filter and then \"Sum\" because Boolean values have \n",
    "- 0 = False\n",
    "- 1 = True\n",
    "\n",
    "<!--\n",
    "BEGIN QUESTION\n",
    "name: q3a\n",
    "points: 1\n",
    "-->"
   ]
  },
  {
   "cell_type": "code",
   "execution_count": null,
   "id": "fc7eed62-b5aa-4957-a988-7ddd1977574f",
   "metadata": {},
   "outputs": [],
   "source": [
    "LACountyFilter = clean_schools_stats['...'] == 'Los Angeles'\n",
    "\n",
    "num_schools_lac = LACountyFilter.sum()\n",
    "\n",
    "num_schools_lac"
   ]
  },
  {
   "cell_type": "markdown",
   "id": "4adf7482-6055-479c-b3f1-fe62dd70a89d",
   "metadata": {},
   "source": [
    "---\n",
    "## Question 3b – How many students actually enrolled from schools in Los Angeles county?\n",
    "\n",
    "Below, assign `num_students_lac` to the number of students who enrolled in the UC System from high schools in Los Angeles county.\n",
    "\n",
    "This can be done using the Boolean filter above to \"remove\" only the values from `clean_schools_stats` that are from LA County. \n",
    "\n",
    "*Note*: While our solution is only one line, yours doesn't have to be.\n"
   ]
  },
  {
   "cell_type": "code",
   "execution_count": null,
   "id": "ac9a44cf-30c8-4c64-8937-7742440d6aed",
   "metadata": {},
   "outputs": [],
   "source": [
    "LACounty_schools_stats = clean_schools_stats[LACountyFilter] \n",
    "num_students_lac = LACounty_schools_stats['...'].sum()\n",
    "\n",
    "num_students_lac"
   ]
  },
  {
   "cell_type": "markdown",
   "id": "0bbb584c-04a7-4bfd-a313-5f7c3895e63c",
   "metadata": {},
   "source": [
    "---\n",
    "## Question 3c – Which schools in Los Angeles county sent the most students?\n",
    "\n",
    "Below, assign `top_LAC_schools` to a **table** with the same columns as `LACounty_schools_stats`, but with **only the 10 high schools in Los Angeles county who sent the most students to the UC System**, sorted in descending order. The first five rows of your table should look like this:\n",
    "\n",
    "| Name                          | Region             | Applied      | Admitted | Enrolled | Acceptance Rate |\n",
    "|------------------------------:|-----------------:|------------:|----------:|-----------:|-----------:|\n",
    "| DIAMOND BAR HIGH SCHOOL|\tLos Angeles |\t471.0|\t354.0|\t214.0|\t0.751592|\n",
    "|\tARCADIA HIGH SCHOOL|\tLos Angeles|\t451.0\t|336.0|\t194.0 |\t0.745011|\n",
    "|\tWALNUT HIGH SCHOOL\t|Los Angeles|\t357.0\t|276.0|\t161.0|\t0.773109|\n",
    "|\tGRANADA HILLS CHARTER HIGH SCH|\tLos Angeles|\t423.0|\t288.0|\t139.0|\t0.680851|\t\n",
    "|\tPALOS VERDES PENINSULA HS|\tLos Angeles\t|378.0 |\t258.0|\t132.0|\t0.682540|\n",
    "\n",
    "*Note*: A high school *sends* a student to the UC system when that student **enrolls** in the university."
   ]
  },
  {
   "cell_type": "code",
   "execution_count": null,
   "id": "6aa4b606-d645-4afa-9a05-6774eb1f702d",
   "metadata": {},
   "outputs": [],
   "source": [
    "top_LAC_schools = LACounty_schools_stats.sort_values(by='...',ascending=False).head(10)\n",
    "top_LAC_schools"
   ]
  },
  {
   "cell_type": "markdown",
   "id": "0c796cef-8e3b-4d63-8257-f9240274982a",
   "metadata": {},
   "source": [
    "---\n",
    "## Question 3d – Which schools in Alameda county sent more than 50 students?\n",
    "\n",
    "Below, assign `big_alameda` to a table containing all of the columns of `clean_schools_stats`, but only the rows corresponding to schools in Alameda county that sent more than 50 students to the University of California system. \n",
    "\n",
    "_Hint_: You can do this in many ways, but I recommend Binary filtering and doing and. Which is what we have below."
   ]
  },
  {
   "cell_type": "code",
   "execution_count": null,
   "id": "2cf7428b-1a50-43fa-9355-c40679814c26",
   "metadata": {},
   "outputs": [],
   "source": [
    "alamedaFilter = clean_schools_stats['...']== 'Alameda'\n",
    "alamedaFilter.sum()"
   ]
  },
  {
   "cell_type": "code",
   "execution_count": null,
   "id": "f0098a17-eafe-4c7e-a2c1-589b2a4df950",
   "metadata": {},
   "outputs": [],
   "source": [
    "moreThan50Filter = clean_schools_stats['...'] >= 50\n",
    "moreThan50Filter.sum()"
   ]
  },
  {
   "cell_type": "code",
   "execution_count": null,
   "id": "ebb9e2fb-4038-43b6-8115-efa13e1bf0b9",
   "metadata": {},
   "outputs": [],
   "source": [
    "big_alameda = clean_schools_stats[alamedaFilter & moreThan50Filter]\n",
    "big_alameda"
   ]
  },
  {
   "cell_type": "markdown",
   "id": "c97c55c6-f6e2-4dc3-a0d1-a2eba4cc1b0d",
   "metadata": {},
   "source": [
    "---\n",
    "## Question 3e – How many students applied from schools in the Bay Area? \n",
    "\n",
    "<img src='https://upload.wikimedia.org/wikipedia/commons/b/bc/Bayarea_map.png' width=400>\n",
    "\n",
    "The Bay Area consists of the nine counties `'San \"Francisco'`, `'San Mateo'`, `'Santa Clara'`, `'Alameda'`, `'Contra Costa'`, `'Solano'`, `'Napa'`, `'Sonoma'`, and `'Marin'`.\n",
    "\n",
    "Below, you have two tasks.\n",
    "1. Create a filter for only rows in our `clean_schools_stats` that have counties in the bayRegions array.\n",
    "2. Assign `bay_schools` to a table with the same columns as `clean_schools_stats`, but only with rows corresponding to schools in the Bay Area.\n",
    "3. Assign `bay_acc_rate` to the overall acceptance rate of students from the Bay Area. **This requires a new calculation, you can't just look at the `'Acceptance Rate'` column in your table.** \n",
    "\n",
    "_Hint_: How did we calculate the overall acceptance rate in Question 1?\n"
   ]
  },
  {
   "cell_type": "code",
   "execution_count": null,
   "id": "f5af8b8c-ab49-44b9-8aba-bf9ab65846ac",
   "metadata": {},
   "outputs": [],
   "source": [
    "bayRegions = ['San Francisco','San Mateo','Santa Clara','Alameda','Contra Costa','Solano','Napa','Sonoma','Marin'];\n",
    "\n",
    "bayRegionFilter = clean_schools_stats['...'].isin(bayRegions)"
   ]
  },
  {
   "cell_type": "code",
   "execution_count": null,
   "id": "9e7ad289-9705-4f5d-919f-f5de19164e2b",
   "metadata": {},
   "outputs": [],
   "source": [
    "bay_schools = clean_schools_stats[bayRegionFilter]\n",
    "bay_schools"
   ]
  },
  {
   "cell_type": "code",
   "execution_count": null,
   "id": "bdf26f4a-7228-445f-bf64-41cc18e5f2a3",
   "metadata": {},
   "outputs": [],
   "source": [
    "bay_acc_rate = ..."
   ]
  },
  {
   "cell_type": "markdown",
   "id": "382bb89e-f032-40b7-9ada-80bfaa099485",
   "metadata": {},
   "source": [
    "---\n",
    "## Question 3f – How many schools applied each county in the state of California? \n",
    "\n",
    "This is now a nice application of the group_by function that we learned about recenty! Let's go ahead and try to determine the group by. \n",
    "\n",
    "Your job below is to look at the plot that is made with these commands, and to give some overall impressions.\n",
    "- What data is most visible with this plot?\n",
    "- What is soemthing you learned form this plot?\n",
    "- What is a question you have after making this plot? "
   ]
  },
  {
   "cell_type": "code",
   "execution_count": null,
   "id": "7ad8284c-9f37-4457-a501-584ce58693c3",
   "metadata": {},
   "outputs": [],
   "source": [
    "columns_to_aggregate = ['Applied','Admitted','Enrolled'];\n",
    "\n",
    "region_summary = clean_schools_stats.groupby('Region')[columns_to_aggregate].sum()\n",
    "region_summary\n"
   ]
  },
  {
   "cell_type": "code",
   "execution_count": null,
   "id": "4f213d9f-a50b-4d15-ab07-4d1b9b4949cc",
   "metadata": {},
   "outputs": [],
   "source": [
    "import matplotlib.pyplot as plt\n",
    "\n",
    "fig, ax = plt.subplots(figsize=(10, 7))  # Create a figure and an axes.\n",
    "\n",
    "# Data for plotting\n",
    "regions = region_summary.index\n",
    "y_pos = np.arange(len(regions))  # the label locations\n",
    "width = 0.35  # the width of the bars\n",
    "\n",
    "# Create horizontal bars\n",
    "ax.barh(y_pos - width/2, region_summary['Applied'], width, label='Applied', color='blue')\n",
    "ax.barh(y_pos + width/2, region_summary['Enrolled'], width, label='Enrolled', color='green')\n",
    "\n",
    "# Adding labels and title\n",
    "ax.set_yticks(y_pos)\n",
    "ax.set_yticklabels(regions)\n",
    "ax.set_xlabel('Number of Students')\n",
    "ax.set_title('Comparison of Students Applied vs. Enrolled by Region')\n",
    "\n",
    "# Add a legend\n",
    "ax.legend()\n",
    "\n",
    "# Display the plot\n",
    "plt.show()"
   ]
  },
  {
   "cell_type": "markdown",
   "id": "740fb57d-d1e5-4044-9147-d0ae8d2dbf08",
   "metadata": {},
   "source": [
    "Question 3f: Now your job is to answer these questions here about the plot we made above.\n",
    "\n",
    "- What data is most visible with this plot?\n",
    "- What is soemthing you learned form this plot?\n",
    "- What is a question you have after making this plot? "
   ]
  },
  {
   "cell_type": "markdown",
   "id": "ecf38a65-ba97-476c-bc8b-8d6ddaf0e371",
   "metadata": {},
   "source": [
    "---\n",
    "## Question 3g – Your own investigation! \n",
    "\n",
    "Your job is now to investigate soemthing in this data set on your own! \n",
    "\n",
    "Maybe you want to look at a specific county more closely?\n",
    "Maybe you want to compare counties? \n",
    "Maybe you want to compare regions?\n",
    "\n",
    "Make at least one additional plot and offer a description. \n",
    "\n"
   ]
  },
  {
   "cell_type": "markdown",
   "id": "65c786e4-04c8-4788-bf2c-af2a4dbfa206",
   "metadata": {},
   "source": []
  }
 ],
 "metadata": {
  "kernelspec": {
   "display_name": "Python 3 (ipykernel)",
   "language": "python",
   "name": "python3"
  },
  "language_info": {
   "codemirror_mode": {
    "name": "ipython",
    "version": 3
   },
   "file_extension": ".py",
   "mimetype": "text/x-python",
   "name": "python",
   "nbconvert_exporter": "python",
   "pygments_lexer": "ipython3",
   "version": "3.11.8"
  }
 },
 "nbformat": 4,
 "nbformat_minor": 5
}
