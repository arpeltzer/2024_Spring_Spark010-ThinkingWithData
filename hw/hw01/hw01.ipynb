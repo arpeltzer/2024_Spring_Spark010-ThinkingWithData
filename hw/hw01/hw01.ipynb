{
 "cells": [
  {
   "cell_type": "markdown",
   "metadata": {
    "editable": true,
    "slideshow": {
     "slide_type": ""
    },
    "tags": []
   },
   "source": [
    "# Homework 1 – Python Fundamentals\n",
    "\n",
    "## Spark 010, Spring 2024\n",
    "\n",
    "In this homework assignment, you will apply what you've learned about arithmetic expressions, data types, boolean expressions, and functions. Your job is to write code anywhere you see `...`, as well as answer any open-ended questions.\n",
    "\n",
    "This homework is due on **Wednesday January 31st, at 3:00 PM**. You must submit the assignment on [CatCourses](https://catcourses.ucmerced.edu/courses/31104/assignments/404738). Your assignment can be exported as PDF directly from JupyterHub."
   ]
  },
  {
   "cell_type": "markdown",
   "metadata": {
    "editable": true,
    "slideshow": {
     "slide_type": ""
    },
    "tags": []
   },
   "source": [
    "<hr style=\"border: 5px solid #003262;\" />\n",
    "<hr style=\"border: 1px solid #fdb515;\" />\n",
    "\n",
    "# Part 1: Computation\n",
    "\n",
    "<br/><br/>\n",
    "\n",
    "\n",
    "<hr style=\"border: 1px solid #fdb515;\" />\n",
    "\n",
    "# Question 1 – Errors and Data Types\n",
    "\n",
    "In this question, you will identify why certain lines of code cause an error or have unexpected behavior."
   ]
  },
  {
   "cell_type": "markdown",
   "metadata": {},
   "source": [
    "---\n",
    "\n",
    "## Question 1a\n",
    "\n",
    "The following cell contains an error."
   ]
  },
  {
   "cell_type": "code",
   "execution_count": null,
   "metadata": {
    "editable": true,
    "slideshow": {
     "slide_type": ""
    },
    "tags": [
     "raises-exception"
    ]
   },
   "outputs": [],
   "source": [
    "8 = 10 - 2"
   ]
  },
  {
   "cell_type": "markdown",
   "metadata": {
    "editable": true,
    "slideshow": {
     "slide_type": ""
    },
    "tags": []
   },
   "source": [
    "Choose the best explanation of what's wrong with the code, and then assign the integer 1, 2, 3, or 4 to `reason_1a` below to indicate your answer.\n",
    "\n",
    "1. Python already knows `8 = 10 - 2`.\n",
    "\n",
    "2. `8` is a number, and numbers can't be Python names. In Python, \"`x = 10 - 2`\" means \"assign `x` as the name for the value of `10 - 2`.\"\n",
    "\n",
    "3. It should be `10 - 2 = 8`.\n",
    "\n",
    "4. I don't get an error message. This is a trick question.\n",
    "\n",
    "<!--\n",
    "BEGIN QUESTION\n",
    "name: q1a\n",
    "points: 1\n",
    "-->"
   ]
  },
  {
   "cell_type": "code",
   "execution_count": null,
   "metadata": {
    "editable": true,
    "slideshow": {
     "slide_type": ""
    },
    "tags": []
   },
   "outputs": [],
   "source": [
    "# Your answer should be in the format reason_1a = n, where n is either 1, 2, 3, or 4\n",
    "\n",
    "reason_1a = ..."
   ]
  },
  {
   "cell_type": "markdown",
   "metadata": {},
   "source": [
    "---\n",
    "\n",
    "## Question 1b\n",
    "\n",
    "The following cell contains an error."
   ]
  },
  {
   "cell_type": "code",
   "execution_count": null,
   "metadata": {
    "tags": [
     "raises-exception"
    ]
   },
   "outputs": [],
   "source": [
    "four = 3\n",
    "nine = four times four"
   ]
  },
  {
   "cell_type": "markdown",
   "metadata": {},
   "source": [
    "Choose the best explanation of what's wrong with the code and assign the integer `1`, `2`, `3`, or `4` to `reason_1b` below to indicate your answer.\n",
    "\n",
    "1. The `times` operation only applies to numbers, not the word `four`.\n",
    "\n",
    "2. The name `four` cannot be assigned to the number 3.\n",
    "\n",
    "3. four times four is sixteen, not nine.\n",
    "\n",
    "4. The name `four` cannot be followed directly by another name.\n",
    "\n",
    "<!--\n",
    "BEGIN QUESTION\n",
    "name: q1b\n",
    "points: 1\n",
    "-->"
   ]
  },
  {
   "cell_type": "code",
   "execution_count": null,
   "metadata": {},
   "outputs": [],
   "source": [
    "# Your answer should be in the format reason_1b = n, where n is either 1, 2, 3, or 4\n",
    "\n",
    "reason_1b = ..."
   ]
  },
  {
   "cell_type": "markdown",
   "metadata": {},
   "source": [
    "---\n",
    "\n",
    "## Question 1c\n",
    "\n",
    "Terry runs the following cell and expects that the value of `eight` will be `8`, stored as an `int`."
   ]
  },
  {
   "cell_type": "code",
   "execution_count": null,
   "metadata": {},
   "outputs": [],
   "source": [
    "eight = print(3 + 5)"
   ]
  },
  {
   "cell_type": "markdown",
   "metadata": {},
   "source": [
    "What data type is the value bound to the name `eight`? In other words, does `eight` have type `int`, `float`, `str`, `bool`, or `NoneType`?\n",
    "\n",
    "Assign your answer to the name `eight_type` below **as a string**. For example, if you think the answer is `int`, write `eight_type = 'int'` below.\n",
    "\n",
    "<!--\n",
    "BEGIN QUESTION\n",
    "name: q1c\n",
    "points: 1\n",
    "-->"
   ]
  },
  {
   "cell_type": "code",
   "execution_count": null,
   "metadata": {},
   "outputs": [],
   "source": [
    "eight_type = ..."
   ]
  },
  {
   "cell_type": "markdown",
   "metadata": {},
   "source": [
    "---\n",
    "\n",
    "## Question 1d\n",
    "\n",
    "Sam wants to create and print a string consisting of their name, age, and house address, as follows."
   ]
  },
  {
   "cell_type": "code",
   "execution_count": null,
   "metadata": {
    "tags": [
     "raises-exception"
    ]
   },
   "outputs": [],
   "source": [
    "name = 'Sam'\n",
    "age = 51\n",
    "house_number = 1436\n",
    "house_street = 'Durant Avenue'\n",
    "\n",
    "sam_greeting = 'My name is ' + name + ', I am ' + age + ' years old, and I live at ' + house_number + ' ' + house_street\n",
    "print(sam_greeting)"
   ]
  },
  {
   "cell_type": "markdown",
   "metadata": {},
   "source": [
    "However, it errors. In the cell below, assign `sam_greeting_fixed` to a fixed version of `sam_greeting` that doesn't error. Start by copying the right-hand side of the `sam_greeting` assignment statement above. Your answer must still involve `+`.\n",
    "\n",
    "<!--\n",
    "BEGIN QUESTION\n",
    "name: q1d\n",
    "points: 1\n",
    "-->"
   ]
  },
  {
   "cell_type": "code",
   "execution_count": null,
   "metadata": {},
   "outputs": [],
   "source": [
    "sam_greeting_fixed = ...\n",
    "\n",
    "# If your sam_greeting_fixed is correct, the following print statement should print\n",
    "# 'My name is Sam, I am 51 years old, and I live at 1436 Durant Avenue'\n",
    "print(sam_greeting_fixed)"
   ]
  },
  {
   "cell_type": "markdown",
   "metadata": {},
   "source": [
    "---\n",
    "\n",
    "## Question 1e\n",
    "\n",
    "You can get the type of a value by calling the `type` function. We will learn more about functions later."
   ]
  },
  {
   "cell_type": "code",
   "execution_count": null,
   "metadata": {},
   "outputs": [],
   "source": [
    "# what is the type of the number 20\n",
    "type(20)"
   ]
  },
  {
   "cell_type": "code",
   "execution_count": null,
   "metadata": {},
   "outputs": [],
   "source": [
    "# Print the type of 15\n",
    "...(15)"
   ]
  },
  {
   "cell_type": "markdown",
   "metadata": {},
   "source": [
    "You can also get the type of a number following an operation\n",
    "\n",
    "Get the type of `10/2` and `10//2`. What do you notice?"
   ]
  },
  {
   "cell_type": "code",
   "execution_count": null,
   "metadata": {},
   "outputs": [],
   "source": [
    "type(10/2)"
   ]
  },
  {
   "cell_type": "code",
   "execution_count": null,
   "metadata": {},
   "outputs": [],
   "source": [
    "type(10//2)"
   ]
  },
  {
   "cell_type": "markdown",
   "metadata": {},
   "source": [
    "<br/><br/>\n",
    "\n",
    "<hr style=\"border: 1px solid #fdb515;\" />\n",
    "\n",
    "# Question 2 -  Expressions\n",
    "\n"
   ]
  },
  {
   "cell_type": "markdown",
   "metadata": {},
   "source": [
    "Create an expression that uses `+`,`*`, and `-` all at least once. Make sure your expression evaluates to 11."
   ]
  },
  {
   "cell_type": "code",
   "execution_count": null,
   "metadata": {},
   "outputs": [],
   "source": [
    "(2*4-3)+6 # example"
   ]
  },
  {
   "cell_type": "code",
   "execution_count": null,
   "metadata": {},
   "outputs": [],
   "source": [
    "# Put your answer here\n",
    "..."
   ]
  },
  {
   "cell_type": "markdown",
   "metadata": {},
   "source": [
    "---\n",
    "\n",
    "## Question 2a\n",
    "\n",
    "Division and Integer Division\n",
    "\n",
    "<!--\n",
    "BEGIN QUESTION\n",
    "name: q2a\n",
    "points: 1\n",
    "-->"
   ]
  },
  {
   "cell_type": "code",
   "execution_count": null,
   "metadata": {},
   "outputs": [],
   "source": [
    "10/2"
   ]
  },
  {
   "cell_type": "code",
   "execution_count": null,
   "metadata": {},
   "outputs": [],
   "source": [
    "10//2"
   ]
  },
  {
   "cell_type": "markdown",
   "metadata": {},
   "source": [
    "Create an expression that uses `/`. Make sure your expression evaluates to 7.5."
   ]
  },
  {
   "cell_type": "code",
   "execution_count": null,
   "metadata": {},
   "outputs": [],
   "source": [
    "15/2 # example"
   ]
  },
  {
   "cell_type": "code",
   "execution_count": null,
   "metadata": {},
   "outputs": [],
   "source": [
    "# Put your answer here\n",
    "..."
   ]
  },
  {
   "cell_type": "markdown",
   "metadata": {},
   "source": [
    "Create an expression that uses `//`. Make sure your expression evaluates to 7."
   ]
  },
  {
   "cell_type": "code",
   "execution_count": null,
   "metadata": {},
   "outputs": [],
   "source": [
    "15//2 # example"
   ]
  },
  {
   "cell_type": "code",
   "execution_count": null,
   "metadata": {},
   "outputs": [],
   "source": [
    "# Put your answer here\n",
    "..."
   ]
  },
  {
   "cell_type": "markdown",
   "metadata": {},
   "source": [
    "Create an expression that uses both `/` and `//`. Make sure your expression evaluates to 4.5."
   ]
  },
  {
   "cell_type": "code",
   "execution_count": null,
   "metadata": {},
   "outputs": [],
   "source": [
    "(18//2) / 2 # example"
   ]
  },
  {
   "cell_type": "code",
   "execution_count": null,
   "metadata": {},
   "outputs": [],
   "source": [
    "# Put your answer here\n",
    "..."
   ]
  },
  {
   "cell_type": "markdown",
   "metadata": {},
   "source": [
    "---\n",
    "\n",
    "## Question 2b\n",
    "\n",
    "Remainder and Exponents"
   ]
  },
  {
   "cell_type": "markdown",
   "metadata": {},
   "source": [
    "The remainder operator uses the symbol `%`. The exponent operator uses the symbol `**` (two asterisks)"
   ]
  },
  {
   "cell_type": "code",
   "execution_count": null,
   "metadata": {},
   "outputs": [],
   "source": [
    "10%2"
   ]
  },
  {
   "cell_type": "code",
   "execution_count": null,
   "metadata": {},
   "outputs": [],
   "source": [
    "10%3"
   ]
  },
  {
   "cell_type": "markdown",
   "metadata": {},
   "source": [
    "Create an expression that uses `%`. Make sure your expression evaluates to 4."
   ]
  },
  {
   "cell_type": "code",
   "execution_count": null,
   "metadata": {},
   "outputs": [],
   "source": [
    "121%9 # example"
   ]
  },
  {
   "cell_type": "code",
   "execution_count": null,
   "metadata": {},
   "outputs": [],
   "source": [
    "# Put your answer here\n",
    "..."
   ]
  },
  {
   "cell_type": "markdown",
   "metadata": {},
   "source": [
    "Create an expression that uses `**`. Make sure your expression evaluates to 625."
   ]
  },
  {
   "cell_type": "code",
   "execution_count": null,
   "metadata": {},
   "outputs": [],
   "source": [
    "5**4 # example"
   ]
  },
  {
   "cell_type": "code",
   "execution_count": null,
   "metadata": {},
   "outputs": [],
   "source": [
    "# Put your answer here\n",
    "..."
   ]
  },
  {
   "cell_type": "markdown",
   "metadata": {},
   "source": [
    "Replace the ellipses `...` with a number such that the following expression evaluates to 169"
   ]
  },
  {
   "cell_type": "code",
   "execution_count": null,
   "metadata": {},
   "outputs": [],
   "source": [
    "(...%20)**2"
   ]
  },
  {
   "cell_type": "markdown",
   "metadata": {},
   "source": [
    "<!-- BEGIN QUESTION -->\n",
    "\n",
    "<br/><br/>\n",
    "\n",
    "<hr style=\"border: 1px solid #fdb515;\" />\n",
    "\n",
    "# Question 3 – Markdown\n",
    "\n",
    "[Markdown](https://en.wikipedia.org/wiki/Markdown) isn't a programming language – it's a \"markup language\", which means that it is designed to format text to look nice. But like a programming language, Markdown has a set of rules (syntax) that govern how it works. Think of it like a fancy Google Docs.\n",
    "\n",
    "Here are some of the most important rules in Markdown:\n",
    "\n",
    "- Double asterisks (`**`) are how we make words bold. `My name is **Jordan**` renders to \"My name is **Jordan**\".\n",
    "- Underscores (`_`) are how we make words italicized. `How are _you_?` renders to How are _you_?, and `what is **_up_**` renders to what is **_up_**.\n",
    "- Hashtags (`#`, `##`, `###`) are how we create titles/headings. The more hashtags you include, the smaller the title is. The title for this question was generated using `## Question 5 – Markdown`.\n",
    "- Bulleted lists are created using the (`-`) character.\n",
    "- Numbered lists are created the same way they're created in a standard word processor, like Google Docs.\n",
    "\n",
    "Markdown is important to learn because Jupyter Notebooks are often full of Markdown cells (just like this assignment). In future assignments, we will ask you to write answers to written questions using Markdown, and while the majority of your answers will be in plaintext (i.e. with none of the special characters above), learning Markdown is valuable nonetheless.\n",
    "\n",
    "### Task\n",
    "\n",
    "Your job is to recreate the output in the following screenshot, using the Markdown cell below. Feel free to replace \"Bongo Burger\" and \"K-Pop\" with your own favorite food and music genre, but make sure the formatting is the same.\n",
    "\n",
    "<img src='images/markdown1.png' width=300>\n",
    "\n",
    "This is the first question in this homework where we will grade your work manually instead of relying on an autograder. There will be a few of these questions.\n",
    "\n",
    "<!--\n",
    "BEGIN QUESTION\n",
    "name: q3\n",
    "points: 2\n",
    "manual: true\n",
    "-->"
   ]
  },
  {
   "cell_type": "markdown",
   "metadata": {},
   "source": [
    "_Put your answer here_\n",
    "\n",
    "..."
   ]
  },
  {
   "cell_type": "markdown",
   "metadata": {},
   "source": [
    " "
   ]
  },
  {
   "cell_type": "markdown",
   "metadata": {},
   "source": [
    "## Submission\n",
    "\n",
    "Make sure you have run all cells in your notebook in order before running the cell below, so that all images/graphs appear in the output. \n",
    "\n",
    "**Please create a PDF using File->Download as->PDF via Latex**"
   ]
  }
 ],
 "metadata": {
  "kernelspec": {
   "display_name": "Python 3 (ipykernel)",
   "language": "python",
   "name": "python3"
  },
  "language_info": {
   "codemirror_mode": {
    "name": "ipython",
    "version": 3
   },
   "file_extension": ".py",
   "mimetype": "text/x-python",
   "name": "python",
   "nbconvert_exporter": "python",
   "pygments_lexer": "ipython3",
   "version": "3.11.4"
  }
 },
 "nbformat": 4,
 "nbformat_minor": 4
}
