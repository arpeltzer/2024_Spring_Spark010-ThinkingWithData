{
 "cells": [
  {
   "cell_type": "markdown",
   "id": "af12db6c-e96e-4c6f-8aa9-d745d25b3fb3",
   "metadata": {
    "editable": false,
    "slideshow": {
     "slide_type": ""
    },
    "tags": []
   },
   "source": [
    "# Homework 2 – Names, Data Types, Functions, and Arrays\n",
    "\n",
    "## Spark 010, Spring 2024\n",
    "\n",
    "In this homework assignment, you will get more familiar with the different data types you have learned so far.  You will also be using additional functions for performing different operations.  Finally you will work on exercises involving arrays.\n",
    "\n",
    "This homework is due on **Wednesday February 7th, at 3:00 PM**. You must submit the assignment on [CatCourses](https://catcourses.ucmerced.edu/courses/31104/assignments/404738). Your assignment can be exported as PDF directly from JupyterHub."
   ]
  },
  {
   "cell_type": "markdown",
   "id": "8cf45df5-68bd-4cf1-9a29-2a52c6c54c57",
   "metadata": {
    "editable": false,
    "slideshow": {
     "slide_type": ""
    },
    "tags": []
   },
   "source": [
    "<hr style=\"border: 5px solid #003262;\" />\n",
    "<hr style=\"border: 1px solid #fdb515;\" />\n",
    "\n",
    "# 1. Discrete Compounding"
   ]
  },
  {
   "cell_type": "markdown",
   "id": "153b2218-e95f-4558-b592-e5d4093d469b",
   "metadata": {
    "editable": false,
    "slideshow": {
     "slide_type": ""
    },
    "tags": []
   },
   "source": [
    "**For this problem, assume you are depositing money in a bank that accrues interest over time and does not impose maintenance fees.  You start off by depositing \\$5000 in the account initially.**"
   ]
  },
  {
   "cell_type": "markdown",
   "id": "012cec28-9696-4aec-9ffb-c922ed5efcaf",
   "metadata": {
    "editable": false,
    "slideshow": {
     "slide_type": ""
    },
    "tags": []
   },
   "source": [
    "## 1.1\n",
    "\n",
    "Assume that the money in your account will accrue interest at a rate of 10% each year.  **Assign values** to the names `starting_balance` and `interest_rate` using the information provided above.  You should have both an integer value and a floating point value in your answer."
   ]
  },
  {
   "cell_type": "code",
   "execution_count": null,
   "id": "3ebc65d2-fdea-4da5-8c03-2f813b55c369",
   "metadata": {
    "editable": true,
    "slideshow": {
     "slide_type": ""
    },
    "tags": []
   },
   "outputs": [],
   "source": [
    "starting_balance = ...\n",
    "interest_rate = ..."
   ]
  },
  {
   "cell_type": "markdown",
   "id": "aaa6ca2a-bc89-4db4-94be-e14b4d5c03c9",
   "metadata": {
    "editable": false,
    "slideshow": {
     "slide_type": ""
    },
    "tags": []
   },
   "source": [
    "## 1.2"
   ]
  },
  {
   "cell_type": "markdown",
   "id": "4c7252f5-a61d-4304-8151-e22b52eb912f",
   "metadata": {
    "editable": false,
    "slideshow": {
     "slide_type": ""
    },
    "tags": []
   },
   "source": [
    "**How much money will be in your account after one year?**  First, assign the amount of money accrued through interest after one year.  Then, add this result to the amount of money your account originally started with."
   ]
  },
  {
   "cell_type": "code",
   "execution_count": null,
   "id": "027699a5-422b-43c1-bb81-ca7aca7becbf",
   "metadata": {
    "editable": true,
    "slideshow": {
     "slide_type": ""
    },
    "tags": []
   },
   "outputs": [],
   "source": [
    "interest_earned = ...\n",
    "new_balance = ...\n",
    "new_balance"
   ]
  },
  {
   "cell_type": "markdown",
   "id": "cbc457cf-548c-4112-a494-fa87562e4f2a",
   "metadata": {
    "editable": false,
    "slideshow": {
     "slide_type": ""
    },
    "tags": []
   },
   "source": [
    "## 1.3"
   ]
  },
  {
   "cell_type": "markdown",
   "id": "d5bf5d22-d11c-4140-854c-b349ef4afc14",
   "metadata": {
    "editable": false,
    "slideshow": {
     "slide_type": ""
    },
    "tags": []
   },
   "source": [
    "If we want to predict the amount of money in the account over a longer period of time, we can utilize the strategy of **discrete compounding** using the following formula:\n",
    "\n",
    "$F = P*(1 + r)^t$, $\\qquad$ where\n",
    "\n",
    "- $P$ is the initial amount of money in the account,\n",
    "- $t$ is the amount of time that has passed,\n",
    "- $r$ is the interest rate per unit time $t$, and\n",
    "- $F$ is the amount of money in the account after time $t$."
   ]
  },
  {
   "cell_type": "markdown",
   "id": "b189a183-6e47-48dd-9e27-c36826d0d9e7",
   "metadata": {
    "editable": false,
    "slideshow": {
     "slide_type": ""
    },
    "tags": []
   },
   "source": [
    "Assume that the inital amount of money we start with and the interest rate is the same as before.  How much money should we expect to have in our account after **10 years**?  Assign the appropriate values to each of the names below.\n",
    "\n",
    "Note: The units of time $t$ are in years, and $r$ should be a `float` between 0 and 1."
   ]
  },
  {
   "cell_type": "code",
   "execution_count": null,
   "id": "3a7252e6-d941-40eb-aa88-5d2b40a15c8f",
   "metadata": {
    "editable": true,
    "slideshow": {
     "slide_type": ""
    },
    "tags": []
   },
   "outputs": [],
   "source": [
    "# Replace the ... with the right values.\n",
    "P = ...\n",
    "t = ...\n",
    "r = ...\n",
    "F = ...\n",
    "F"
   ]
  },
  {
   "cell_type": "markdown",
   "id": "7211dd2a-2bac-41b9-8eb2-bd8d30cca268",
   "metadata": {
    "editable": false,
    "slideshow": {
     "slide_type": ""
    },
    "tags": []
   },
   "source": [
    "## 1.4\n",
    "\n",
    "The previous exercise demonstrates how to calculate a balance such that only a single compunding event occurs each year.  In most cases however, account balances are updated on a **monthly** basis instead of an annual basis, meaning that a compounding event occurs each month instead of each year.  To account for this, we can revise the formula above as follows:"
   ]
  },
  {
   "cell_type": "markdown",
   "id": "e8df2456-3cbd-4c0d-903a-7a0a6cfdf123",
   "metadata": {
    "editable": false,
    "slideshow": {
     "slide_type": ""
    },
    "tags": []
   },
   "source": [
    "$F = P*\\left(1 + \\dfrac{r}{m}\\right)^{mt}$, $\\qquad$ where\n",
    "\n",
    "- $P$ is the initial amount of money in the account,\n",
    "- $t$ is the amount of time that has passed,\n",
    "- $r$ is the interest rate per unit time $t$,\n",
    "- $m$ is the number of compounding events per unit time $t$, and\n",
    "- $F$ is the amount of money in the account after time $t$."
   ]
  },
  {
   "cell_type": "markdown",
   "id": "73b9f091-7741-40ab-bfcf-7ac82204d384",
   "metadata": {
    "editable": false,
    "slideshow": {
     "slide_type": ""
    },
    "tags": []
   },
   "source": [
    "Once again, assume that you open a bank account with an initial balance of \\$5000 with an interest rate of 10% per year.  However, interest is added to your account monthly. Calculate the amount of money expected to be in the account after 10 years.  Does problem 1.3 or 1.4 give you a higher balance?"
   ]
  },
  {
   "cell_type": "code",
   "execution_count": null,
   "id": "75757058-7ae5-4ae0-90f9-6d00cced38cc",
   "metadata": {
    "editable": true,
    "slideshow": {
     "slide_type": ""
    },
    "tags": []
   },
   "outputs": [],
   "source": [
    "# Use what you have for problem 1.3 and modify this to account for multiple compounding events\n",
    "P = ...\n",
    "t = ...\n",
    "r = ...\n",
    "F = ...\n",
    "F"
   ]
  },
  {
   "cell_type": "markdown",
   "id": "17c61dd9-bf79-4fc1-bf52-87b4da17f62c",
   "metadata": {
    "editable": false,
    "slideshow": {
     "slide_type": ""
    },
    "tags": []
   },
   "source": [
    "<hr style=\"border: 5px solid #003262;\" />\n",
    "<hr style=\"border: 1px solid #fdb515;\" />\n",
    "\n",
    "# 2. Budgeting"
   ]
  },
  {
   "cell_type": "markdown",
   "id": "f0c5a937-734d-4a16-8247-4271aa9f795d",
   "metadata": {
    "editable": false,
    "slideshow": {
     "slide_type": ""
    },
    "tags": []
   },
   "source": [
    "**Assume you have recently accepted a new job in a new location and need to start making preparations to move.  There are a couple months left before you start your new job.  You narrowed your search down to three potential places to live:**\n",
    "\n",
    "- **Apartment 1 has a monthly rent of \\$900 and is 10 miles from your workplace,**\n",
    "- **Apartment 2 has a monthly rent of \\$850 and is 20 miles from your workplace, and**\n",
    "- **Apartment 3 has a monthly rent of \\$1000 and is 1 mile from your workplace.**"
   ]
  },
  {
   "cell_type": "markdown",
   "id": "9a54517f-101a-4c68-9da7-e80900aa02e9",
   "metadata": {
    "editable": false,
    "slideshow": {
     "slide_type": ""
    },
    "tags": []
   },
   "source": [
    "## 2.1\n",
    "\n",
    "Use the functions `max()` and `min()` to compute the maximum and minimum monthly rent values respectively across all three apartment choices.  Similarly, use these functions to compute the maximum and minimum travel distance respectively between home and work."
   ]
  },
  {
   "cell_type": "code",
   "execution_count": null,
   "id": "4b13d1d0-fbe8-4239-9cbc-1e1c8b1ffa32",
   "metadata": {
    "editable": true,
    "slideshow": {
     "slide_type": ""
    },
    "tags": []
   },
   "outputs": [],
   "source": [
    "maximum_rent = ...\n",
    "minimum_rent = ...\n",
    "\n",
    "maximum_distance = ...\n",
    "minimum_distance = ..."
   ]
  },
  {
   "cell_type": "markdown",
   "id": "fa4c4295-7d58-46d1-bbe1-c14a08363ca7",
   "metadata": {
    "editable": false,
    "slideshow": {
     "slide_type": ""
    },
    "tags": []
   },
   "source": [
    "## 2.2\n",
    "\n",
    "You are considering the option to purchase your own car that you will use primarily for driving between home and work.  After buying the car, you did a check on your finances:\n",
    "\n",
    "- You would be paying approximately \\\\$500 per month for this car.\n",
    "- You will be using it to travel to and from work 20 times per month.\n",
    "- You are expecting to pay \\\\$50 for every 300 miles that the car is driven."
   ]
  },
  {
   "cell_type": "markdown",
   "id": "60a090b2-cd69-47be-b3c5-673388aebb87",
   "metadata": {
    "editable": false,
    "slideshow": {
     "slide_type": ""
    },
    "tags": []
   },
   "source": [
    "**Assign a value** to `cost_per_mile`, which will incorporate the expected cost of driving your car 1 mile."
   ]
  },
  {
   "cell_type": "code",
   "execution_count": null,
   "id": "3fa533bb-dd3a-4e17-af0e-a806c229979a",
   "metadata": {
    "editable": true,
    "slideshow": {
     "slide_type": ""
    },
    "tags": []
   },
   "outputs": [],
   "source": [
    "# Cost of driving your car 1 mile\n",
    "cost_per_mile = ..."
   ]
  },
  {
   "cell_type": "markdown",
   "id": "159136aa-8d6a-4e07-9062-2211097d5e77",
   "metadata": {
    "editable": false,
    "slideshow": {
     "slide_type": ""
    },
    "tags": []
   },
   "source": [
    "**Assign values** to three names: `car_monthly_1`, `car_monthly_2`, and `car_monthly_3`, such that for each case, `car_monthly_#` is the expected total cost of owning and driving your car to and from work each month.  The cost of driving for case 1 has been provided for you.\n",
    "\n",
    "*Hint: Try writing the cost of driving as the product of distance traveled, number of miles traveled each month, and the cost of fuel per mile.  Don't forget that you are traveling to AND from work.*"
   ]
  },
  {
   "cell_type": "code",
   "execution_count": null,
   "id": "7cb11148-ed9b-4f9e-9b70-e24a5ac5f298",
   "metadata": {
    "editable": true,
    "slideshow": {
     "slide_type": ""
    },
    "tags": []
   },
   "outputs": [],
   "source": [
    "# What are the values of rent_car_#?\n",
    "car_monthly_1 = 500 + (10 * 2 * 20) * cost_per_mile\n",
    "car_monthly_2 = ...\n",
    "car_monthly_3 = ..."
   ]
  },
  {
   "cell_type": "markdown",
   "id": "6b95aea6-9efe-4162-8ffa-b258653d10ff",
   "metadata": {
    "editable": false,
    "slideshow": {
     "slide_type": ""
    },
    "tags": []
   },
   "source": [
    "Use the `min()` function to **calculate the minimum** cost of rent and vehicle/fuel across all the three apartment choices.  Which apartment would be the most appropriate to rent if you had a car?"
   ]
  },
  {
   "cell_type": "code",
   "execution_count": null,
   "id": "ae0a6d21-b633-4754-83a8-de820c3b445a",
   "metadata": {
    "editable": true,
    "slideshow": {
     "slide_type": ""
    },
    "tags": []
   },
   "outputs": [],
   "source": [
    "# What is the minimum cost of rent and fuel?\n",
    "min_cost = ...(..., ... ,...)\n",
    "\n",
    "# This prints the value above\n",
    "print(min_cost)\n",
    "\n",
    "# Which apartment is better: 1, 2, or 3?\n",
    "best_apartment = ..."
   ]
  },
  {
   "cell_type": "markdown",
   "id": "9f3b75e8-f70e-47c3-ac72-453615012d86",
   "metadata": {
    "editable": false,
    "slideshow": {
     "slide_type": ""
    },
    "tags": []
   },
   "source": [
    "<hr style=\"border: 5px solid #003262;\" />\n",
    "<hr style=\"border: 1px solid #fdb515;\" />\n",
    "\n",
    "# 3. Write to a File"
   ]
  },
  {
   "cell_type": "markdown",
   "id": "4ce8c9eb-7e2a-4bd4-8e96-8d0c7086649e",
   "metadata": {
    "editable": false,
    "slideshow": {
     "slide_type": ""
    },
    "tags": []
   },
   "source": [
    "Here, we will attempt to write text to a file.  At the end of this problem we provide the code for how to open a file, write to it, and close it after writing.  That file is then written to a specific location in your diectory.  If only the filename is present, then the file itself will be written in the same directory as this script."
   ]
  },
  {
   "cell_type": "markdown",
   "id": "259cd449-2ad1-412a-8837-6111fa390785",
   "metadata": {
    "editable": false,
    "slideshow": {
     "slide_type": ""
    },
    "tags": []
   },
   "source": [
    "First, **run the cell below** to initialize some of the values we will be using."
   ]
  },
  {
   "cell_type": "code",
   "execution_count": null,
   "id": "c824b839-e610-4048-ba79-9a8bb9751db9",
   "metadata": {
    "editable": true,
    "slideshow": {
     "slide_type": ""
    },
    "tags": []
   },
   "outputs": [],
   "source": [
    "this_month = \"Starting Around February \"\n",
    "this_day = 10\n",
    "this_request = \", Yosemite National Park will require reservations for \"\n",
    "request_length = 2.5\n",
    "this_rest = \" weeks for those who would like to see the firefall.\""
   ]
  },
  {
   "cell_type": "markdown",
   "id": "6814b95d-9f18-42bf-ac7d-ed2d2cb02361",
   "metadata": {
    "editable": false,
    "slideshow": {
     "slide_type": ""
    },
    "tags": []
   },
   "source": [
    "Using `print()` and `type()`, have the following cell **print out the data types** for the five names above.  The output should be something in the form `<class --->`."
   ]
  },
  {
   "cell_type": "code",
   "execution_count": null,
   "id": "f9b9e234-ae40-4a91-aa29-462c117c19fb",
   "metadata": {
    "editable": true,
    "slideshow": {
     "slide_type": ""
    },
    "tags": []
   },
   "outputs": [],
   "source": [
    "# Example\n",
    "print(type(\"This is a string\"))\n",
    "\n",
    "# Now, do the same with the five names above.\n",
    "\n",
    "\n"
   ]
  },
  {
   "cell_type": "markdown",
   "id": "c7123183-21c2-4223-82f0-a1db1347c305",
   "metadata": {
    "editable": false,
    "slideshow": {
     "slide_type": ""
    },
    "tags": []
   },
   "source": [
    "To write text to a file, we will need to ensure that the input is entirely a single string.  For names bound to \"non-string\" values, **reassign those names by typecasting those values as `string` data types**.\n",
    "\n",
    "*Hint: There are three functions that we dicussed in class, namely `int()`, `float()`, and `str()`.  Which one is appropriate to use here?*"
   ]
  },
  {
   "cell_type": "code",
   "execution_count": null,
   "id": "7b22903e-e5a4-4099-8bb5-b1b3edf25a0a",
   "metadata": {
    "editable": true,
    "slideshow": {
     "slide_type": ""
    },
    "tags": []
   },
   "outputs": [],
   "source": [
    "# Modify the cell below\n",
    "... = ...(...)\n",
    "... = ...(...)"
   ]
  },
  {
   "cell_type": "markdown",
   "id": "9bce0e3d-7db9-450b-a018-4f5b86ccd193",
   "metadata": {
    "editable": false,
    "slideshow": {
     "slide_type": ""
    },
    "tags": []
   },
   "source": [
    "At this step you should only have `string` values.  Now, put all five of the strings together into a single string by **concatenating** them to form a sentence."
   ]
  },
  {
   "cell_type": "code",
   "execution_count": null,
   "id": "69583285-d77f-47c0-aa51-8dfc51f809f4",
   "metadata": {
    "editable": true,
    "slideshow": {
     "slide_type": ""
    },
    "tags": []
   },
   "outputs": [],
   "source": [
    "# Concatenate the five strings into one long string.\n",
    "this_sentence = ..."
   ]
  },
  {
   "cell_type": "markdown",
   "id": "74a48f25-24f6-4341-b16c-e4708e8ce8fd",
   "metadata": {
    "editable": false,
    "slideshow": {
     "slide_type": ""
    },
    "tags": []
   },
   "source": [
    "Run the cell below to write `this_sentence` to a text file named \"Yosemite_Firefall.txt\"."
   ]
  },
  {
   "cell_type": "code",
   "execution_count": null,
   "id": "9621539b-c116-4284-8ddb-5091a3f14c13",
   "metadata": {
    "editable": true,
    "slideshow": {
     "slide_type": ""
    },
    "tags": []
   },
   "outputs": [],
   "source": [
    "# Write the text above to a file.\n",
    "f = open(\"Yosemite_Firefall.txt\",\"w\")\n",
    "f.write(this_sentence)\n",
    "f.close()"
   ]
  },
  {
   "cell_type": "markdown",
   "id": "3b7b9570-8d41-4de8-8ad3-0276a4bdf60b",
   "metadata": {
    "editable": false,
    "slideshow": {
     "slide_type": ""
    },
    "tags": []
   },
   "source": [
    "Finally, check this directory for a file named \"Yosemite_Firefall.txt\" and open it.  If you see the text corresponding to `this_sentence`, then you did everything right!"
   ]
  },
  {
   "cell_type": "markdown",
   "id": "3365ce2c-e634-4325-9759-af5901486179",
   "metadata": {
    "editable": false,
    "slideshow": {
     "slide_type": ""
    },
    "tags": []
   },
   "source": [
    "<hr style=\"border: 5px solid #003262;\" />\n",
    "<hr style=\"border: 1px solid #fdb515;\" />\n",
    "\n",
    "# 4. Numpy Arrays"
   ]
  },
  {
   "cell_type": "markdown",
   "id": "662ddd75-3fd7-4e0b-9551-ac3486582925",
   "metadata": {
    "editable": false,
    "slideshow": {
     "slide_type": ""
    },
    "tags": []
   },
   "source": [
    "Consider the following data, which is aggregated from two sources ([diabetes](https://quotewizard.com/news/states-with-highest-rate-of-diabetes) and [state populations](https://www.statsamerica.org/sip/rank_list.aspx?rank_label=pop1))."
   ]
  },
  {
   "cell_type": "markdown",
   "id": "2baa5a8f-8c7b-4fd0-a9bf-8c77aabd3e26",
   "metadata": {
    "slideshow": {
     "slide_type": ""
    },
    "tags": []
   },
   "source": [
    "\n",
    "<img src=\"images/S1.png\" style=\"width: 50%\">"
   ]
  },
  {
   "cell_type": "markdown",
   "id": "0fea7156-d4c4-4576-9141-a28b6bcdd8ed",
   "metadata": {
    "editable": false,
    "slideshow": {
     "slide_type": ""
    },
    "tags": []
   },
   "source": [
    "Find the number of people living in each state who have diabetes. Remember to use the `np.array` syntax"
   ]
  },
  {
   "cell_type": "code",
   "execution_count": 11,
   "id": "ef21d853-dcc7-41e6-a334-d85ae7882d6e",
   "metadata": {
    "editable": true,
    "slideshow": {
     "slide_type": ""
    },
    "tags": []
   },
   "outputs": [],
   "source": [
    "import numpy as np"
   ]
  },
  {
   "cell_type": "code",
   "execution_count": 13,
   "id": "c1e07d2f-8f81-4039-9f3c-1c0151d4a08c",
   "metadata": {
    "editable": true,
    "slideshow": {
     "slide_type": ""
    },
    "tags": []
   },
   "outputs": [],
   "source": [
    "# Replace the ... with your answers\n",
    "pct_with_diabetes = np.array([.15,.08,.11,.13,.12])\n",
    "populations = ...\n",
    "num_with_diabetes = ..."
   ]
  },
  {
   "cell_type": "markdown",
   "id": "fcc4f477-6edf-41cf-a24e-44b3fb0d94bc",
   "metadata": {
    "editable": false,
    "slideshow": {
     "slide_type": ""
    },
    "tags": []
   },
   "source": [
    "Now consider the **Average diabetic health care costs** columns in our dataset. This is the average annual cost for each person who has diabetes in that state."
   ]
  },
  {
   "cell_type": "markdown",
   "id": "0918dfb0-e2e5-4f05-b41c-12d809959c87",
   "metadata": {
    "editable": false,
    "slideshow": {
     "slide_type": ""
    },
    "tags": []
   },
   "source": [
    "Calculate the total amount spent by diabetes patients on health care costs for each state. "
   ]
  },
  {
   "cell_type": "code",
   "execution_count": 14,
   "id": "15521cf9-0fb2-4ccd-8325-7742d8ebcc48",
   "metadata": {
    "editable": true,
    "slideshow": {
     "slide_type": ""
    },
    "tags": []
   },
   "outputs": [],
   "source": [
    "# Replace the ... with your answers\n",
    "num_with_diabetes = ...\n",
    "total_cost_by_state = ..."
   ]
  },
  {
   "cell_type": "markdown",
   "id": "e4410a26-aaab-422e-9ed1-6b5d309bbfa8",
   "metadata": {
    "editable": false,
    "slideshow": {
     "slide_type": ""
    },
    "tags": []
   },
   "source": [
    "Which state has spent the most money on diabetes-related health care costs?"
   ]
  },
  {
   "cell_type": "code",
   "execution_count": 16,
   "id": "dd2a98f6-3760-4ff4-a747-8581a4eb1262",
   "metadata": {
    "editable": true,
    "slideshow": {
     "slide_type": ""
    },
    "tags": []
   },
   "outputs": [
    {
     "name": "stdout",
     "output_type": "stream",
     "text": [
      "Ellipsis\n"
     ]
    }
   ],
   "source": [
    "state = ...\n",
    "print(state)"
   ]
  },
  {
   "cell_type": "markdown",
   "id": "36e9324a-40b9-43b4-ab4d-d274bd3e3342",
   "metadata": {
    "editable": false,
    "slideshow": {
     "slide_type": ""
    },
    "tags": []
   },
   "source": [
    "## Submission\n",
    "\n",
    "Make sure you have run all cells in your notebook so that all images/graphs (if any) appear in the output before preparing to submit your work.  **Please create a PDF using File->Save and Export Notebook as->PDF**, then upload this document to the appropriate assignment on Catcourses."
   ]
  }
 ],
 "metadata": {
  "kernelspec": {
   "display_name": "Python 3 (ipykernel)",
   "language": "python",
   "name": "python3"
  },
  "language_info": {
   "codemirror_mode": {
    "name": "ipython",
    "version": 3
   },
   "file_extension": ".py",
   "mimetype": "text/x-python",
   "name": "python",
   "nbconvert_exporter": "python",
   "pygments_lexer": "ipython3",
   "version": "3.11.4"
  }
 },
 "nbformat": 4,
 "nbformat_minor": 5
}
