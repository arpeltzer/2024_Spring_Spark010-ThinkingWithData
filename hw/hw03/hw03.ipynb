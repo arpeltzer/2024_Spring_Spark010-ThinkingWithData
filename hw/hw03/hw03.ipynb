{
 "cells": [
  {
   "cell_type": "markdown",
   "id": "a8ce4062",
   "metadata": {},
   "source": [
    "# Homework 3 – World Internet Usage Data\n",
    "\n",
    "## Spark 010, Spring 2024\n",
    "\n",
    "In this homework assignment, you will look at a dataset which shows the number of internet users per country between 1990 and 2020.  The raw data can be found here: https://ourworldindata.org/.  Subsequently we will also attempt to integrate population data from a different source into this work so that we can make better comparisons between the number of internet users in a country with respect to its total population.  The population data across each country can be found here: https://data.worldbank.org/indicator/SP.POP.TOTL.  Both datasets have been made available on our JupyterHub for you to view.\n",
    "\n",
    "This homework is due on **Wednesday February 21st, at 3:00 PM**. You must submit the assignment on [CatCourses](https://catcourses.ucmerced.edu/courses/31104/assignments/417798). Your assignment can be exported as PDF directly from JupyterHub."
   ]
  },
  {
   "cell_type": "markdown",
   "id": "f166d518",
   "metadata": {},
   "source": [
    "<hr style=\"border: 5px solid #003262;\" />\n",
    "<hr style=\"border: 1px solid #fdb515;\" />\n",
    "\n",
    "# 0. Import Packages"
   ]
  },
  {
   "cell_type": "markdown",
   "id": "952ab707",
   "metadata": {},
   "source": [
    "The following packages below will be used throughout this assignment.  Please run the cell below first before moving on to the first prompt."
   ]
  },
  {
   "cell_type": "code",
   "execution_count": null,
   "id": "d6bb86a0",
   "metadata": {},
   "outputs": [],
   "source": [
    "# Run this cell\n",
    "import numpy as np\n",
    "import pandas as pd\n",
    "import matplotlib.pyplot as plt"
   ]
  },
  {
   "cell_type": "markdown",
   "id": "c4f442ee",
   "metadata": {},
   "source": [
    "# 1. Number of Internet Users"
   ]
  },
  {
   "cell_type": "markdown",
   "id": "c8859152",
   "metadata": {},
   "source": [
    "In 2020, approximately 60\\% of the world population had access to the internet.  Run the cell below to load the CSV file containing internet usage data from 1990-2020."
   ]
  },
  {
   "cell_type": "code",
   "execution_count": null,
   "id": "78cd64e4",
   "metadata": {},
   "outputs": [],
   "source": [
    "# Load the dataset\n",
    "internet_data = pd.read_csv('data/number-of-internet-users.csv')\n",
    "internet_data"
   ]
  },
  {
   "cell_type": "markdown",
   "id": "02102064",
   "metadata": {},
   "source": [
    "Note that each row corresponds to a pair of values, namely the country (Entity) and the Year at which the data was collected.  With 31 years of data across more than 200 countries, this gives us approximately 6400 rows of data to sift through."
   ]
  },
  {
   "cell_type": "markdown",
   "id": "0944f245",
   "metadata": {},
   "source": [
    "## 1.1\n",
    "\n",
    "Let us narrow down our exploratory data analysis by finding the **five countries** which had the **highest number of internet users in 2020**.  We will need to do this in two steps:\n",
    "- First, by only looking at data corresponding to the year 2020.\n",
    "- Second, by locating the five countries with the highest number of internet users."
   ]
  },
  {
   "cell_type": "code",
   "execution_count": null,
   "id": "67a25478",
   "metadata": {},
   "outputs": [],
   "source": [
    "# First, find the rows which have a Year of 2020\n",
    "internet_data_year_2020 = internet_data[...] == ...\n",
    "\n",
    "# Next, use the above to filter out rowsn from the dataframe that do not have Year as 2020.\n",
    "internet_data_2020 = internet_data[...]\n",
    "\n",
    "internet_data_2020"
   ]
  },
  {
   "cell_type": "markdown",
   "id": "85201241",
   "metadata": {},
   "source": [
    "## 1.2\n",
    "\n",
    "Now that we only have data from the year 2020, we need to find the rows correspinding to the highest number of internet users.  The most convenient way to do this will be to sort the rows of the table, which can be done using the method `sort_values()`.  One argument is required, anmely the coluum or columns on which to sort the table.  Furthermore, if we want the highest value to appear at the top of the table, we can specify an dditional argument `ascending=False`.\n",
    "\n",
    "**Replace the ellipses `...` in the code below** and execute it to **sort the 2020 data table by the number of internet users**, and **display the first five rows of the sorted table**.  The `by` argument should be the name of the column to be sorted."
   ]
  },
  {
   "cell_type": "code",
   "execution_count": null,
   "id": "09e428c2",
   "metadata": {},
   "outputs": [],
   "source": [
    "internet_data_2020_high = internet_data_2020.sort_values(by=[...], ascending=False).head(...)\n",
    "internet_data_2020_high"
   ]
  },
  {
   "cell_type": "markdown",
   "id": "20da9b0f",
   "metadata": {},
   "source": [
    "Notice that the `Entity` columns in the dataframe doesn't just contain country names, but also the names of continents, and country categories such as `upper-middle-income conuntries`.  While we don't have a `Country` column, there are only a small number of names which aren't individual countries.  With this in mind, we can opt toward **manually creating a list of names** to use as a filter given what we know so far.\n",
    "\n",
    "Recall that the `head()` method is used to display a specific number of rows of a dataframe.  Using the function previously, **change the argument of `head` below** until you have Entities corresponding to **five countries**."
   ]
  },
  {
   "cell_type": "code",
   "execution_count": null,
   "id": "ec2a2b35",
   "metadata": {},
   "outputs": [],
   "source": [
    "internet_data_2020_high = internet_data_2020.sort_values(by=['Number of Internet users'], ascending=False).head(...)\n",
    "internet_data_2020_high"
   ]
  },
  {
   "cell_type": "markdown",
   "id": "f4f615f4",
   "metadata": {},
   "source": [
    "## 1.3\n",
    "\n",
    "**Replace the five ellipses (`...`) with the first five countries under the `Entity` column you see in the table**.  Make sure that each of the countries below are each between quotes `' '`.\n"
   ]
  },
  {
   "cell_type": "code",
   "execution_count": null,
   "id": "f5e6fb1f",
   "metadata": {},
   "outputs": [],
   "source": [
    "# Replace the five ellipses (...) with the first five countries you see in the table corresponding to the highest number of internet users.\n",
    "internet_users_five_highest = [..., ..., ..., ..., ...]"
   ]
  },
  {
   "cell_type": "markdown",
   "id": "cdff6f3c",
   "metadata": {},
   "source": [
    "Note that each entry for `Entity` is a `string`.  We want to find all rows in the 2020 table which match any one of these five country names.  To do that, we will use the method `isin()`.  This will return `True` for each row such that the `string` in the table exactly matches any one of the country names in the last we just created.\n",
    "\n",
    "**Replace the ellipses (`...`) below to ensure we are looking for the rows in the 2020 table such that the data under `Entity` matches one of the five country names in your list above.**"
   ]
  },
  {
   "cell_type": "code",
   "execution_count": null,
   "id": "49854110",
   "metadata": {},
   "outputs": [],
   "source": [
    "internet_data_2020_five_countries = internet_data_2020[...].isin(...)\n",
    "internet_data_2020_high = internet_data_2020[...]\n",
    "\n",
    "internet_data_2020_high"
   ]
  },
  {
   "cell_type": "markdown",
   "id": "9cc45906",
   "metadata": {},
   "source": [
    "Now that we have data on the five countries for 2020, let's look at the data across all of years 1990-2020 for these five countries.\n",
    "\n",
    "**Modify the previous cell such that you are filtering the full dataset instead of just the data from 2020.**  Then, sort the table to ensure `Entity` and `Year` are in chronological order."
   ]
  },
  {
   "cell_type": "code",
   "execution_count": null,
   "id": "6e42525e",
   "metadata": {},
   "outputs": [],
   "source": [
    "# Next, find the five countries with the highest number of internet users.\n",
    "internet_data_high = internet_data[internet_data[...].isin(...)]\n",
    "internet_data_high = internet_data_high.sort_values(by=[..., ...])\n",
    "internet_data_high = internet_data_high.reset_index(drop=True)\n",
    "\n",
    "internet_data_high"
   ]
  },
  {
   "cell_type": "markdown",
   "id": "54d75aac",
   "metadata": {},
   "source": [
    "## 1.4\n",
    "\n",
    "Now, let's look at the number of internet users for a single country.\n",
    "**Select the rows whose entity matches the first name in your list.**"
   ]
  },
  {
   "cell_type": "code",
   "execution_count": null,
   "id": "3b39093c",
   "metadata": {},
   "outputs": [],
   "source": [
    "internet_data_high_1 = internet_data_high[internet_data_high[...] == ...]\n",
    "internet_data_high_1"
   ]
  },
  {
   "cell_type": "markdown",
   "id": "7d09a2ed",
   "metadata": {},
   "source": [
    "**Do the same thing as above** for the other for the other four countries in your list.  Store these as individual dataframes."
   ]
  },
  {
   "cell_type": "code",
   "execution_count": null,
   "id": "4651b83f",
   "metadata": {},
   "outputs": [],
   "source": [
    "internet_data_high_2 = internet_data_high[internet_data_high[...] == ...]\n",
    "internet_data_high_3 = internet_data_high[internet_data_high[...] == ...]\n",
    "internet_data_high_4 = internet_data_high[internet_data_high[...] == ...]\n",
    "internet_data_high_5 = internet_data_high[internet_data_high[...] == ...]\n"
   ]
  },
  {
   "cell_type": "markdown",
   "id": "1aac145a",
   "metadata": {},
   "source": [
    "## 1.5\n",
    "\n",
    "Now we are ready to visualize what this data looks like in a plot!\n",
    "\n",
    "For the code below, **replace the ellipses (`...`) where it's written `label='...'` with the name of the country in your list**.  Note: Make sure the country name you are using for the label matches the table in which you filtered by the same country name.  You should be using each country name exactly once.\n",
    "\n",
    "Run the cell below once you've done the above to see what the plot looks like."
   ]
  },
  {
   "cell_type": "code",
   "execution_count": null,
   "id": "23771128",
   "metadata": {},
   "outputs": [],
   "source": [
    "# Run this cell\n",
    "\n",
    "\n",
    "fig1, ax = plt.subplots(figsize=(7,5))\n",
    "ax.plot(internet_data_high_1['Year'], internet_data_high_1['Number of Internet users']/1e6, label='...')\n",
    "ax.plot(internet_data_high_2['Year'], internet_data_high_2['Number of Internet users']/1e6, label='...')\n",
    "ax.plot(internet_data_high_3['Year'], internet_data_high_3['Number of Internet users']/1e6, label='...')\n",
    "ax.plot(internet_data_high_4['Year'], internet_data_high_4['Number of Internet users']/1e6, label='...')\n",
    "ax.plot(internet_data_high_5['Year'], internet_data_high_5['Number of Internet users']/1e6, label='...')\n",
    "ax.set_title('Number of Internet Users by Country' , fontsize=16)\n",
    "ax.set_xlabel('Year', fontsize=14)\n",
    "ax.set_ylabel('Number of Internet Users (in Millions)', fontsize=14)\n",
    "ax.ticklabel_format(style='plain')\n",
    "ax.legend(loc='upper left', fontsize=12)\n",
    "\n",
    "fig1.show()"
   ]
  },
  {
   "cell_type": "markdown",
   "id": "3d964f95",
   "metadata": {},
   "source": [
    "# 2. Integrating World Population Data"
   ]
  },
  {
   "cell_type": "markdown",
   "id": "dc951722",
   "metadata": {},
   "source": [
    "While we have a number of individuals in each country with internet access, this doens't account for the size of the country.  Let's try to remedy this by including information about the population of each country in order to make more balanced comparisons.\n",
    "\n",
    "**Run the cell below** to load in the CSV file containing population counts for each country."
   ]
  },
  {
   "cell_type": "code",
   "execution_count": null,
   "id": "a6104c31",
   "metadata": {},
   "outputs": [],
   "source": [
    "pop_data = pd.read_csv('data/world-population.csv')\n",
    "pop_data"
   ]
  },
  {
   "cell_type": "markdown",
   "id": "bb30b0f8",
   "metadata": {},
   "source": [
    "## 2.1\n",
    "\n",
    "We have two problems, the biggest one being that each year is a column.  Let's dead with the minor issue first which are the the unecessary columns `Indicator Name` and `Indicator Code`.\n",
    "\n",
    "**Create a new dataframe which has all the rows and columns except for the `Indicator Name` and `Indicator Code` columns.**"
   ]
  },
  {
   "cell_type": "code",
   "execution_count": null,
   "id": "01d2732e",
   "metadata": {},
   "outputs": [],
   "source": [
    "pop_data_dropped = pop_data.drop(columns=[..., ...])\n",
    "pop_data_dropped"
   ]
  },
  {
   "cell_type": "markdown",
   "id": "660d125a",
   "metadata": {},
   "source": [
    "## 2.2\n",
    "\n",
    "While the annoying part is that we have a column for each year, this will actually be an advantage to us.  How can we create a row for each country with ony one year instead of multiple.  There is a special method for dataframes: namely, `melt()`.  There are three required arguments to pass to this method:\n",
    "\n",
    "- `id_vars` is a list of column names that will be expanded.  Any column names not in here will be condensed (or unpivoted) into one.\n",
    "- `var_name` is the name of the resulting condensed column\n",
    "- `value_name` is the name of the column containing the values from the columns set to be condensed.\n",
    "\n",
    "**Using `melt()`, create a new dataframe where each row has a country with a *single year column*.**  For this, the `var_name` argument should be `'Year'` since we are condensing all the Year columns into a single year column, and the `value_name` argument should be `'Population'` since the values under all the original Year columns are population counts for those years."
   ]
  },
  {
   "cell_type": "code",
   "execution_count": null,
   "id": "d1ac8cd6",
   "metadata": {},
   "outputs": [],
   "source": [
    "# Use melt() to create a single year column and a single population column by expanding the two country columns\n",
    "melted_pop_data = pop_data_dropped.melt(id_vars=[..., ...], var_name=..., value_name=...)\n",
    "\n",
    "# Make Year integers for each row (leave this alone)\n",
    "melted_pop_data['Year'] = melted_pop_data['Year'].astype(int)\n",
    "\n",
    "melted_pop_data"
   ]
  },
  {
   "cell_type": "markdown",
   "id": "6f099cc9",
   "metadata": {},
   "source": [
    "## 2.3\n",
    "\n",
    "This table should now be formatted exactly the same way as the internet users table, with the exception of the column names.  The next step is to ensure this data is in the same range as in the previous table, namely the range of years should be 1990-2020.\n",
    "\n",
    "**Filter this table such that the only rows remaining are those with `Year` between 1990 and 2020.**  Next, sort the table such that `Country Name` and `Year` are in chronological order.  Finally, filter the sorted table such that only the rows corresponding to the five countries you used before are kept."
   ]
  },
  {
   "cell_type": "code",
   "execution_count": null,
   "id": "9843c248",
   "metadata": {},
   "outputs": [],
   "source": [
    "# Use boolean indexing to get data from 1990-2020.\n",
    "ranged_pop_data = melted_pop_data[(...) & (...)]\n",
    "\n",
    "# Search for the rows with one of the country names from before\n",
    "ranged_pop_data_high = ranged_pop_data[ranged_pop_data[...].isin(...)]\n",
    "\n",
    "# Sort the rows, keeping the country and year in chronological order and keeping the data on each country close together.\n",
    "ranged_pop_data_sorted = ranged_pop_data_high.sort_values(by=[..., ...], ascending=[..., ...])\n",
    "\n",
    "# Leave this part alone\n",
    "ranged_pop_data_sorted = ranged_pop_data_sorted.reset_index(drop=True)\n",
    "\n",
    "# Display the sorted table\n",
    "ranged_pop_data_sorted"
   ]
  },
  {
   "cell_type": "markdown",
   "id": "e5812b60",
   "metadata": {},
   "source": [
    "Now, **use the same five countries as before to create five dataframes containing the population of each country by year.**"
   ]
  },
  {
   "cell_type": "code",
   "execution_count": null,
   "id": "1735b2f6",
   "metadata": {},
   "outputs": [],
   "source": [
    "pop_data_high_1 = ranged_pop_data_sorted[...]\n",
    "pop_data_high_2 = ranged_pop_data_sorted[...]\n",
    "pop_data_high_3 = ranged_pop_data_sorted[...]\n",
    "pop_data_high_4 = ranged_pop_data_sorted[...]\n",
    "pop_data_high_5 = ranged_pop_data_sorted[...]\n",
    "\n",
    "# See what one of the tables looks like\n",
    "pop_data_high_1"
   ]
  },
  {
   "cell_type": "markdown",
   "id": "5858f8e3",
   "metadata": {},
   "source": [
    "## 2.4\n",
    "\n",
    "Finally, we just need to obtain an array of population proportions for each country actively using the internet.  **Assign an array for each of the five countries** that stores these proportions from 1990-2020."
   ]
  },
  {
   "cell_type": "code",
   "execution_count": null,
   "id": "37ee6090",
   "metadata": {},
   "outputs": [],
   "source": [
    "# Get arrays for each country that represent the proportion of individuals in the country with internet access each year.\n",
    "\n",
    "prop_internet_data_1 = internet_data_high_1['Number of Internet users'] / pop_data_high_1['Population']\n",
    "\n",
    "prop_internet_data_2 = internet_data_high_2[...] / pop_data_high_2[...]\n",
    "prop_internet_data_3 = internet_data_high_3[...] / pop_data_high_3[...]\n",
    "prop_internet_data_4 = internet_data_high_4[...] / pop_data_high_4[...]\n",
    "prop_internet_data_5 = internet_data_high_5[...] / pop_data_high_5[...]\n"
   ]
  },
  {
   "cell_type": "markdown",
   "id": "3f31add0",
   "metadata": {},
   "source": [
    "**Create a set of line plots** which, for each country, plots the proportion of the population actively using the internet.  The axes have been defined as `ax` which has a `plot` method.  You can prepare a plot by calling `ax.plot(x_data, y_data, label=label_name)` for each pair of data you would like to plot.  Use the setup from 1.5 to make these line plots."
   ]
  },
  {
   "cell_type": "code",
   "execution_count": null,
   "id": "40dfb17c",
   "metadata": {},
   "outputs": [],
   "source": [
    "# Run this cell\n",
    "\n",
    "fig2, ax = plt.subplots(figsize=(7,5))\n",
    "ax.plot(..., ..., label='...')\n",
    "ax.plot(..., ..., label='...')\n",
    "ax.plot(..., ..., label='...')\n",
    "ax.plot(..., ..., label='...')\n",
    "ax.plot(..., ..., label='...')\n",
    "ax.set_title('Proportion of Population with Internet Access' , fontsize=16)\n",
    "ax.set_xlabel('Year', fontsize=14)\n",
    "ax.set_ylabel('Proportion of Internet Users', fontsize=14)\n",
    "ax.set_ylim([0, 1])\n",
    "ax.ticklabel_format(style='plain')\n",
    "ax.legend(loc='upper left', fontsize=12)\n",
    "\n",
    "fig2 = plt.gcf()\n",
    "\n",
    "fig2.show()\n",
    "\n"
   ]
  },
  {
   "cell_type": "markdown",
   "id": "64863c03",
   "metadata": {},
   "source": [
    "# 3. Interpreting the Data"
   ]
  },
  {
   "cell_type": "markdown",
   "id": "2231d4b5",
   "metadata": {},
   "source": [
    "Run the cell below to show the two plots you created previously."
   ]
  },
  {
   "cell_type": "code",
   "execution_count": null,
   "id": "c01ae58a",
   "metadata": {},
   "outputs": [],
   "source": [
    "display(fig1, fig2)"
   ]
  },
  {
   "cell_type": "markdown",
   "id": "1b8f3e5b",
   "metadata": {},
   "source": [
    "**Look at both of the line plots you created in this notebook.  Write a few sentences on what you can say about the proportion of the population in each country with access to the internet between the years 1990-2020.**"
   ]
  },
  {
   "cell_type": "markdown",
   "id": "b5631df0",
   "metadata": {},
   "source": [
    "*type your answer here* or below"
   ]
  },
  {
   "cell_type": "markdown",
   "id": "d61265eb",
   "metadata": {},
   "source": []
  }
 ],
 "metadata": {
  "kernelspec": {
   "display_name": "Python 3 (ipykernel)",
   "language": "python",
   "name": "python3"
  },
  "language_info": {
   "codemirror_mode": {
    "name": "ipython",
    "version": 3
   },
   "file_extension": ".py",
   "mimetype": "text/x-python",
   "name": "python",
   "nbconvert_exporter": "python",
   "pygments_lexer": "ipython3",
   "version": "3.11.4"
  }
 },
 "nbformat": 4,
 "nbformat_minor": 5
}
