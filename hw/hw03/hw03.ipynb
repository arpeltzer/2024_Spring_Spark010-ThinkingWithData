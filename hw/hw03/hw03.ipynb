{
 "cells": [
  {
   "cell_type": "markdown",
   "id": "f5e41a78",
   "metadata": {},
   "source": [
    "# Homework 03 - Plotting\n",
    "\n",
    "### Spark 010, Spring 2024"
   ]
  },
  {
   "cell_type": "markdown",
   "id": "6ea34eaa",
   "metadata": {},
   "source": [
    "We will access `counties.csv` file which was downloaded from a [zillow](https://www.zillow.com/research/data/) database.\n",
    "\n",
    "The columns we will use are `RegionName` (county name), `State`, and any column with dates as labels. There is a column for every month in Jan 2000 through Jan 2024. Each column has each county's median home value for the corresponding month. For example, in the column labeled `2000-02-29` are the median home prices for February 2000.\n"
   ]
  },
  {
   "cell_type": "code",
   "execution_count": null,
   "id": "56451ffc",
   "metadata": {},
   "outputs": [],
   "source": [
    "# just run me\n",
    "import pandas as pd\n",
    "import matplotlib.pyplot as plt\n",
    "pd.set_option(\"display.max_columns\",None)\n",
    "pd.set_option(\"display.max_rows\",None)\n",
    "pd.options.display.width = 0\n",
    "pd.options.display.max_colwidth = 100"
   ]
  },
  {
   "cell_type": "code",
   "execution_count": null,
   "id": "d7a9f8ac",
   "metadata": {},
   "outputs": [],
   "source": [
    "# read the csv file\n",
    "Counties = pd.read_csv(\"data/zcounty.csv\")"
   ]
  },
  {
   "cell_type": "markdown",
   "id": "3f7bd9eb-6cfb-4749-93b4-1623cc20fc1a",
   "metadata": {},
   "source": [
    "Let's drop the columns we aren't going to use. This will make the table more readable."
   ]
  },
  {
   "cell_type": "code",
   "execution_count": null,
   "id": "b27d6277-0646-4c0d-9bbf-659448157d6b",
   "metadata": {},
   "outputs": [],
   "source": [
    "Counties = Counties.drop(columns = [\"Metro\",'RegionType','SizeRank','RegionID','StateCodeFIPS','MunicipalCodeFIPS','StateName'])\n",
    "Counties.head()"
   ]
  },
  {
   "cell_type": "markdown",
   "id": "b1444529-7ff1-4e9c-886f-b9679a3fd6ae",
   "metadata": {},
   "source": [
    "There seems to be a column for every month starting with Jan 2000 onto Jan 2024."
   ]
  },
  {
   "cell_type": "code",
   "execution_count": null,
   "id": "7d072c8a",
   "metadata": {},
   "outputs": [],
   "source": [
    "Counties.shape"
   ]
  },
  {
   "cell_type": "markdown",
   "id": "6eef1a45",
   "metadata": {},
   "source": [
    "Let's narrow our search to only include counties in California."
   ]
  },
  {
   "cell_type": "code",
   "execution_count": null,
   "id": "7738f331",
   "metadata": {},
   "outputs": [],
   "source": [
    "CA_counties = Counties[Counties['State'] == 'CA']\n",
    "CA_counties.head()"
   ]
  },
  {
   "cell_type": "markdown",
   "id": "31c4c9e5-e949-45b5-bd68-e59c1de893df",
   "metadata": {},
   "source": [
    "### Question 1: \n",
    "\n",
    "Which county had the highest median home sales value in February 2000? Feel free to use google, or even Chat GPT for help."
   ]
  },
  {
   "cell_type": "code",
   "execution_count": null,
   "id": "cc372713-7132-4079-a9aa-3de3a78211e3",
   "metadata": {},
   "outputs": [],
   "source": [
    "# Put you answer here"
   ]
  },
  {
   "cell_type": "code",
   "execution_count": null,
   "id": "588639cf-6c46-4fde-91ac-ff3ec309fe7b",
   "metadata": {},
   "outputs": [],
   "source": []
  },
  {
   "cell_type": "code",
   "execution_count": null,
   "id": "c325f5c8-9a2c-49d2-88fe-58809868af33",
   "metadata": {},
   "outputs": [],
   "source": [
    "# End Question 1"
   ]
  },
  {
   "cell_type": "markdown",
   "id": "33bc61e5",
   "metadata": {},
   "source": [
    "Let's isolate the rows corresponding to Merced and LA County."
   ]
  },
  {
   "cell_type": "code",
   "execution_count": null,
   "id": "fcd3d2d0",
   "metadata": {},
   "outputs": [],
   "source": [
    "Merced = CA_counties[CA_counties['RegionName'] == 'Merced County']\n",
    "LA = CA_counties[CA_counties['RegionName'] == 'Los Angeles County']"
   ]
  },
  {
   "cell_type": "code",
   "execution_count": null,
   "id": "4941d51a-fab4-4e8d-b316-5670378452ea",
   "metadata": {},
   "outputs": [],
   "source": [
    "Merced.head(10)"
   ]
  },
  {
   "cell_type": "markdown",
   "id": "25f4dc71-dc7a-4940-a5d8-f5ac46545c34",
   "metadata": {},
   "source": [
    "It looks like there was no Merced county data for the year 2000."
   ]
  },
  {
   "cell_type": "code",
   "execution_count": null,
   "id": "3634ffff-cefc-4b32-a2b5-1c22f25d0cfd",
   "metadata": {},
   "outputs": [],
   "source": [
    "LA.head(10)"
   ]
  },
  {
   "cell_type": "markdown",
   "id": "786a353f-ab03-49d6-b38b-686bf4ca9c0f",
   "metadata": {},
   "source": [
    "### Question 2:\n",
    "\n",
    "Which month was LA County's median home sales price highest?"
   ]
  },
  {
   "cell_type": "code",
   "execution_count": null,
   "id": "606a1af6-b576-45a7-89a5-edc7d33fd637",
   "metadata": {},
   "outputs": [],
   "source": [
    "# Put you answer here\n"
   ]
  },
  {
   "cell_type": "markdown",
   "id": "39719f41-5fd5-4dcb-ab48-42060cf07be5",
   "metadata": {},
   "source": [
    "Which month was Merced County's median home sales price highest?"
   ]
  },
  {
   "cell_type": "code",
   "execution_count": null,
   "id": "f0ab25a1-8d09-44d5-8990-c445f33f1a5e",
   "metadata": {},
   "outputs": [],
   "source": [
    "# Put you answer here\n"
   ]
  },
  {
   "cell_type": "code",
   "execution_count": null,
   "id": "71df36f2-a514-4ba2-b025-1db9adddbaa4",
   "metadata": {},
   "outputs": [],
   "source": []
  },
  {
   "cell_type": "code",
   "execution_count": null,
   "id": "dc479bb7-ce92-4a4e-8d43-5e07c4e122cc",
   "metadata": {},
   "outputs": [],
   "source": [
    "# End Question 2"
   ]
  },
  {
   "cell_type": "markdown",
   "id": "0d422598-ed2b-4e57-a35e-31258f36110e",
   "metadata": {},
   "source": [
    "## Plotting.\n",
    "\n",
    "It should be easier to visualize to tell what's going on by plotting the median home value over time. Although we haven't taught you everything used below, you can learn by practicing, copy-pasting, using google, or asking classmates/teachers! 😃\n",
    "\n",
    "Let's start by plotting LA County data."
   ]
  },
  {
   "cell_type": "code",
   "execution_count": null,
   "id": "55ec84a5",
   "metadata": {},
   "outputs": [],
   "source": [
    "# Plot a timeline of the median home value by month in LA County\n",
    "\n",
    "# take only the home value columns\n",
    "data = LA.T.iloc[2:]\n",
    "months = data.index\n",
    "prices = data.values\n",
    "# initialize a figure\n",
    "plt.figure()\n",
    "# plot the data\n",
    "plt.plot(months,prices)\n",
    "# Give a good title\n",
    "plt.title(\"Timeline of Median Home Value in LA County\")\n",
    "# Mark the axes with the appropriate labels\n",
    "# Mark the y-axis labels\n",
    "yticks = [k*10**5 for k in range(2,10)]\n",
    "ylabels = [str(k)+'00K' for k in range(2,10)]\n",
    "plt.yticks(yticks, labels = ylabels)\n",
    "# For the x-axis labels, print only every 20th month for clarity\n",
    "plt.xticks(months[::20],rotation = 45)\n",
    "plt.xticks(data.index.tolist()[::20],rotation = 45)\n",
    "plt.yticks([k*10**5 for k in range(2,10)],labels = [str(k)+'00K' for k in range(2,10)])\n",
    "# show the figure\n",
    "plt.show()"
   ]
  },
  {
   "cell_type": "markdown",
   "id": "16aaaf2d-1f25-41e4-afd7-a1e20f062d99",
   "metadata": {},
   "source": [
    "### Question 3\n",
    "\n",
    "What do you notice about the above graph?"
   ]
  },
  {
   "cell_type": "code",
   "execution_count": null,
   "id": "d770c09d-4247-48c6-9c41-0ffc7d443b2e",
   "metadata": {},
   "outputs": [],
   "source": [
    "# Put you answer here\n"
   ]
  },
  {
   "cell_type": "code",
   "execution_count": null,
   "id": "25e816b5-6183-436f-9d47-74c1d028cb91",
   "metadata": {},
   "outputs": [],
   "source": [
    "# End Question 3"
   ]
  },
  {
   "cell_type": "markdown",
   "id": "2506ad4d-92e8-4405-9e5a-68fd696a6388",
   "metadata": {},
   "source": [
    "### Question 4\n",
    "\n",
    "Can you do a similar plot for Merced County?"
   ]
  },
  {
   "cell_type": "code",
   "execution_count": null,
   "id": "0c134cfc",
   "metadata": {},
   "outputs": [],
   "source": [
    "# Do the same for Merced\n",
    "\n",
    "# take only the home value columns\n",
    "data = Merced.T.iloc[2:]\n",
    "months = data.index\n",
    "prices = data.values\n",
    "# initialize a figure\n",
    "plt.figure()\n",
    "# plot the data\n",
    "plt.plot(...)\n",
    "# Give a good title\n",
    "plt.title(...)\n",
    "# Mark the axes with the appropriate labels\n",
    "# Mark the y-axis labels\n",
    "yticks = [k*10**5 for k in range(1,5)]\n",
    "ylabels = [str(k)+'00K' for k in range(1,5)]\n",
    "plt.yticks(yticks, labels = ylabels)\n",
    "# For the x-axis labels, print only every 20th month for clarity\n",
    "plt.xticks(months[::20],rotation = 45)\n",
    "# show the figure\n",
    "plt.show()\n",
    "\n"
   ]
  },
  {
   "cell_type": "code",
   "execution_count": null,
   "id": "a81e0735-1db3-464f-9f6d-b10f5cd62d55",
   "metadata": {},
   "outputs": [],
   "source": [
    "# End Question 4"
   ]
  },
  {
   "cell_type": "markdown",
   "id": "6a91df59-867c-42f7-a81d-32a5acee6a60",
   "metadata": {},
   "source": [
    "### Plotting both together using a legend"
   ]
  },
  {
   "cell_type": "markdown",
   "id": "40f58ab7-6b68-47eb-93f5-e9cc102f03ee",
   "metadata": {},
   "source": [
    "It would be easier to compare the two side-by-side if we plotted them on the same plot. To that end, let's plot LA and Merced County on the same plot and make a color-coded legend. Let's add a third county for perspective."
   ]
  },
  {
   "cell_type": "code",
   "execution_count": null,
   "id": "ec2a5739-c3ca-4925-8604-03b30d41461a",
   "metadata": {},
   "outputs": [],
   "source": [
    "Merced = CA[CA['RegionName'] == 'Merced County']\n",
    "LA = CA[CA['RegionName'] == 'Los Angeles County']\n",
    "Mo = CA[CA['RegionName'] == 'Monterey County']"
   ]
  },
  {
   "cell_type": "code",
   "execution_count": null,
   "id": "fbeb9297-bffa-418b-aa6d-5d04df159979",
   "metadata": {
    "scrolled": true
   },
   "outputs": [],
   "source": [
    "\n",
    "# Now let's put LA and Merced County on the same plot and make a color-coded legend\n",
    "\n",
    "# take only the home value columns for each\n",
    "dataMerced = Merced.T.iloc[2:]\n",
    "dataLA = LA.T.iloc[2:]\n",
    "dataMont = Mont.T.iloc[2:]\n",
    "# initialize a figure\n",
    "plt.figure()\n",
    "# plot the data\n",
    "plt.plot(dataLA.index,dataLA.values,label = 'LA County')\n",
    "plt.plot(dataMerced.index,dataMerced.values,label = 'Merced County')\n",
    "plt.plot(dataMont.index,dataMont.values,label = 'Monterey County')\n",
    "# Give a good title\n",
    "plt.title(\"Merced, LA, and Monterey Counties - Home Value Comparison\")\n",
    "# Show the legend\n",
    "plt.legend()\n",
    "# Mark the axes with the appropriate labels\n",
    "xticks = dataMerced.index.tolist()[::20]\n",
    "plt.xticks(xticks,rotation = 45)\n",
    "yticks = [k*10**5 for k in range(1,10)]\n",
    "labels = [str(k)+'00K' for k in range(1,10)]\n",
    "plt.yticks(yticks,labels = labels)\n",
    "# show the figure\n",
    "plt.show()\n"
   ]
  },
  {
   "cell_type": "markdown",
   "id": "bb3dafd5-3104-497b-af5e-0df60cdd8810",
   "metadata": {},
   "source": [
    "### Question 5\n",
    "\n",
    "What do you notice about this plot?"
   ]
  },
  {
   "cell_type": "code",
   "execution_count": null,
   "id": "a98e0959-3bab-46ce-b828-15905a8e789a",
   "metadata": {},
   "outputs": [],
   "source": [
    "# Put your answer here"
   ]
  },
  {
   "cell_type": "code",
   "execution_count": null,
   "id": "3054c1b6-d144-4ed4-adc9-fe0d71c5da3f",
   "metadata": {},
   "outputs": [],
   "source": []
  },
  {
   "cell_type": "code",
   "execution_count": null,
   "id": "2349b727-7eb1-43e6-9cec-e9cd2be7c13b",
   "metadata": {},
   "outputs": [],
   "source": [
    "# End Question 5"
   ]
  },
  {
   "cell_type": "markdown",
   "id": "4917ab88-2bcb-4188-a07e-1376b0bacbff",
   "metadata": {},
   "source": [
    "### Conclusion"
   ]
  },
  {
   "cell_type": "markdown",
   "id": "6b5983e3-6654-43bd-9b78-b13a311c679e",
   "metadata": {},
   "source": [
    "What type of datasets would you enjoy working with in this class?"
   ]
  },
  {
   "cell_type": "code",
   "execution_count": null,
   "id": "b24d0276-6a7d-4675-8ee6-aa83e0d63af1",
   "metadata": {},
   "outputs": [],
   "source": []
  },
  {
   "cell_type": "markdown",
   "id": "0d1cce58-97d0-4168-9112-2ec3f6791746",
   "metadata": {},
   "source": [
    "# Submission\n",
    "\n",
    "Make sure you have run all cells in your notebook so that all images/graphs (if any) appear in the output before preparing to submit your work.  **Please create a PDF using File->Save and Export Notebook as->PDF**, then upload this document to the appropriate assignment on Catcourses."
   ]
  },
  {
   "cell_type": "code",
   "execution_count": null,
   "id": "dcacfaa6-74d4-4c33-a763-7720be492881",
   "metadata": {},
   "outputs": [],
   "source": []
  }
 ],
 "metadata": {
  "kernelspec": {
   "display_name": "Python 3 (ipykernel)",
   "language": "python",
   "name": "python3"
  },
  "language_info": {
   "codemirror_mode": {
    "name": "ipython",
    "version": 3
   },
   "file_extension": ".py",
   "mimetype": "text/x-python",
   "name": "python",
   "nbconvert_exporter": "python",
   "pygments_lexer": "ipython3",
   "version": "3.11.4"
  }
 },
 "nbformat": 4,
 "nbformat_minor": 5
}
