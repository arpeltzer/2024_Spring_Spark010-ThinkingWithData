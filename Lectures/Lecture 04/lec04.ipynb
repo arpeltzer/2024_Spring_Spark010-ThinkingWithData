{
 "cells": [
  {
   "cell_type": "markdown",
   "id": "42588d2b-d933-4480-b980-9af67f407cc8",
   "metadata": {},
   "source": [
    "# Lecture 4\n",
    "## Naming, Functions, and Typecasting\n",
    "### Spark 10, Spring 2024\n",
    "### January 29, 2024\n"
   ]
  },
  {
   "cell_type": "markdown",
   "id": "e45d4d84-709f-40fa-afc5-96773a6a66ab",
   "metadata": {},
   "source": [
    "In this section we will introduce the syntax for defininign and declaring variables, functions to perform more complicated operations, the `string` data type for working with text, and converting between data types."
   ]
  },
  {
   "cell_type": "markdown",
   "id": "f936ca8e-1e6a-46ef-859d-a84b87868980",
   "metadata": {},
   "source": [
    "<hr style=\"border: 5px solid #003262;\" />\n",
    "<hr style=\"border: 1px solid #fdb515;\" />\n",
    "\n",
    "## Part 1: Naming"
   ]
  },
  {
   "cell_type": "markdown",
   "id": "bd206adc-26ec-441d-aab5-b5dea98e87b4",
   "metadata": {},
   "source": [
    "A fundamental component of progarmming is the ability to assign values wtih a name so that you can reuse them at any time in your program."
   ]
  },
  {
   "cell_type": "markdown",
   "id": "5989eadf-770e-47c1-9ef7-101f0dc391d1",
   "metadata": {},
   "source": [
    "The syntax for declaring a variable is `my_name = my_value`.  What you enter for `my_name` can be anything you like (with some exceptions)."
   ]
  },
  {
   "cell_type": "code",
   "execution_count": null,
   "id": "966cae8b-0295-4e34-a8e9-50c995fd4873",
   "metadata": {},
   "outputs": [],
   "source": [
    "# Assign x the number 5\n",
    "x = 5"
   ]
  },
  {
   "cell_type": "markdown",
   "id": "d94593cd-2698-47fc-b3d7-3f44b55cce92",
   "metadata": {},
   "source": [
    "Now instead of entering the single number `5` each time, we can instead call `x` whenever we need to."
   ]
  },
  {
   "cell_type": "code",
   "execution_count": null,
   "id": "30238e3d-8304-44f0-93bc-50a7bd689eaa",
   "metadata": {},
   "outputs": [],
   "source": [
    "x"
   ]
  },
  {
   "cell_type": "markdown",
   "id": "d06eaf65-9e0b-4933-a0a3-6e34af5213fd",
   "metadata": {},
   "source": [
    "Note that the value assigned the name could change as well.  For each of the cells below, what is the output if they are run sequentially? (Try to answer this question before running the cells)"
   ]
  },
  {
   "cell_type": "code",
   "execution_count": null,
   "id": "59b72c31-65bb-41e0-95a6-4bfcc5c26ab4",
   "metadata": {
    "scrolled": true
   },
   "outputs": [],
   "source": [
    "side_length = 5\n",
    "area = side_length ** 2\n",
    "side_length = side_length + 2"
   ]
  },
  {
   "cell_type": "code",
   "execution_count": null,
   "id": "2dcbc9df-da69-4b2b-ad07-b0d779d6e387",
   "metadata": {},
   "outputs": [],
   "source": [
    "side_length"
   ]
  },
  {
   "cell_type": "code",
   "execution_count": null,
   "id": "c35c86e9-b8f0-49e6-abe4-0df425bb2035",
   "metadata": {},
   "outputs": [],
   "source": [
    "area"
   ]
  },
  {
   "cell_type": "markdown",
   "id": "26009d49-e269-468f-8e28-c7b03aff9b6d",
   "metadata": {},
   "source": [
    "<hr style=\"border: 5px solid #003262;\" />\n",
    "<hr style=\"border: 1px solid #fdb515;\" />\n",
    "\n",
    "## Part 2: Functions"
   ]
  },
  {
   "cell_type": "markdown",
   "id": "d00b144b-5903-42b2-8573-1d1c2427984d",
   "metadata": {},
   "source": [
    "Functions take input(s) and produce an output.  Most of the time, functions will be in the following form: `output = f(input)`, which are very similar to mathematical expressions.  Some examples of functions that are within the core of Python are the absolute value (`abs`), maximum (`max`) and minimum (`min`) functions.  The syntax for these functions are:\n",
    "\n",
    "- `abs(x1)`: Returns the absolute value of `x1`\n",
    "- `max(x1, x2)`: Returns the larger of `x1` and `x2`.\n",
    "- `min(x1, x2)`: Returns the smaller of `x1` and `x2`.  \n",
    " \n",
    "Explore how some of these built-in Python functions work below."
   ]
  },
  {
   "cell_type": "code",
   "execution_count": null,
   "id": "9d7eead0-bb44-4022-abc7-c4ac5415c9b0",
   "metadata": {},
   "outputs": [],
   "source": [
    "a = max(2, 3)\n",
    "a"
   ]
  },
  {
   "cell_type": "code",
   "execution_count": null,
   "id": "d15e8967-bb9f-4244-a9a0-1800587789e7",
   "metadata": {},
   "outputs": [],
   "source": [
    "b = max(4, min(1, 9))\n",
    "b"
   ]
  },
  {
   "cell_type": "code",
   "execution_count": null,
   "id": "a3d02007-b358-4e86-82dc-4f2d60de86d7",
   "metadata": {},
   "outputs": [],
   "source": [
    "c = -abs(max(4, 5, -1))\n",
    "c"
   ]
  },
  {
   "cell_type": "markdown",
   "id": "2a3e34cf-2fab-4eaf-99c6-9133b19e1b37",
   "metadata": {},
   "source": [
    "Understanding how Python evaluates nested call expressions is key to building more complicated code."
   ]
  },
  {
   "cell_type": "markdown",
   "id": "b3f56a37-ec7c-4600-b6b2-f075c5d33032",
   "metadata": {},
   "source": [
    "Can you figure out what the expression below will evaluate to before running it?"
   ]
  },
  {
   "cell_type": "code",
   "execution_count": null,
   "id": "c379934a-ae32-44f2-93d6-b4267d4e940f",
   "metadata": {},
   "outputs": [],
   "source": [
    "d = min(abs(max(-1, -2, -3, min(4, -2))), max(5, 100))\n",
    "d"
   ]
  },
  {
   "cell_type": "markdown",
   "id": "5942323c-3480-4e48-88cd-90e8d476432a",
   "metadata": {},
   "source": [
    "**Quick Check**: What is the output of the following cell?"
   ]
  },
  {
   "cell_type": "code",
   "execution_count": null,
   "id": "53940e82-abb1-4a88-8e9e-008248117455",
   "metadata": {},
   "outputs": [],
   "source": [
    "g = max(abs(-1), max(3, 10), min(15, 5))\n",
    "g"
   ]
  },
  {
   "cell_type": "markdown",
   "id": "edd2b079-fb6f-4d02-bc6a-7d94c8bc5a07",
   "metadata": {},
   "source": [
    "<hr style=\"border: 5px solid #003262;\" />\n",
    "<hr style=\"border: 1px solid #fdb515;\" />\n",
    "\n",
    "## Part 3: The `string` Data Type"
   ]
  },
  {
   "cell_type": "markdown",
   "id": "9d062b8b-6001-48bd-a657-91afd08a655c",
   "metadata": {},
   "source": [
    "Strings are the data type that Python uses to store text (sequences of characters)"
   ]
  },
  {
   "cell_type": "code",
   "execution_count": null,
   "id": "90de99e8-7861-4060-b12c-0b54c34249b1",
   "metadata": {},
   "outputs": [],
   "source": [
    "# Run me\n",
    "\"I am a string\""
   ]
  },
  {
   "cell_type": "code",
   "execution_count": null,
   "id": "b9cbc504-9726-4df8-b618-649410295950",
   "metadata": {},
   "outputs": [],
   "source": [
    "# Run me too\n",
    "state = \"California\"\n",
    "type(state)"
   ]
  },
  {
   "cell_type": "markdown",
   "id": "9086e5fa-5307-4072-af20-bebe23bc1b19",
   "metadata": {},
   "source": [
    "The `len()` function gets the number of characters in a string and the `+` operator **concatenates** two strings, meaning it will put the two strings together."
   ]
  },
  {
   "cell_type": "code",
   "execution_count": null,
   "id": "8a75b655-65bb-4956-84da-042725e1f530",
   "metadata": {},
   "outputs": [],
   "source": [
    "# How many characters does 'California' have?\n",
    "len(state)"
   ]
  },
  {
   "cell_type": "code",
   "execution_count": null,
   "id": "b5d24f54-8496-4152-ae00-99c56554484a",
   "metadata": {},
   "outputs": [],
   "source": [
    "# Concatenate two strings\n",
    "mascot = 'bobcats'\n",
    "'Go ' + mascot + '!!!' "
   ]
  },
  {
   "cell_type": "markdown",
   "id": "880b6f79-6a18-45cd-bda6-a4b548972ec2",
   "metadata": {},
   "source": [
    "Notice that the `+` operator **behaves differently** when adding multiple strings.  Instead of performing the addition option like with numerical values, it instead makes a string longer than before."
   ]
  },
  {
   "cell_type": "markdown",
   "id": "511f511e-8363-419e-a7cc-73667c5da240",
   "metadata": {},
   "source": [
    "**Quick check**: Can you write a sentence as a string, and count how many characters it contains?  Replace the two `...` below."
   ]
  },
  {
   "cell_type": "code",
   "execution_count": null,
   "id": "6985570a-2074-49b6-b829-bb0a2d988caa",
   "metadata": {},
   "outputs": [],
   "source": [
    "# How many characters does your sentence have?\n",
    "this_sentence = ...\n",
    "...(this_sentence)"
   ]
  },
  {
   "cell_type": "markdown",
   "id": "bd39619e-867c-44f6-947c-7ab92b5c86d6",
   "metadata": {},
   "source": [
    "<hr style=\"border: 5px solid #003262;\" />\n",
    "<hr style=\"border: 1px solid #fdb515;\" />\n",
    "\n",
    "## Part 4: Typecasting"
   ]
  },
  {
   "cell_type": "markdown",
   "id": "7f41bf13-7c16-4662-9b6d-6432144890bb",
   "metadata": {},
   "source": [
    "We have covered several arithmetic operators so far:"
   ]
  },
  {
   "cell_type": "code",
   "execution_count": null,
   "id": "57f18a30-e21a-4b6c-bd8d-ee5ec67143fd",
   "metadata": {},
   "outputs": [],
   "source": [
    "(7 - 5) ** 11 + 2 - 13 * 2"
   ]
  },
  {
   "cell_type": "markdown",
   "id": "5d7161bd-56e3-406f-9b02-015028d863d4",
   "metadata": {},
   "source": [
    "Combining several `int`s without using \"regular\" division always results in another `int`. Below, we use the `type()` function to find the type of the evaluated expression from the previous cell."
   ]
  },
  {
   "cell_type": "code",
   "execution_count": null,
   "id": "d4bc8758-2cee-48db-88ba-d7619d120437",
   "metadata": {},
   "outputs": [],
   "source": [
    "# Run this cell\n",
    "type((7 - 5) ** 11 + 2 - 13 * 2)"
   ]
  },
  {
   "cell_type": "markdown",
   "id": "bc07bbaf-79df-46a0-b898-1b94d2464025",
   "metadata": {},
   "source": [
    "The syntax of the `type()` function is fairly straightforward:\n",
    "\n",
    "- `type(x)`: Returns the name of the datatype represented by `x`.\n",
    "- If `x` is an integer, then `type(x)` should return `int` as output.\n",
    "- Similarly, If `x` is a decimal, then `type(x)` should return `float`."
   ]
  },
  {
   "cell_type": "markdown",
   "id": "06250c9b-b39c-4d0e-8ae2-9969fb24a088",
   "metadata": {},
   "source": [
    "As soon as division (`/`) or other `float`s are involved, the result is a `float`:"
   ]
  },
  {
   "cell_type": "code",
   "execution_count": null,
   "id": "386cf2ef-2ef0-4adc-9f29-7dffd3412f64",
   "metadata": {},
   "outputs": [],
   "source": [
    "15 / 3"
   ]
  },
  {
   "cell_type": "code",
   "execution_count": null,
   "id": "4fe9f79a-7fff-4486-943f-b2348c56e4cd",
   "metadata": {},
   "outputs": [],
   "source": [
    "type(15 / 3)"
   ]
  },
  {
   "cell_type": "markdown",
   "id": "e8a2e495-8f16-4407-a14a-d58b455da830",
   "metadata": {},
   "source": [
    "We can get `int` results from division by using the **integer division** operator `//`. When the dividend (the number we're dividing) isn't evenly divisible by the divisor (the number we're dividing by), the *result is rounded down*."
   ]
  },
  {
   "cell_type": "code",
   "execution_count": null,
   "id": "dc446f81-0c62-45ca-ae8c-f599aad652e5",
   "metadata": {},
   "outputs": [],
   "source": [
    "15 // 3"
   ]
  },
  {
   "cell_type": "code",
   "execution_count": null,
   "id": "791154d0-d4a0-4d5f-81cb-19bf82c0fbf6",
   "metadata": {},
   "outputs": [],
   "source": [
    "16 // 3"
   ]
  },
  {
   "cell_type": "code",
   "execution_count": null,
   "id": "d6a18571-8a13-45ab-b79a-0b5ef54ab7f1",
   "metadata": {},
   "outputs": [],
   "source": [
    "type(15 // 3)"
   ]
  },
  {
   "cell_type": "markdown",
   "id": "c0414b6e-091a-451c-b11f-fff0bd650931",
   "metadata": {},
   "source": [
    "There are a couple issues with floating point numbers.  One of the issues is that in order to ensure precision, Python has to use more memory to store a floating point value than an integer value.\n",
    "\n",
    "If we want to change the datatype of a number into something that uses less memory, this is when we can perform typecasting.\n",
    "\n",
    "We can **cast** `int`s to `float`s and vice versa by applying the `int()` or `float()` functions to expressions."
   ]
  },
  {
   "cell_type": "code",
   "execution_count": null,
   "id": "d6a4bb69-0acc-4e09-8a91-0beaa4c6e9e8",
   "metadata": {},
   "outputs": [],
   "source": [
    "int(15 / 3)"
   ]
  },
  {
   "cell_type": "code",
   "execution_count": null,
   "id": "c676fd4d-f109-47c3-9630-e123f3f53c45",
   "metadata": {},
   "outputs": [],
   "source": [
    "float(5)"
   ]
  },
  {
   "cell_type": "markdown",
   "id": "647224b7-4c0a-4335-9b80-a6ca07e55989",
   "metadata": {},
   "source": [
    "If our `float` is not a round integer, we lose information:"
   ]
  },
  {
   "cell_type": "code",
   "execution_count": null,
   "id": "eaa201ec-ff1b-43b2-81bd-7e3f2fbdfd13",
   "metadata": {},
   "outputs": [],
   "source": [
    "int(4.1)"
   ]
  },
  {
   "cell_type": "markdown",
   "id": "b4482dc4-090e-4ef5-93a2-c0c37c65f318",
   "metadata": {},
   "source": [
    "What do you think will happen if we try converting numbers to text?  We can use the `str()` function to do this!"
   ]
  },
  {
   "cell_type": "code",
   "execution_count": null,
   "id": "5308240c-9da9-4918-95d6-3d5f934215fd",
   "metadata": {},
   "outputs": [],
   "source": [
    "str(4.1)"
   ]
  },
  {
   "cell_type": "markdown",
   "id": "7aada503-bf57-489a-9a08-22744cf06288",
   "metadata": {},
   "source": [
    "Instead of the floating point number `4.1`, the call expression `str(4.1)` returns `4.1`.  The quotes are indicative of the output shown here as a string or series of characters.\n",
    "\n",
    "As you can see, it's possible to transform numberical values into text.  Unfortunately, it doesn't always work the other way around.\n",
    "\n",
    "Let's see what happens when we attempt to convert a word into a number."
   ]
  },
  {
   "cell_type": "code",
   "execution_count": null,
   "id": "d3ed8171-31c3-49f1-a054-5eb51e5fb19e",
   "metadata": {},
   "outputs": [],
   "source": [
    "# Do we get a float?\n",
    "float('bobcat')"
   ]
  },
  {
   "cell_type": "markdown",
   "id": "91e7657b-04db-4235-8efe-0603c1130cf7",
   "metadata": {},
   "source": [
    "The above should have thrown an error.  Intiutively, that makes sense from the language perspective, as it's not clear how to transform a word into a number."
   ]
  },
  {
   "cell_type": "markdown",
   "id": "fda2c979-2cee-466e-a2a0-1a123093425c",
   "metadata": {},
   "source": [
    "**Explore**: What if the character string only contained a number?  Surround the numbers in the cells below with quotes `''`.  For example, `10` becomes `'10'`. What will be the output?"
   ]
  },
  {
   "cell_type": "code",
   "execution_count": null,
   "id": "362afbed-d3b4-4c13-8852-8af4847dd75f",
   "metadata": {},
   "outputs": [],
   "source": [
    "int(4)"
   ]
  },
  {
   "cell_type": "code",
   "execution_count": null,
   "id": "3cfb1950-28ad-4985-925f-5cf4da81d358",
   "metadata": {},
   "outputs": [],
   "source": [
    "float(4.1)"
   ]
  },
  {
   "cell_type": "code",
   "execution_count": null,
   "id": "12ea7767-fa40-4384-8b4c-1fdb9398e97f",
   "metadata": {},
   "outputs": [],
   "source": [
    "float(4)"
   ]
  },
  {
   "cell_type": "markdown",
   "id": "73d13979-0e79-4f23-b7b0-23e21d1c6adf",
   "metadata": {},
   "source": [
    "Why is it that `int()` and `float()` successfully convert this kind of text into numbers?"
   ]
  },
  {
   "cell_type": "markdown",
   "id": "95d8d054-5909-4c6a-9994-c81e737509b2",
   "metadata": {
    "jp-MarkdownHeadingCollapsed": true
   },
   "source": [
    "## Submission\n",
    "\n",
    "Make sure you have run all cells in your notebook in order before running the cell below, so that all images/graphs appear in the output. **Please create a PDF using File->Save and Export Notebook as->PDF**"
   ]
  }
 ],
 "metadata": {
  "kernelspec": {
   "display_name": "Python 3 (ipykernel)",
   "language": "python",
   "name": "python3"
  },
  "language_info": {
   "codemirror_mode": {
    "name": "ipython",
    "version": 3
   },
   "file_extension": ".py",
   "mimetype": "text/x-python",
   "name": "python",
   "nbconvert_exporter": "python",
   "pygments_lexer": "ipython3",
   "version": "3.11.4"
  }
 },
 "nbformat": 4,
 "nbformat_minor": 5
}
