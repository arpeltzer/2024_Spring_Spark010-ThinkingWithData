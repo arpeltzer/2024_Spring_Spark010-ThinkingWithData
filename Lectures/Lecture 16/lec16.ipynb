{
 "cells": [
  {
   "cell_type": "markdown",
   "metadata": {},
   "source": [
    "# Lecture 16 – Joining and Row Methods\n",
    "\n",
    "## Spark 10, Spring 2024"
   ]
  },
  {
   "cell_type": "code",
   "execution_count": null,
   "metadata": {},
   "outputs": [],
   "source": [
    "import pandas as pd\n",
    "import numpy as np"
   ]
  },
  {
   "cell_type": "markdown",
   "metadata": {},
   "source": [
    "## `pd.merge`"
   ]
  },
  {
   "cell_type": "markdown",
   "metadata": {},
   "source": [
    "Oftentimes, we have useful data from multiple different sources. While each of these datasets provides information on their own, they are usually more powerful when combined. So when we have multiple tables with related data, we can **pd.merge** those tables together into a single larger table."
   ]
  },
  {
   "cell_type": "markdown",
   "metadata": {},
   "source": [
    "For example, we have two tables: `phones`—which lists the prices of each phone model—and `inventory`—which shows us how many of each phone we have. \n",
    "\n",
    "Using `pd.merge` we can answer the question: _If I sold all of the phones in my inventory, what would my revenue be?_"
   ]
  },
  {
   "cell_type": "code",
   "execution_count": null,
   "metadata": {},
   "outputs": [],
   "source": [
    "phones_data = [['iPhone 12',799,6.1],\n",
    "               ['iPhone 12 Pro Max',1099,6.7],\n",
    "               ['Samsung Galaxy S21',799,6.2],\n",
    "               ['OnePlus 8',699,6.6]]\n",
    "\n",
    "phones = pd.DataFrame(data = phones_data, columns = ['Model','Price','Screen Size'])\n",
    "\n",
    "inventory_data = [['Samsung Galaxy S21',50, 'Berkeley'],\n",
    "                  ['iPhone 12', 40, 'Berkeley'],\n",
    "                  ['iPhone 12', 10, 'San Francisco'],\n",
    "                  ['OnePlus 8', 100 , 'Oakland'],\n",
    "                  ['Pixel 5',25, 'Oakland']]\n",
    "\n",
    "inventory = pd.DataFrame(data = inventory_data, columns = ['Handset','Units','Store'])"
   ]
  },
  {
   "cell_type": "code",
   "execution_count": null,
   "metadata": {},
   "outputs": [],
   "source": [
    "phones"
   ]
  },
  {
   "cell_type": "code",
   "execution_count": null,
   "metadata": {
    "scrolled": true
   },
   "outputs": [],
   "source": [
    "inventory"
   ]
  },
  {
   "cell_type": "markdown",
   "metadata": {},
   "source": [
    "First, let's use `pd.merge` to combine the two tables."
   ]
  },
  {
   "cell_type": "code",
   "execution_count": null,
   "metadata": {
    "scrolled": true
   },
   "outputs": [],
   "source": [
    "... # Join the `phones` and `inventory` tables in the way that makes most sense"
   ]
  },
  {
   "cell_type": "code",
   "execution_count": null,
   "metadata": {},
   "outputs": [],
   "source": [
    "... # Try switching the order of the arguments in `.join` to see if you get the same result"
   ]
  },
  {
   "cell_type": "markdown",
   "metadata": {},
   "source": [
    "Notice that when we switch around the arguments to `pd.merge`, we get the same information, just in a different order. **This will not always be the case**."
   ]
  },
  {
   "cell_type": "code",
   "execution_count": null,
   "metadata": {},
   "outputs": [],
   "source": [
    "store = ... # Join `phones` and `inventory` into one table\n",
    "store"
   ]
  },
  {
   "cell_type": "markdown",
   "metadata": {},
   "source": [
    "Using our joined table, we can calculate our revenue if we sold all of our phones."
   ]
  },
  {
   "cell_type": "code",
   "execution_count": null,
   "metadata": {},
   "outputs": [],
   "source": [
    "... # Create an array of the revenue for each phone model if all phones were sold"
   ]
  },
  {
   "cell_type": "code",
   "execution_count": null,
   "metadata": {},
   "outputs": [],
   "source": [
    "... # Calculate the total revenue we would generate if we sold all of our phones"
   ]
  },
  {
   "cell_type": "markdown",
   "metadata": {},
   "source": [
    "### Quick Check 1"
   ]
  },
  {
   "cell_type": "code",
   "execution_count": null,
   "metadata": {},
   "outputs": [],
   "source": [
    "contacts_data={'Name' :['Roxanne', 'Sandy', 'Stan', 'Tomas', 'Wilma'],\n",
    "               'Email':['roxanne@berkeley.edu', 'sandy@nyu.edu', 'stan.vg@gmail.com', 'tomastrain@umich.edu', 'wilma@columbia.edu'],\n",
    "               'Area Code':[510, 212, 734, 734, 212]}\n",
    "\n",
    "contacts = pd.DataFrame.from_dict(contacts_data)\n",
    "\n",
    "codes_data = {'Code' : [212, 310, 519, 734],\n",
    "              'Region' : ['New York City', 'Los Angeles', 'Ontario, Canada', 'Metro Detroit']}\n",
    "\n",
    "codes = pd.DataFrame.from_dict(codes_data)"
   ]
  },
  {
   "cell_type": "code",
   "execution_count": null,
   "metadata": {},
   "outputs": [],
   "source": [
    "contacts"
   ]
  },
  {
   "cell_type": "code",
   "execution_count": null,
   "metadata": {},
   "outputs": [],
   "source": [
    "codes"
   ]
  },
  {
   "cell_type": "markdown",
   "metadata": {},
   "source": [
    "Consider the tables `contacts` and `codes`.\n",
    "\n",
    "1. Fill in the blanks of the code below to join the two tables in the way that feels most natural.\n",
    "2. Before running your code, think about how many rows and columns will be in the resulting table."
   ]
  },
  {
   "cell_type": "code",
   "execution_count": null,
   "metadata": {},
   "outputs": [],
   "source": [
    "pd.merge(..., ..., left_on = ..., right_on = ...) # Replace the ... with your answers"
   ]
  },
  {
   "cell_type": "markdown",
   "metadata": {},
   "source": [
    "### Followup"
   ]
  },
  {
   "cell_type": "markdown",
   "metadata": {},
   "source": [
    "Suppose we were not careful and mistyped the Los Angeles area code 213 as 212 in the `extra_codes` table below."
   ]
  },
  {
   "cell_type": "code",
   "execution_count": null,
   "metadata": {},
   "outputs": [],
   "source": [
    "extra_codes = pd.DataFrame.from_dict({'Code':[212, 212, 519, 734],\n",
    "                                      'Region':['New York City', 'Los Angeles', 'Ontario, Canada', 'Metro Detroit']})"
   ]
  },
  {
   "cell_type": "code",
   "execution_count": null,
   "metadata": {},
   "outputs": [],
   "source": [
    "contacts"
   ]
  },
  {
   "cell_type": "code",
   "execution_count": null,
   "metadata": {},
   "outputs": [],
   "source": [
    "extra_codes"
   ]
  },
  {
   "cell_type": "markdown",
   "metadata": {},
   "source": [
    "Now, when we join the `contacts` table with the `extra_codes` table, we will get multiple entries for the same person. This is unnatural, but is how `pd.merge` works!"
   ]
  },
  {
   "cell_type": "code",
   "execution_count": null,
   "metadata": {},
   "outputs": [],
   "source": [
    "pd.merge(contacts,extra_codes,left_on = 'Area Code', right_on = 'Code')"
   ]
  },
  {
   "cell_type": "markdown",
   "metadata": {},
   "source": [
    "### Disclaimer"
   ]
  },
  {
   "cell_type": "markdown",
   "metadata": {},
   "source": [
    "When a join produces no matches between the two tables, the resulting table will be blank. "
   ]
  },
  {
   "cell_type": "code",
   "execution_count": null,
   "metadata": {},
   "outputs": [],
   "source": [
    "# No output – because there are no matches between\n",
    "# the 'Name' column in contacts and the 'Region' column in codes\n",
    "pd.merge(contacts,codes,left_on = 'Name', right_on = 'Region')"
   ]
  },
  {
   "cell_type": "markdown",
   "metadata": {},
   "source": [
    "## Other Tools"
   ]
  },
  {
   "cell_type": "markdown",
   "metadata": {},
   "source": [
    "## Rows"
   ]
  },
  {
   "cell_type": "markdown",
   "metadata": {},
   "source": [
    "Since each row in a table contains values of different data types, we cannot store this information as an array (since arrays have to contain values of the same data type). Instead, Pandas uses a `Series` data type to store the information in rows."
   ]
  },
  {
   "cell_type": "code",
   "execution_count": null,
   "metadata": {
    "scrolled": true
   },
   "outputs": [],
   "source": [
    "phones"
   ]
  },
  {
   "cell_type": "markdown",
   "metadata": {},
   "source": [
    "Use can extract a particular `Row` from a table using `tbl.iloc[index]`. Note that this is **not** the same as `tbl.iloc[[index]]`, which returns a `DataFrame`."
   ]
  },
  {
   "cell_type": "code",
   "execution_count": null,
   "metadata": {},
   "outputs": [],
   "source": [
    "... # Get the second row in `phones` as a Series object"
   ]
  },
  {
   "cell_type": "code",
   "execution_count": null,
   "metadata": {},
   "outputs": [],
   "source": [
    "type(phones.iloc[1])"
   ]
  },
  {
   "cell_type": "code",
   "execution_count": null,
   "metadata": {},
   "outputs": [],
   "source": [
    "phones.iloc[[1]]"
   ]
  },
  {
   "cell_type": "code",
   "execution_count": null,
   "metadata": {},
   "outputs": [],
   "source": [
    "type(phones.iloc[[1]])"
   ]
  },
  {
   "cell_type": "markdown",
   "metadata": {},
   "source": [
    "You _can_ convert a `Series` to an array, but it will do so by converting all values in the row to one data type. Not ideal!"
   ]
  },
  {
   "cell_type": "code",
   "execution_count": null,
   "metadata": {},
   "outputs": [],
   "source": [
    "... # Convert the last row of `phones` to an array"
   ]
  },
  {
   "cell_type": "markdown",
   "metadata": {},
   "source": [
    "## `pd.concat`"
   ]
  },
  {
   "cell_type": "markdown",
   "metadata": {},
   "source": [
    "If you want to add a single row to an existing table, there are several ways to do this. You can do so with `pd.concat()`, an abbreviation of **concatenate**. This method must take two DataFrames or Series. We won't use this method often, but it's still good to know!"
   ]
  },
  {
   "cell_type": "code",
   "execution_count": null,
   "metadata": {},
   "outputs": [],
   "source": [
    "... # Add a row to `phones` with the following attributes: Name:'iPhone 12 Mini', Price: 699, Screen Size: 5.8"
   ]
  },
  {
   "cell_type": "code",
   "execution_count": null,
   "metadata": {},
   "outputs": [],
   "source": [
    "... # Add two rows to `phones` with the following attributes:\n",
    "    # Row 1 - Name: 'iPhone 12 Mini', Price: 699, Screen Size: 5.8\n",
    "    # Row 2 - Name: 'Moto RAZR', Price: 459, Screen Size: 3.5"
   ]
  },
  {
   "cell_type": "markdown",
   "metadata": {},
   "source": [
    "## Submission\n",
    "\n",
    "Make sure you have run all cells in your notebook in order before running the cell below, so that all images/graphs appear in the output. **Please create a PDF using File->Save and Export Notebook as->PDF**"
   ]
  }
 ],
 "metadata": {
  "kernelspec": {
   "display_name": "Python 3 (ipykernel)",
   "language": "python",
   "name": "python3"
  },
  "language_info": {
   "codemirror_mode": {
    "name": "ipython",
    "version": 3
   },
   "file_extension": ".py",
   "mimetype": "text/x-python",
   "name": "python",
   "nbconvert_exporter": "python",
   "pygments_lexer": "ipython3",
   "version": "3.11.4"
  }
 },
 "nbformat": 4,
 "nbformat_minor": 4
}
