{
 "cells": [
  {
   "cell_type": "markdown",
   "id": "e98d609b-ad9c-41cb-9efb-0a42121341c7",
   "metadata": {},
   "source": [
    "# Lecture 10 - Pivoting Tables\n",
    "\n",
    "## Spark 010, Spring 2024\n",
    "\n",
    "## February 26, 2024"
   ]
  },
  {
   "cell_type": "markdown",
   "id": "7c82886e-c795-445f-94d3-4f67878bccf6",
   "metadata": {},
   "source": [
    "Data can be formatted in different ways.  We often associate the shape of a dataset based on its number of observations and the number variables per observation.\n",
    "\n",
    "- **Long table**: Lots of observations, few variables\n",
    "- **Wide table**: Few observations, lots of variables\n",
    "\n",
    "Often, there are too many variables associated with one observation.  However, some of the variables might be **related** to each other in and of themselves.  If we notice thier relationship, then we can use this information to reshape our table, either increasing or reducing the number of variables to consider.  In other words, we can use this information to make our table from long to wide, or from wide to long.\n",
    "\n",
    "The information we use to reformat the table are the variables of interest\n",
    "\n",
    "A **pivot** can be seen as a variable on which to aggregate observed values.  In the context of a table, a pivot variable can be seen as an aggregation of values directly related to that variable.  When we undergo the process of ungrouping the values from each of the variables, we are \"unpivoting\" the data.  In Python, a fancier term for \"unpivot\" is \"melt\".\n",
    "\n",
    "Here we will explore how pandas can be used to pivot and unpivot data for the purpose of reformatting as the need arises."
   ]
  },
  {
   "cell_type": "code",
   "execution_count": null,
   "id": "9c4bb158-e5e0-4243-9720-d8950c3cdd71",
   "metadata": {},
   "outputs": [],
   "source": [
    "import numpy as np\n",
    "import pandas as pd"
   ]
  },
  {
   "cell_type": "markdown",
   "id": "3ee7da29-c967-4bb1-8164-aa0215d16d30",
   "metadata": {},
   "source": [
    "Below is an example of a wide table containing just one observation and six variables."
   ]
  },
  {
   "cell_type": "code",
   "execution_count": null,
   "id": "c5683c4d-b5a7-4a05-9660-b0337e3e2f6f",
   "metadata": {
    "editable": true,
    "slideshow": {
     "slide_type": ""
    },
    "tags": []
   },
   "outputs": [],
   "source": [
    "time_frame = pd.DataFrame(data={'Year':[2024], 'Month':[1], 'Day':[25], 'Hour':[11], 'Minute':[30], 'Second':[44]})\n",
    "#time_frame = [time_frame; [2024, 1, 25, 11, 30, 44]]\n",
    "time_frame"
   ]
  },
  {
   "cell_type": "markdown",
   "id": "88e163f4-23b0-4add-a599-05454a1940e9",
   "metadata": {},
   "source": [
    "The above is a single measurement of time itself, with each of the six columns representing one aspect of that point in time."
   ]
  },
  {
   "cell_type": "markdown",
   "id": "17b53953-baa2-40a2-8eb2-b49c2763a947",
   "metadata": {},
   "source": [
    "## Unpivoting a table: `melt()`"
   ]
  },
  {
   "cell_type": "markdown",
   "id": "dfd5c5ad-e67d-44fc-8733-87ef8199d7ff",
   "metadata": {},
   "source": [
    "We can make the above table **long** by placing the variables and values into two respective columns.  This can be done by using the function `melt()`:\n",
    "\n",
    "```\n",
    "pd.melt(dataframe_to_melt,\n",
    "         id_vars='Identifier Column',\n",
    "         var_name='Variables to Unpivot',\n",
    "         value_name='Values underneath unpivoted variables')\n",
    "```"
   ]
  },
  {
   "cell_type": "markdown",
   "id": "7bf2d655-0c86-4f73-8e5f-be9a94b734f6",
   "metadata": {},
   "source": [
    "**Use `melt()` on the dataset `timeframe` above to unpivot the time info.  Set the parameter `id_vars` to be the `'Year'` column.**"
   ]
  },
  {
   "cell_type": "code",
   "execution_count": null,
   "id": "8439a689-b344-4ccb-b30a-89406563a3bd",
   "metadata": {
    "editable": true,
    "slideshow": {
     "slide_type": ""
    },
    "tags": []
   },
   "outputs": [],
   "source": [
    "melted_time_frame = pd.melt(..., id_vars = ...)\n",
    "melted_time_frame"
   ]
  },
  {
   "cell_type": "markdown",
   "id": "ada48f1d-e019-4a36-80ad-044aec59e13c",
   "metadata": {},
   "source": [
    "The Pandas function `melt()` is one way to move the values under different variables into a single column.\n",
    "\n",
    "In the exampke above, we took the values of the five variables after `Year` and placed them into a single column named `values`.  Furthermore, a new column was created that contained the names of those five variables.\n",
    "\n",
    "When `melt()` is used, the **names of the variables that acted as the pivots** are no longer variables, but values to a new column containing them.  The values they once contained however are side-by-side.\n",
    "\n",
    "If these five columns all correspond to the **same type of measurement** and you would like to analyze **all the measurements**, then what we can do is place all the measurements from the five columns into one, while still preserving the original information."
   ]
  },
  {
   "cell_type": "markdown",
   "id": "89f646fa-607c-4e4b-90c8-b9a50d33384e",
   "metadata": {},
   "source": [
    "## Pivoting the table: `pivot()`"
   ]
  },
  {
   "cell_type": "markdown",
   "id": "65e984e6-3e25-4583-bc3c-5700134aa3ad",
   "metadata": {},
   "source": [
    "We can also do the opposite: We can turn this long table above back into a **wide** table using the function `pivot()`.\n",
    "\n",
    "```\n",
    "pd.pivot(dataframe_to_pivot,\n",
    "         index='Variable to Fix',\n",
    "         columns='Variables to Pivot',\n",
    "         values='Values to be pivoted to each column')\n",
    "```"
   ]
  },
  {
   "cell_type": "markdown",
   "id": "ea36656e-e26d-4dae-9e35-6234b1053aca",
   "metadata": {},
   "source": [
    "**Use `pivot()` on the dataset `melted_time_frame` above to unpivot the time info.  Set the indices of the table to be the `'Year'` column, the `columns` parameter to be the values in the `variable` column, and the `values` to be grouped as those in the `value` column.**"
   ]
  },
  {
   "cell_type": "code",
   "execution_count": null,
   "id": "6ad584c1-64eb-43bc-8ae1-c4cf1706d153",
   "metadata": {},
   "outputs": [],
   "source": [
    "pivoted_time_frame = pd.pivot(..., index = ..., columns = ..., values = ...)\n",
    "pivoted_time_frame"
   ]
  },
  {
   "cell_type": "markdown",
   "id": "9164bc84-bc4c-421b-9689-8e05e58adadb",
   "metadata": {},
   "source": [
    "The Pandas function `pivot()` does the opposite of `melt()`.  Here we are pivoting the table by creating a group for each variable under the as pivots to reshape the table by making each unique entry in `variable` as its own column.\n",
    "\n",
    "When `pivot()` is used, the **values under the column representing all the variables are assigned their own columns.**  The values that were once on the same rows they were placed in are now values correspinding to those variables.\n",
    "\n",
    "Note that the table above is not exactly the same as the original.  That's becasue `pivot()` also grouped the variables and placed the `Year` as an index rather than a value.  We can fix both of these as follows:"
   ]
  },
  {
   "cell_type": "code",
   "execution_count": null,
   "id": "38b2cf46-101c-4047-a2f1-a690c6213862",
   "metadata": {},
   "outputs": [],
   "source": [
    "pivoted_time_frame = pivoted_time_frame.reset_index(names='Year')\n",
    "pivoted_time_frame.columns.name = None\n",
    "pivoted_time_frame"
   ]
  },
  {
   "cell_type": "markdown",
   "id": "56f6f931-c4ad-4719-a487-ed22a7278660",
   "metadata": {},
   "source": [
    "## Application to Time-Series Data"
   ]
  },
  {
   "cell_type": "markdown",
   "id": "0fc17beb-e4eb-440a-9398-c026b2ee8fac",
   "metadata": {},
   "source": [
    "A time-series is a sequence of ordered numerical data points.  One example of a time series are present in weather reports: daily records of temperatures.  For each day, we have a single measurement, and across a whole week we have seven measurements with a clear order of _when_ each data point was recorded."
   ]
  },
  {
   "cell_type": "markdown",
   "id": "897cdb00-1660-4557-b01e-3cb9093f24aa",
   "metadata": {
    "editable": true,
    "slideshow": {
     "slide_type": ""
    },
    "tags": []
   },
   "source": [
    "Let's look at another example of a time series where each time point is a semester, and where the data point is a record of enrollment."
   ]
  },
  {
   "cell_type": "code",
   "execution_count": null,
   "id": "fb15ee36-faae-4403-8ddb-68033c4e6dae",
   "metadata": {
    "editable": true,
    "slideshow": {
     "slide_type": ""
    },
    "tags": []
   },
   "outputs": [],
   "source": [
    "enrollment = pd.read_csv('eng_enrollment.csv')\n",
    "enrollment"
   ]
  },
  {
   "cell_type": "markdown",
   "id": "05c87182-bd12-49ad-8ea5-c16dfc5cfc85",
   "metadata": {},
   "source": [
    "Let's use `melt()` on this dataset to place all of the enrollment values into a single column.  **Unpivot the values in the columns pertaining to the semesters, keeping the indentifier variables as those in the `'Major'` column.**"
   ]
  },
  {
   "cell_type": "code",
   "execution_count": null,
   "id": "27ab66f3-19e5-409d-96c2-48bb5179cd68",
   "metadata": {
    "editable": true,
    "slideshow": {
     "slide_type": ""
    },
    "tags": []
   },
   "outputs": [],
   "source": [
    "pd.melt(enrollment, id_vars = ...)"
   ]
  },
  {
   "cell_type": "markdown",
   "id": "a61bbd4e-85b5-4726-9970-06c0f0399baf",
   "metadata": {},
   "source": [
    "Let's make the columns descriptive by naming them based on the values we are analyzing.  **Assign names to the new variable and value columns as `'Semester'` and `'Enrollment'` respectively.**"
   ]
  },
  {
   "cell_type": "code",
   "execution_count": null,
   "id": "b859d94b-f35a-4077-a3f3-8a0b9d0ebb73",
   "metadata": {
    "editable": true,
    "slideshow": {
     "slide_type": ""
    },
    "tags": []
   },
   "outputs": [],
   "source": [
    "melted_enrollment = pd.melt(enrollment, id_vars = ..., var_name= ..., value_name = ...)\n",
    "melted_enrollment"
   ]
  },
  {
   "cell_type": "markdown",
   "id": "420f5ebe-55b1-4ae5-9324-ceaef66c6990",
   "metadata": {},
   "source": [
    "Now, let's try to undo the process with `pivot()`.  **Obtain the Fall semester columns by pivoting the values in the current `'Semester'` column and grouping the values in the `'Enrollment'` column under each new semester column.**  Make sure to set the `index` of this table to be the `'Major'` column."
   ]
  },
  {
   "cell_type": "code",
   "execution_count": null,
   "id": "3f0545de-daa4-4c62-9470-2af1c7f5a74f",
   "metadata": {
    "editable": true,
    "slideshow": {
     "slide_type": ""
    },
    "tags": []
   },
   "outputs": [],
   "source": [
    "pivoted_enrollment = melted_enrollment.pivot(index = ..., columns = ..., values = ...)\n",
    "pivoted_enrollment"
   ]
  },
  {
   "cell_type": "markdown",
   "id": "93e6b1c1-219e-4031-a295-67c8f06d652c",
   "metadata": {},
   "source": [
    "Finally, we will do some adjustments to the names of the columns to ensure the format matches.  **Reset the indices of the pivoted table to be under the name 'Major', then remove the upper column name `'Semester'` by setting it to `None`.**  This will force the names of the fall semesters into one level, restoring the original table."
   ]
  },
  {
   "cell_type": "code",
   "execution_count": null,
   "id": "2112cbc2-ea8c-4e46-baff-07b7055e2d5e",
   "metadata": {
    "editable": true,
    "slideshow": {
     "slide_type": ""
    },
    "tags": []
   },
   "outputs": [],
   "source": [
    "fixed_enrollment = pivoted_enrollment.reset_index(names = ...)\n",
    "fixed_enrollment.columns.name = ...\n",
    "fixed_enrollment"
   ]
  },
  {
   "cell_type": "code",
   "execution_count": null,
   "id": "f6d28b34-79f1-4ad6-a7e6-62bb451ec3a5",
   "metadata": {
    "editable": true,
    "slideshow": {
     "slide_type": ""
    },
    "tags": []
   },
   "outputs": [],
   "source": []
  }
 ],
 "metadata": {
  "kernelspec": {
   "display_name": "Python 3 (ipykernel)",
   "language": "python",
   "name": "python3"
  },
  "language_info": {
   "codemirror_mode": {
    "name": "ipython",
    "version": 3
   },
   "file_extension": ".py",
   "mimetype": "text/x-python",
   "name": "python",
   "nbconvert_exporter": "python",
   "pygments_lexer": "ipython3",
   "version": "3.11.4"
  }
 },
 "nbformat": 4,
 "nbformat_minor": 5
}
