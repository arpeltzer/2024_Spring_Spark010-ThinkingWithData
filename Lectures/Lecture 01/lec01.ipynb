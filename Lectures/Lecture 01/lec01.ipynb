{
 "cells": [
  {
   "cell_type": "markdown",
   "metadata": {},
   "source": [
    "# Lecture 1 – Introduction\n",
    "\n",
    "## Spark 010 - Spring 2024"
   ]
  },
  {
   "cell_type": "markdown",
   "metadata": {},
   "source": [
    "This is a Jupyter notebook. We'll write all of our code in this class in a Jupyter notebook.\n",
    "\n",
    "Today, don't worry about how any of this works. Throughout the semester, we'll learn how each of these pieces work.\n",
    "\n",
    "**Note: If you're having trouble loading any plots or maps, try using Google Chrome.**"
   ]
  },
  {
   "cell_type": "code",
   "execution_count": null,
   "metadata": {},
   "outputs": [],
   "source": [
    "try:\n",
    "    from datascience import *\n",
    "except:\n",
    "    %pip install -q datascience\n",
    "    from datascience import *\n",
    "import numpy as np\n",
    "import matplotlib.pyplot as plt\n",
    "%matplotlib inline\n",
    "import plotly.graph_objects as go"
   ]
  },
  {
   "cell_type": "markdown",
   "metadata": {},
   "source": [
    "## California universities\n",
    "\n",
    "Here, we'll load in data about all public universities in California. The data comes from [this Wikipedia article](https://en.wikipedia.org/wiki/List_of_colleges_and_universities_in_California)."
   ]
  },
  {
   "cell_type": "code",
   "execution_count": null,
   "metadata": {},
   "outputs": [],
   "source": [
    "# Load in the \"california_universities.csv\" file in the \"data\" folder\n",
    "uni = Table.read_table('data/california_universities.csv')\n",
    "\n",
    "# Remove irregular formatting\n",
    "uni = uni.with_columns(\n",
    "    'Enrollment', uni.apply(lambda s: int(s.replace(',', '')), 'Enrollment'),\n",
    "    'Founded', uni.apply(lambda s: int(s.replace('*', '')), 'Founded')\n",
    ")"
   ]
  },
  {
   "cell_type": "markdown",
   "metadata": {},
   "source": [
    "Data is often stored in tables. In about a few weeks, we'll become very, very familiar with how tables work. But for now, let's just observe."
   ]
  },
  {
   "cell_type": "code",
   "execution_count": null,
   "metadata": {},
   "outputs": [],
   "source": [
    "# Let's see what the table looks like\n",
    "uni.show(5)"
   ]
  },
  {
   "cell_type": "markdown",
   "metadata": {},
   "source": [
    "Let's start asking questions."
   ]
  },
  {
   "cell_type": "markdown",
   "metadata": {},
   "source": [
    "### What are the largest public universities in California?"
   ]
  },
  {
   "cell_type": "code",
   "execution_count": null,
   "metadata": {},
   "outputs": [],
   "source": [
    "# Largest universities - table format\n",
    "uni.sort(\"Enrollment\", descending=True).show(5)"
   ]
  },
  {
   "cell_type": "code",
   "execution_count": null,
   "metadata": {},
   "outputs": [],
   "source": [
    "# Can we visualize the sizes of each university?\n",
    "uni.sort(\"Enrollment\", descending=True).barh(\"Name\", \"Enrollment\")"
   ]
  },
  {
   "cell_type": "markdown",
   "metadata": {},
   "source": [
    "### What's the oldest public university in California? 🤔"
   ]
  },
  {
   "cell_type": "code",
   "execution_count": null,
   "metadata": {},
   "outputs": [],
   "source": [
    "# Oldest university - table format\n",
    "uni.sort(\"Founded\", descending=False).show(1)"
   ]
  },
  {
   "cell_type": "code",
   "execution_count": null,
   "metadata": {},
   "outputs": [],
   "source": [
    "# How can we visualize the ages of the universities?\n",
    "uni_copy = uni.sort('Founded').with_columns('Total Universities', np.arange(1, uni.num_rows + 1))\n",
    "uni_copy.plot('Founded', 'Total Universities')"
   ]
  },
  {
   "cell_type": "markdown",
   "metadata": {},
   "source": [
    "Violà!"
   ]
  }
 ],
 "metadata": {
  "kernelspec": {
   "display_name": "Python 3 (ipykernel)",
   "language": "python",
   "name": "python3"
  },
  "language_info": {
   "codemirror_mode": {
    "name": "ipython",
    "version": 3
   },
   "file_extension": ".py",
   "mimetype": "text/x-python",
   "name": "python",
   "nbconvert_exporter": "python",
   "pygments_lexer": "ipython3",
   "version": "3.11.4"
  }
 },
 "nbformat": 4,
 "nbformat_minor": 4
}
