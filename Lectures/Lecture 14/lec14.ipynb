{
 "cells": [
  {
   "cell_type": "markdown",
   "id": "43116a2d-23b0-4821-9f6b-a3253f4e90ff",
   "metadata": {},
   "source": [
    "# Lecture 14 - UC Merced Enrollment Data\n",
    "### Spark 010 -- Spring 2024"
   ]
  },
  {
   "cell_type": "markdown",
   "id": "c15679bc-ff9a-4955-bd08-6cc51c5939b6",
   "metadata": {},
   "source": [
    "In this notebook, we will look at data on applications to UC Merced from 2018 to 2024."
   ]
  },
  {
   "cell_type": "code",
   "execution_count": null,
   "id": "eea20549-ec9e-4dd6-ad2c-9cacdbf27c9b",
   "metadata": {},
   "outputs": [],
   "source": [
    "import pandas as pd\n",
    "pd.set_option(\"display.max_columns\",None)\n",
    "pd.set_option(\"display.max_rows\",None)\n",
    "pd.options.display.width = 0\n",
    "pd.options.display.max_colwidth = 10\n",
    "import seaborn as sns\n",
    "sns.set_style(\"darkgrid\")\n",
    "import matplotlib.pyplot as plt"
   ]
  },
  {
   "cell_type": "code",
   "execution_count": null,
   "id": "357d3bb8-193f-4165-90d9-698bf4350947",
   "metadata": {},
   "outputs": [],
   "source": [
    "df = pd.read_csv(\"enrollment.csv\")"
   ]
  },
  {
   "cell_type": "code",
   "execution_count": null,
   "id": "1d9f7377-3266-4f0a-8730-58929a33b4ff",
   "metadata": {},
   "outputs": [],
   "source": [
    "df.head()"
   ]
  },
  {
   "cell_type": "markdown",
   "id": "7b5686b2-93a4-4110-9475-15bf69205947",
   "metadata": {},
   "source": [
    "The columns are:\n",
    "\n",
    "- `'TERM_CODE_KEY'`: Year and Term Code (10 for Spring and 30 for Fall)\n",
    "- `'SID'`: Student ID (made-up for anonymity)\n",
    "- `'ENTERINGLEVEL'`: Freshman or Transfer\n",
    "- `'MAJR_DESC'`: Major of the applicant\n",
    "- `'ADMITTED'`: Whether the student was addmitted (Y or N)\n",
    "- `'GENDER'`: Student's gender\n"
   ]
  },
  {
   "cell_type": "markdown",
   "id": "a38654db-4a43-485e-8c4a-9bf01fd75c13",
   "metadata": {},
   "source": [
    "## Part 1 - Data Cleaning"
   ]
  },
  {
   "cell_type": "markdown",
   "id": "5081afcb-01b1-4846-9512-c42fcaa48246",
   "metadata": {},
   "source": [
    "### Question 1:\n",
    "What are the distinct values found in the column `'TERM_CODE_KEY'`? One way to answer this would be to use `df['col_name'].unique()` or `df['col_name'].value_counts()` "
   ]
  },
  {
   "cell_type": "code",
   "execution_count": null,
   "id": "cca51468-e622-4f1b-9149-0c9ee1f5ebd4",
   "metadata": {},
   "outputs": [],
   "source": [
    "# Fill in ... with your answer\n",
    "TermCodeValues = ...\n",
    "TermCodeValues"
   ]
  },
  {
   "cell_type": "markdown",
   "id": "7f193ba5-896e-4728-ac0a-0533d52e2c45",
   "metadata": {},
   "source": [
    "### Pre-processing the `TERM_CODE_KEY` column"
   ]
  },
  {
   "cell_type": "markdown",
   "id": "d53948c1-a980-47f9-84f7-8b14aa44c92c",
   "metadata": {},
   "source": [
    "Let's **split** the TERM_CODE_KEY column into two, making two **new** columns `'YEAR'` and `'TERM'`. This will be useful later on when grouping our dataset by year."
   ]
  },
  {
   "cell_type": "code",
   "execution_count": null,
   "id": "49167ced-2b62-48c4-b6d8-071fbbab6cf8",
   "metadata": {},
   "outputs": [],
   "source": [
    "# just run me\n",
    "def get_year(code):\n",
    "    # return only the first four digits of the term_code_key column\n",
    "    return int(str(code)[:4])"
   ]
  },
  {
   "cell_type": "code",
   "execution_count": null,
   "id": "effe53f9-7796-43bd-96fc-51d747bcc1fc",
   "metadata": {},
   "outputs": [],
   "source": [
    "df['YEAR'] = df['TERM_CODE_KEY'].apply(get_year)"
   ]
  },
  {
   "cell_type": "code",
   "execution_count": null,
   "id": "abbd5d19-4c31-451b-bc20-78845fc15462",
   "metadata": {},
   "outputs": [],
   "source": [
    "# just run me\n",
    "def get_term(code):\n",
    "    term_code = str(code)[-2:]\n",
    "    if term_code == '30':\n",
    "        return 'Fall' # 30 is the code for Fall\n",
    "    elif term_code == '10':\n",
    "        return 'Spring' # 10 is the code for Fall\n",
    "    else:\n",
    "        return None"
   ]
  },
  {
   "cell_type": "code",
   "execution_count": null,
   "id": "67a08702-9950-48ad-a6cd-72b66746af9d",
   "metadata": {},
   "outputs": [],
   "source": [
    "df['TERM'] = df['TERM_CODE_KEY'].apply(get_term)"
   ]
  },
  {
   "cell_type": "code",
   "execution_count": null,
   "id": "5a349548-8ccf-4fc4-90bf-445ee307f148",
   "metadata": {},
   "outputs": [],
   "source": [
    "df.head()"
   ]
  },
  {
   "cell_type": "markdown",
   "id": "ae50deb9-7151-4290-ad82-d2321040faa1",
   "metadata": {},
   "source": [
    "As you can see, we now have two extra columns in our table. Now that we have gotten the information we need from `TERM_CODE_KEY`, we can drop it from our table, along with `'SID'`."
   ]
  },
  {
   "cell_type": "markdown",
   "id": "8412f6b6-5bb7-4d7f-a255-85fef3ec962d",
   "metadata": {},
   "source": [
    "### Problem 2:\n",
    "Use `df.drop()` to drop `'TERM_CODE_KEY'` and `'SID'` from our table."
   ]
  },
  {
   "cell_type": "code",
   "execution_count": null,
   "id": "23afe6ae-840b-4326-8e12-d517de2d516e",
   "metadata": {},
   "outputs": [],
   "source": [
    "# Fill in the ... with the appropriate column labels\n",
    "\n",
    "df = df.drop(columns = [ ... , ... ])"
   ]
  },
  {
   "cell_type": "code",
   "execution_count": null,
   "id": "c02f045f-d6c4-4d88-9e46-98cca332cb7d",
   "metadata": {},
   "outputs": [],
   "source": [
    "df.head()"
   ]
  },
  {
   "cell_type": "code",
   "execution_count": null,
   "id": "ea737c6b-b2f7-4922-891a-3e9e45c99f20",
   "metadata": {},
   "outputs": [],
   "source": [
    "df.tail()"
   ]
  },
  {
   "cell_type": "markdown",
   "id": "dc11d167-a436-4575-a815-3a1a1f0a5c1c",
   "metadata": {},
   "source": [
    "## Part 2 - Visualizing the enrollment data"
   ]
  },
  {
   "cell_type": "markdown",
   "id": "b41c99eb-0385-4d10-844e-78c80ce3f4b2",
   "metadata": {},
   "source": [
    "### Value Counts and Distribution Tables"
   ]
  },
  {
   "cell_type": "markdown",
   "id": "38fd2611-e354-4af4-9664-8817a792f242",
   "metadata": {},
   "source": [
    "### Question 3:\n",
    "One question we may have is, \"What are the most popular majors?\" Use `value_counts()` to find the top ten majors in terms of number of applicants."
   ]
  },
  {
   "cell_type": "code",
   "execution_count": null,
   "id": "15d4be7d-486e-44c5-b346-e97291f0a871",
   "metadata": {},
   "outputs": [],
   "source": [
    "# Put your answer to question 3 here\n",
    "\n",
    "major_counts = ...\n",
    "major_counts"
   ]
  },
  {
   "cell_type": "markdown",
   "id": "eabb4de1-849d-4621-8d98-f3a6c03bce5a",
   "metadata": {},
   "source": [
    "Now we can use `df.plot.barh` to plot the top 10 majors in a horizontal bar chart."
   ]
  },
  {
   "cell_type": "code",
   "execution_count": null,
   "id": "e7c1f191-7cfb-42cb-9e7c-9e1d6861c5cd",
   "metadata": {},
   "outputs": [],
   "source": [
    "Plot = major_counts.head(10).plot.barh()"
   ]
  },
  {
   "cell_type": "markdown",
   "id": "b460b556-731b-46c5-a0f5-8055866dbf21",
   "metadata": {},
   "source": [
    "### Problem 4:\n",
    "Make a horizontal bar chart that plots the **top five majors** for **transfer students only**\\. Be sure to use `value_counts()` on the `'MAJR_DESC'` column."
   ]
  },
  {
   "cell_type": "code",
   "execution_count": null,
   "id": "7463b4d3-084c-42e4-9187-2d9e0977a829",
   "metadata": {},
   "outputs": [],
   "source": [
    "# Fill in the ... with your answer\n",
    "\n",
    "\n",
    "# Filter so that we only have Transfer students\n",
    "Filter = ...\n",
    "Transfer_Students = df[Filter]\n",
    "\n",
    "\n",
    "# Get the value counts for the MAJR_DESC columns\n",
    "\n",
    "major_counts = ...\n",
    "\n",
    "\n",
    "# Plot\n",
    "\n",
    "Plot = ..."
   ]
  },
  {
   "cell_type": "markdown",
   "id": "3f76938b-5f49-48e6-8882-77a37e7d639e",
   "metadata": {},
   "source": [
    "### Plotting Stacked Bar Charts using groupby"
   ]
  },
  {
   "cell_type": "markdown",
   "id": "4d4340bd-ffc0-427d-828f-9990ce7f33ea",
   "metadata": {},
   "source": [
    "We've seen in class how to plot more than one bar chart side-by-side to visualize multiple variable at once. This time, let's do the same, but using `df.groupby()`, looking at the top 5 majors in terms of number of applicants in the year 2023. We will then plot these top 5 majors along with admission rate percentages."
   ]
  },
  {
   "cell_type": "markdown",
   "id": "ab24d298-f457-4d01-a374-19760033ae36",
   "metadata": {},
   "source": [
    "Filter the `df` table so that it only includes 2023 applicants."
   ]
  },
  {
   "cell_type": "code",
   "execution_count": null,
   "id": "c90bce74-5b98-4144-a584-6f8f43d0fde1",
   "metadata": {},
   "outputs": [],
   "source": [
    "# Fill in the ... with your answer\n",
    "\n",
    "# Filter the data to only include 2023\n",
    "Filter = ...\n",
    "df_2023 = df[Filter]\n",
    "df_2023.head()"
   ]
  },
  {
   "cell_type": "markdown",
   "id": "f05fe47a-7548-4dd4-a7e8-04c1a3fe05ca",
   "metadata": {},
   "source": [
    "Now to make a list of the top 5 majors in 2023, we can use the index of value_counts"
   ]
  },
  {
   "cell_type": "code",
   "execution_count": 45,
   "id": "e3e315af-ee86-4432-9aee-88b0a22cfb79",
   "metadata": {},
   "outputs": [
    {
     "data": {
      "text/plain": [
       "['Undeclared',\n",
       " 'Biological Sciences',\n",
       " 'Computer Science & Engineering',\n",
       " 'Management &Business Economics',\n",
       " 'Psychology']"
      ]
     },
     "execution_count": 45,
     "metadata": {},
     "output_type": "execute_result"
    }
   ],
   "source": [
    "# just run me\n",
    "\n",
    "# Make a list of the top 5 majors in 2023 by applicant count\n",
    "Top5_list = df_2023['MAJR_DESC'].value_counts().head(5).index.tolist()\n",
    "Top5_list"
   ]
  },
  {
   "cell_type": "markdown",
   "id": "51139862-d059-4c1d-8aa9-74ec8229a75e",
   "metadata": {},
   "source": [
    "Not we need to filter `df_2023` so that it only includes majors from `Top5_list`. Remember to use `df['col_name'].isin()`"
   ]
  },
  {
   "cell_type": "code",
   "execution_count": null,
   "id": "8acec6fb-7637-4ef8-977c-4cd2f10363c1",
   "metadata": {},
   "outputs": [],
   "source": [
    "# Fill in the ... with your answer\n",
    "\n",
    "# Filter to only include these top 5 majors\n",
    "Filter = ...\n",
    "Top5_2023 = df_2023[Filter]\n",
    "\n",
    "Top5_2023.head()"
   ]
  },
  {
   "cell_type": "markdown",
   "id": "a9b3f2e1-f932-4339-be5e-f71f1709064d",
   "metadata": {},
   "source": [
    "### Plotting stacked bar charts -- Advanced"
   ]
  },
  {
   "cell_type": "markdown",
   "id": "58dba821-c591-4a53-b36f-9d16383baea8",
   "metadata": {},
   "source": [
    "Now we can make a nice bar chart with more adanced information."
   ]
  },
  {
   "cell_type": "code",
   "execution_count": 42,
   "id": "2c3a11dd-89e6-421b-97e1-b82ae5665e91",
   "metadata": {},
   "outputs": [
    {
     "data": {
      "image/png": "[encoded data removed]",
      "text/plain": [
       "<Figure size 1000x600 with 1 Axes>"
      ]
     },
     "metadata": {},
     "output_type": "display_data"
    }
   ],
   "source": [
    "# just run me\n",
    "\n",
    "filtered_data = Top5_2023\n",
    "\n",
    "# Group by major and admitted status, and calculate the percentage admitted\n",
    "grouped = filtered_data.groupby(['MAJR_DESC', 'ADMITTED']).size().unstack(fill_value=0)\n",
    "grouped['Total'] = grouped['Y'] + grouped['N']\n",
    "grouped['Percent Admitted'] = grouped['Y'] / grouped['Total'] * 100\n",
    "\n",
    "# Plotting the stacked bar chart\n",
    "colors = {'Y': '#1f77b4', 'N': '#ff7f0e'}\n",
    "ax = grouped[['Y', 'N']].plot(kind='barh', stacked=True, color=[colors[col] for col in ['Y','N']], figsize=(10, 6))\n",
    "\n",
    "# Add text for percentage admitted\n",
    "for i, (index, row) in enumerate(grouped.iterrows()):\n",
    "    ax.text(row['Y'] / 2, i, f\"{row['Percent Admitted']:.1f}%\", ha='center', va='center', color='white')\n",
    "\n",
    "# Customizing the plot\n",
    "plt.title('UC Merced - 2023 - Admission Status for Top 5 Majors')\n",
    "plt.xlabel('Number of Applicants')\n",
    "plt.ylabel('Major')\n",
    "plt.legend(title='Admitted', loc='right')\n",
    "\n",
    "# Show the plot\n",
    "plt.show()"
   ]
  },
  {
   "cell_type": "markdown",
   "id": "1e389aca-9d3a-426d-9ff2-e6edccf1f568",
   "metadata": {},
   "source": [
    "## Part 3 - Open-Ended questions"
   ]
  },
  {
   "cell_type": "markdown",
   "id": "3f3c9fe8-9333-4cc8-99a0-c06842a66220",
   "metadata": {},
   "source": [
    "### Question 5: \n",
    "\n",
    "Answer one of the following questions of your choice.\n",
    "\n",
    "- Which majors have the most Female students applying?\n",
    "- Which majors have the highest percentage of students applying that are Female?\n",
    "- Are Transfer students more likely to be admitted?\n",
    "- Do Transfer students choose to apply in similar majors as Freshman applicants?\n",
    "- What majors are the hardest/easiest to get admitted into?"
   ]
  },
  {
   "cell_type": "code",
   "execution_count": null,
   "id": "631f0379-9c68-4119-b0dc-9ff4fe9388c0",
   "metadata": {},
   "outputs": [],
   "source": [
    "# Put your code for question 4 here\n",
    "\n"
   ]
  },
  {
   "cell_type": "markdown",
   "id": "33519168-e45b-4cb2-8e2f-ce9e6446b62a",
   "metadata": {},
   "source": [
    "### Question 6:\n",
    "Answer your own personal question you may have on the data. Pick something you would find interesting to look at given this dataset. Write a short summary reflection about your findings (two to three sentences). And make sure to comment your code so that we know what you are trying to do."
   ]
  },
  {
   "cell_type": "code",
   "execution_count": null,
   "id": "29ef848a-91f6-4df6-83ef-8330388207ab",
   "metadata": {},
   "outputs": [],
   "source": [
    "# Put your code for question 5 here\n",
    "\n"
   ]
  },
  {
   "cell_type": "markdown",
   "id": "3ca5be5c-a8ae-4c29-af7a-ddbc224bef61",
   "metadata": {},
   "source": [
    "Put your reflection in this cell (double-click the cell to enter it):\n",
    "</br>\n",
    "</br>\n",
    "\n",
    "\n",
    "\n",
    "\n",
    "\n",
    "</br>\n",
    "</br>\n",
    "End reflection"
   ]
  },
  {
   "cell_type": "code",
   "execution_count": null,
   "id": "19158dfb-f236-499e-8cc1-38544cbdaeec",
   "metadata": {},
   "outputs": [],
   "source": []
  },
  {
   "cell_type": "markdown",
   "id": "662dadfd-63f9-4029-92d4-361926810980",
   "metadata": {},
   "source": [
    "## Conclusion"
   ]
  },
  {
   "cell_type": "markdown",
   "id": "d0e9c8c2-fd5b-4eac-bea3-e5c56197dadc",
   "metadata": {},
   "source": [
    "What type of datasets would you enjoy working with in this class?"
   ]
  },
  {
   "cell_type": "code",
   "execution_count": null,
   "id": "b24d0276-6a7d-4675-8ee6-aa83e0d63af1",
   "metadata": {},
   "outputs": [],
   "source": []
  },
  {
   "cell_type": "markdown",
   "id": "a6920194-8911-4551-9ecc-dbcc669b7a03",
   "metadata": {},
   "source": [
    "# Submission\n",
    "\n",
    "Make sure you have run all cells in your notebook so that all images/graphs (if any) appear in the output before preparing to submit your work.  **Please create a PDF using File->Save and Export Notebook as->PDF**, then upload this document to the appropriate assignment on Catcourses."
   ]
  }
 ],
 "metadata": {
  "kernelspec": {
   "display_name": "Python 3 (ipykernel)",
   "language": "python",
   "name": "python3"
  },
  "language_info": {
   "codemirror_mode": {
    "name": "ipython",
    "version": 3
   },
   "file_extension": ".py",
   "mimetype": "text/x-python",
   "name": "python",
   "nbconvert_exporter": "python",
   "pygments_lexer": "ipython3",
   "version": "3.11.4"
  }
 },
 "nbformat": 4,
 "nbformat_minor": 5
}
