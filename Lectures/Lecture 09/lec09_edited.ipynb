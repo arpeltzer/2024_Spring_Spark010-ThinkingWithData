{
 "cells": [
  {
   "cell_type": "markdown",
   "id": "1a79326b-33a8-47e7-960d-6c998ebaac97",
   "metadata": {},
   "source": [
    "# Lecture 9 – Table Fundamentals and Visualization Demo\n",
    "\n",
    "### Spark 010, Spring 2024"
   ]
  },
  {
   "cell_type": "markdown",
   "id": "d81639c6-6eb7-4a75-959f-8d4fd1e056d3",
   "metadata": {},
   "source": [
    "In this notebook, we will look at state populations for the years 2020 through 2023 and look for growth trends. We will also compare state population with land mass to get an idea of which states are the most densely populated."
   ]
  },
  {
   "cell_type": "markdown",
   "id": "60020f2d",
   "metadata": {},
   "source": [
    "### Part I - State Populations by year"
   ]
  },
  {
   "cell_type": "markdown",
   "id": "6a51b2df-42c9-41c6-aa2c-8b423d1a92bb",
   "metadata": {},
   "source": [
    "As always, we'll start by importing the requisite packages."
   ]
  },
  {
   "cell_type": "code",
   "execution_count": 19,
   "id": "6f101488-f10e-42c7-a2fc-708b6a593440",
   "metadata": {},
   "outputs": [],
   "source": [
    "import pandas as pd"
   ]
  },
  {
   "cell_type": "markdown",
   "id": "8ca39fdd",
   "metadata": {},
   "source": [
    "Let's import a table that has U.S. state population by year from 2020-2023.\n",
    "\n",
    "\n",
    "The source of the dataset is [census.gov](https://www.census.gov/data/tables/time-series/demo/popest/2020s-state-total.html).\n"
   ]
  },
  {
   "cell_type": "code",
   "execution_count": 20,
   "id": "4ae79334",
   "metadata": {},
   "outputs": [],
   "source": [
    "state_pops = pd.read_csv(\"data/state_pops.csv\")"
   ]
  },
  {
   "cell_type": "code",
   "execution_count": 21,
   "id": "c7cb111a",
   "metadata": {},
   "outputs": [
    {
     "data": {
      "text/html": [
       "<div>\n",
       "<style scoped>\n",
       "    .dataframe tbody tr th:only-of-type {\n",
       "        vertical-align: middle;\n",
       "    }\n",
       "\n",
       "    .dataframe tbody tr th {\n",
       "        vertical-align: top;\n",
       "    }\n",
       "\n",
       "    .dataframe thead th {\n",
       "        text-align: right;\n",
       "    }\n",
       "</style>\n",
       "<table border=\"1\" class=\"dataframe\">\n",
       "  <thead>\n",
       "    <tr style=\"text-align: right;\">\n",
       "      <th></th>\n",
       "      <th>State</th>\n",
       "      <th>2020</th>\n",
       "      <th>2021</th>\n",
       "      <th>2022</th>\n",
       "      <th>2023</th>\n",
       "    </tr>\n",
       "  </thead>\n",
       "  <tbody>\n",
       "    <tr>\n",
       "      <th>0</th>\n",
       "      <td>Alabama</td>\n",
       "      <td>5031864</td>\n",
       "      <td>5050380</td>\n",
       "      <td>5073903</td>\n",
       "      <td>5108468</td>\n",
       "    </tr>\n",
       "    <tr>\n",
       "      <th>1</th>\n",
       "      <td>Alaska</td>\n",
       "      <td>732964</td>\n",
       "      <td>734923</td>\n",
       "      <td>733276</td>\n",
       "      <td>733406</td>\n",
       "    </tr>\n",
       "    <tr>\n",
       "      <th>2</th>\n",
       "      <td>Arizona</td>\n",
       "      <td>7186683</td>\n",
       "      <td>7272487</td>\n",
       "      <td>7365684</td>\n",
       "      <td>7431344</td>\n",
       "    </tr>\n",
       "    <tr>\n",
       "      <th>3</th>\n",
       "      <td>Arkansas</td>\n",
       "      <td>3014348</td>\n",
       "      <td>3028443</td>\n",
       "      <td>3046404</td>\n",
       "      <td>3067732</td>\n",
       "    </tr>\n",
       "    <tr>\n",
       "      <th>4</th>\n",
       "      <td>California</td>\n",
       "      <td>39503200</td>\n",
       "      <td>39145060</td>\n",
       "      <td>39040616</td>\n",
       "      <td>38965193</td>\n",
       "    </tr>\n",
       "  </tbody>\n",
       "</table>\n",
       "</div>"
      ],
      "text/plain": [
       "        State      2020      2021      2022      2023\n",
       "0     Alabama   5031864   5050380   5073903   5108468\n",
       "1      Alaska    732964    734923    733276    733406\n",
       "2     Arizona   7186683   7272487   7365684   7431344\n",
       "3    Arkansas   3014348   3028443   3046404   3067732\n",
       "4  California  39503200  39145060  39040616  38965193"
      ]
     },
     "execution_count": 21,
     "metadata": {},
     "output_type": "execute_result"
    }
   ],
   "source": [
    "state_pops.head()"
   ]
  },
  {
   "cell_type": "markdown",
   "id": "4f5a11b1",
   "metadata": {},
   "source": [
    "Without looking at the data, which states do you think are growing the fastest: Northeast, Midwest, South, or West states?"
   ]
  },
  {
   "cell_type": "markdown",
   "id": "9a9c539f-bbed-4c43-9ce8-aff23e4d3e0b",
   "metadata": {},
   "source": [
    "I think the west - but I have NO idea why!!"
   ]
  },
  {
   "cell_type": "markdown",
   "id": "ab0fbb57-e367-4118-af0b-fa17b52d1ca4",
   "metadata": {},
   "source": [
    "Let's make a percent change column that represents the percentage change in population from 2022 to 2023"
   ]
  },
  {
   "cell_type": "code",
   "execution_count": 25,
   "id": "9cc6411a",
   "metadata": {},
   "outputs": [
    {
     "data": {
      "text/plain": [
       "0    -0.681231\n",
       "1    -0.017729\n",
       "2    -0.891431\n",
       "3    -0.700104\n",
       "4     0.193191\n",
       "5    -0.626104\n",
       "6    -0.234710\n",
       "7    -1.219372\n",
       "8    -1.195769\n",
       "9    -1.641701\n",
       "10   -1.063643\n",
       "11    0.296026\n",
       "12   -1.326975\n",
       "13    0.260886\n",
       "14   -0.437995\n",
       "15   -0.228491\n",
       "16   -0.130418\n",
       "17   -0.323413\n",
       "18    0.311114\n",
       "19   -0.459499\n",
       "20   -0.263985\n",
       "21   -0.267216\n",
       "22   -0.039668\n",
       "23   -0.413261\n",
       "24   -0.025928\n",
       "25   -0.307390\n",
       "26   -0.884691\n",
       "27   -0.524323\n",
       "28   -0.527314\n",
       "29   -0.218084\n",
       "30   -0.324205\n",
       "31   -0.042347\n",
       "32    0.518391\n",
       "33   -1.304473\n",
       "34   -0.643718\n",
       "35   -0.223118\n",
       "36   -0.859683\n",
       "37    0.142026\n",
       "38    0.080234\n",
       "39   -0.193812\n",
       "40   -1.714949\n",
       "41   -1.038501\n",
       "42   -1.099635\n",
       "43   -1.576608\n",
       "44   -1.079428\n",
       "45   -0.054705\n",
       "46   -0.421691\n",
       "47   -0.364867\n",
       "48    0.223445\n",
       "49   -0.346522\n",
       "50   -0.417448\n",
       "dtype: float64"
      ]
     },
     "execution_count": 25,
     "metadata": {},
     "output_type": "execute_result"
    }
   ],
   "source": [
    "((state_pops.loc[:,\"2022\"]-state_pops.loc[:,\"2023\"])/state_pops.loc[:,\"2022\"])*100"
   ]
  },
  {
   "cell_type": "code",
   "execution_count": 33,
   "id": "845fb83a-a0da-4722-bdfc-64c23ab0dd95",
   "metadata": {},
   "outputs": [],
   "source": [
    "state_pops['pct_growth'] = 100*(state_pops['2023']-state_pops['2022'])/state_pops['2022']"
   ]
  },
  {
   "cell_type": "markdown",
   "id": "1f7273ff",
   "metadata": {},
   "source": [
    "Which three states are gaining residents the fastest?"
   ]
  },
  {
   "cell_type": "code",
   "execution_count": 39,
   "id": "1adaec56",
   "metadata": {},
   "outputs": [
    {
     "data": {
      "text/html": [
       "<div>\n",
       "<style scoped>\n",
       "    .dataframe tbody tr th:only-of-type {\n",
       "        vertical-align: middle;\n",
       "    }\n",
       "\n",
       "    .dataframe tbody tr th {\n",
       "        vertical-align: top;\n",
       "    }\n",
       "\n",
       "    .dataframe thead th {\n",
       "        text-align: right;\n",
       "    }\n",
       "</style>\n",
       "<table border=\"1\" class=\"dataframe\">\n",
       "  <thead>\n",
       "    <tr style=\"text-align: right;\">\n",
       "      <th></th>\n",
       "      <th>State</th>\n",
       "      <th>2020</th>\n",
       "      <th>2021</th>\n",
       "      <th>2022</th>\n",
       "      <th>2023</th>\n",
       "      <th>pct_growth</th>\n",
       "    </tr>\n",
       "  </thead>\n",
       "  <tbody>\n",
       "    <tr>\n",
       "      <th>32</th>\n",
       "      <td>New York</td>\n",
       "      <td>20104710</td>\n",
       "      <td>19854526</td>\n",
       "      <td>19673200</td>\n",
       "      <td>19571216</td>\n",
       "      <td>-0.518391</td>\n",
       "    </tr>\n",
       "    <tr>\n",
       "      <th>18</th>\n",
       "      <td>Louisiana</td>\n",
       "      <td>4652022</td>\n",
       "      <td>4627047</td>\n",
       "      <td>4588023</td>\n",
       "      <td>4573749</td>\n",
       "      <td>-0.311114</td>\n",
       "    </tr>\n",
       "    <tr>\n",
       "      <th>11</th>\n",
       "      <td>Hawaii</td>\n",
       "      <td>1451181</td>\n",
       "      <td>1446745</td>\n",
       "      <td>1439399</td>\n",
       "      <td>1435138</td>\n",
       "      <td>-0.296026</td>\n",
       "    </tr>\n",
       "    <tr>\n",
       "      <th>13</th>\n",
       "      <td>Illinois</td>\n",
       "      <td>12790357</td>\n",
       "      <td>12690341</td>\n",
       "      <td>12582515</td>\n",
       "      <td>12549689</td>\n",
       "      <td>-0.260886</td>\n",
       "    </tr>\n",
       "    <tr>\n",
       "      <th>48</th>\n",
       "      <td>West Virginia</td>\n",
       "      <td>1791562</td>\n",
       "      <td>1785249</td>\n",
       "      <td>1774035</td>\n",
       "      <td>1770071</td>\n",
       "      <td>-0.223445</td>\n",
       "    </tr>\n",
       "    <tr>\n",
       "      <th>4</th>\n",
       "      <td>California</td>\n",
       "      <td>39503200</td>\n",
       "      <td>39145060</td>\n",
       "      <td>39040616</td>\n",
       "      <td>38965193</td>\n",
       "      <td>-0.193191</td>\n",
       "    </tr>\n",
       "    <tr>\n",
       "      <th>37</th>\n",
       "      <td>Oregon</td>\n",
       "      <td>4245044</td>\n",
       "      <td>4256465</td>\n",
       "      <td>4239379</td>\n",
       "      <td>4233358</td>\n",
       "      <td>-0.142026</td>\n",
       "    </tr>\n",
       "    <tr>\n",
       "      <th>38</th>\n",
       "      <td>Pennsylvania</td>\n",
       "      <td>12995477</td>\n",
       "      <td>13013614</td>\n",
       "      <td>12972091</td>\n",
       "      <td>12961683</td>\n",
       "      <td>-0.080234</td>\n",
       "    </tr>\n",
       "    <tr>\n",
       "      <th>1</th>\n",
       "      <td>Alaska</td>\n",
       "      <td>732964</td>\n",
       "      <td>734923</td>\n",
       "      <td>733276</td>\n",
       "      <td>733406</td>\n",
       "      <td>0.017729</td>\n",
       "    </tr>\n",
       "    <tr>\n",
       "      <th>24</th>\n",
       "      <td>Mississippi</td>\n",
       "      <td>2958409</td>\n",
       "      <td>2949582</td>\n",
       "      <td>2938928</td>\n",
       "      <td>2939690</td>\n",
       "      <td>0.025928</td>\n",
       "    </tr>\n",
       "  </tbody>\n",
       "</table>\n",
       "</div>"
      ],
      "text/plain": [
       "            State      2020      2021      2022      2023  pct_growth\n",
       "32       New York  20104710  19854526  19673200  19571216   -0.518391\n",
       "18      Louisiana   4652022   4627047   4588023   4573749   -0.311114\n",
       "11         Hawaii   1451181   1446745   1439399   1435138   -0.296026\n",
       "13       Illinois  12790357  12690341  12582515  12549689   -0.260886\n",
       "48  West Virginia   1791562   1785249   1774035   1770071   -0.223445\n",
       "4      California  39503200  39145060  39040616  38965193   -0.193191\n",
       "37         Oregon   4245044   4256465   4239379   4233358   -0.142026\n",
       "38   Pennsylvania  12995477  13013614  12972091  12961683   -0.080234\n",
       "1          Alaska    732964    734923    733276    733406    0.017729\n",
       "24    Mississippi   2958409   2949582   2938928   2939690    0.025928"
      ]
     },
     "execution_count": 39,
     "metadata": {},
     "output_type": "execute_result"
    }
   ],
   "source": [
    "state_pops.sort_values('pct_growth').head(10)"
   ]
  },
  {
   "cell_type": "markdown",
   "id": "1908bf00",
   "metadata": {},
   "source": [
    "Which three states are losing residents the fastest?"
   ]
  },
  {
   "cell_type": "code",
   "execution_count": 38,
   "id": "bbba92f0-0b3c-46f7-9abb-ed85eac075b1",
   "metadata": {},
   "outputs": [
    {
     "data": {
      "text/html": [
       "<div>\n",
       "<style scoped>\n",
       "    .dataframe tbody tr th:only-of-type {\n",
       "        vertical-align: middle;\n",
       "    }\n",
       "\n",
       "    .dataframe tbody tr th {\n",
       "        vertical-align: top;\n",
       "    }\n",
       "\n",
       "    .dataframe thead th {\n",
       "        text-align: right;\n",
       "    }\n",
       "</style>\n",
       "<table border=\"1\" class=\"dataframe\">\n",
       "  <thead>\n",
       "    <tr style=\"text-align: right;\">\n",
       "      <th></th>\n",
       "      <th>State</th>\n",
       "      <th>2020</th>\n",
       "      <th>2021</th>\n",
       "      <th>2022</th>\n",
       "      <th>2023</th>\n",
       "      <th>pct_growth</th>\n",
       "    </tr>\n",
       "  </thead>\n",
       "  <tbody>\n",
       "    <tr>\n",
       "      <th>10</th>\n",
       "      <td>Georgia</td>\n",
       "      <td>10732390</td>\n",
       "      <td>10790385</td>\n",
       "      <td>10913150</td>\n",
       "      <td>11029227</td>\n",
       "      <td>1.063643</td>\n",
       "    </tr>\n",
       "    <tr>\n",
       "      <th>44</th>\n",
       "      <td>Utah</td>\n",
       "      <td>3283982</td>\n",
       "      <td>3339284</td>\n",
       "      <td>3381236</td>\n",
       "      <td>3417734</td>\n",
       "      <td>1.079428</td>\n",
       "    </tr>\n",
       "    <tr>\n",
       "      <th>42</th>\n",
       "      <td>Tennessee</td>\n",
       "      <td>6926091</td>\n",
       "      <td>6963709</td>\n",
       "      <td>7048976</td>\n",
       "      <td>7126489</td>\n",
       "      <td>1.099635</td>\n",
       "    </tr>\n",
       "    <tr>\n",
       "      <th>8</th>\n",
       "      <td>District of Columbia</td>\n",
       "      <td>670839</td>\n",
       "      <td>669037</td>\n",
       "      <td>670949</td>\n",
       "      <td>678972</td>\n",
       "      <td>1.195769</td>\n",
       "    </tr>\n",
       "    <tr>\n",
       "      <th>7</th>\n",
       "      <td>Delaware</td>\n",
       "      <td>991862</td>\n",
       "      <td>1004881</td>\n",
       "      <td>1019459</td>\n",
       "      <td>1031890</td>\n",
       "      <td>1.219372</td>\n",
       "    </tr>\n",
       "    <tr>\n",
       "      <th>33</th>\n",
       "      <td>North Carolina</td>\n",
       "      <td>10453812</td>\n",
       "      <td>10567100</td>\n",
       "      <td>10695965</td>\n",
       "      <td>10835491</td>\n",
       "      <td>1.304473</td>\n",
       "    </tr>\n",
       "    <tr>\n",
       "      <th>12</th>\n",
       "      <td>Idaho</td>\n",
       "      <td>1849339</td>\n",
       "      <td>1904537</td>\n",
       "      <td>1938996</td>\n",
       "      <td>1964726</td>\n",
       "      <td>1.326975</td>\n",
       "    </tr>\n",
       "    <tr>\n",
       "      <th>43</th>\n",
       "      <td>Texas</td>\n",
       "      <td>29234361</td>\n",
       "      <td>29561286</td>\n",
       "      <td>30029848</td>\n",
       "      <td>30503301</td>\n",
       "      <td>1.576608</td>\n",
       "    </tr>\n",
       "    <tr>\n",
       "      <th>9</th>\n",
       "      <td>Florida</td>\n",
       "      <td>21591299</td>\n",
       "      <td>21830708</td>\n",
       "      <td>22245521</td>\n",
       "      <td>22610726</td>\n",
       "      <td>1.641701</td>\n",
       "    </tr>\n",
       "    <tr>\n",
       "      <th>40</th>\n",
       "      <td>South Carolina</td>\n",
       "      <td>5132151</td>\n",
       "      <td>5193848</td>\n",
       "      <td>5282955</td>\n",
       "      <td>5373555</td>\n",
       "      <td>1.714949</td>\n",
       "    </tr>\n",
       "  </tbody>\n",
       "</table>\n",
       "</div>"
      ],
      "text/plain": [
       "                   State      2020      2021      2022      2023  pct_growth\n",
       "10               Georgia  10732390  10790385  10913150  11029227    1.063643\n",
       "44                  Utah   3283982   3339284   3381236   3417734    1.079428\n",
       "42             Tennessee   6926091   6963709   7048976   7126489    1.099635\n",
       "8   District of Columbia    670839    669037    670949    678972    1.195769\n",
       "7               Delaware    991862   1004881   1019459   1031890    1.219372\n",
       "33        North Carolina  10453812  10567100  10695965  10835491    1.304473\n",
       "12                 Idaho   1849339   1904537   1938996   1964726    1.326975\n",
       "43                 Texas  29234361  29561286  30029848  30503301    1.576608\n",
       "9                Florida  21591299  21830708  22245521  22610726    1.641701\n",
       "40        South Carolina   5132151   5193848   5282955   5373555    1.714949"
      ]
     },
     "execution_count": 38,
     "metadata": {},
     "output_type": "execute_result"
    }
   ],
   "source": [
    "state_pops.sort_values('pct_growth').tail(10)"
   ]
  },
  {
   "cell_type": "code",
   "execution_count": null,
   "id": "d3451f7c",
   "metadata": {},
   "outputs": [],
   "source": []
  },
  {
   "cell_type": "markdown",
   "id": "eea944fd",
   "metadata": {},
   "source": [
    "Do you think these trends will continue? What factors do you think are important in forecasting state populations?"
   ]
  },
  {
   "cell_type": "code",
   "execution_count": null,
   "id": "65dc4eaf",
   "metadata": {},
   "outputs": [],
   "source": []
  },
  {
   "cell_type": "markdown",
   "id": "4d156707",
   "metadata": {},
   "source": [
    "How many rows are there in `state_pops`?"
   ]
  },
  {
   "cell_type": "code",
   "execution_count": 40,
   "id": "cd769b02",
   "metadata": {},
   "outputs": [
    {
     "data": {
      "text/plain": [
       "(51, 6)"
      ]
     },
     "execution_count": 40,
     "metadata": {},
     "output_type": "execute_result"
    }
   ],
   "source": [
    "state_pops.shape"
   ]
  },
  {
   "cell_type": "markdown",
   "id": "523f965a",
   "metadata": {},
   "source": [
    "Can you get rid of any row that is not a state?"
   ]
  },
  {
   "cell_type": "code",
   "execution_count": 41,
   "id": "bc0cda69-8dcf-4fd2-80b8-8b363599bad0",
   "metadata": {},
   "outputs": [],
   "source": [
    "# One way would be to use .drop\n",
    "row_num = 8\n",
    "state_pops = state_pops.drop([8])"
   ]
  },
  {
   "cell_type": "code",
   "execution_count": null,
   "id": "a9bebd4c",
   "metadata": {},
   "outputs": [],
   "source": [
    "# Another way to do this is to use boolean indexing\n",
    "bool_array = ...\n",
    "state_pops = state_pops[...]\n",
    "state_pops.shape"
   ]
  },
  {
   "cell_type": "code",
   "execution_count": 42,
   "id": "04698ccd-b8b3-49e3-987c-ae5743142466",
   "metadata": {},
   "outputs": [
    {
     "data": {
      "text/html": [
       "<div>\n",
       "<style scoped>\n",
       "    .dataframe tbody tr th:only-of-type {\n",
       "        vertical-align: middle;\n",
       "    }\n",
       "\n",
       "    .dataframe tbody tr th {\n",
       "        vertical-align: top;\n",
       "    }\n",
       "\n",
       "    .dataframe thead th {\n",
       "        text-align: right;\n",
       "    }\n",
       "</style>\n",
       "<table border=\"1\" class=\"dataframe\">\n",
       "  <thead>\n",
       "    <tr style=\"text-align: right;\">\n",
       "      <th></th>\n",
       "      <th>State</th>\n",
       "      <th>2020</th>\n",
       "      <th>2021</th>\n",
       "      <th>2022</th>\n",
       "      <th>2023</th>\n",
       "      <th>pct_growth</th>\n",
       "    </tr>\n",
       "  </thead>\n",
       "  <tbody>\n",
       "    <tr>\n",
       "      <th>0</th>\n",
       "      <td>Alabama</td>\n",
       "      <td>5031864</td>\n",
       "      <td>5050380</td>\n",
       "      <td>5073903</td>\n",
       "      <td>5108468</td>\n",
       "      <td>0.681231</td>\n",
       "    </tr>\n",
       "    <tr>\n",
       "      <th>1</th>\n",
       "      <td>Alaska</td>\n",
       "      <td>732964</td>\n",
       "      <td>734923</td>\n",
       "      <td>733276</td>\n",
       "      <td>733406</td>\n",
       "      <td>0.017729</td>\n",
       "    </tr>\n",
       "    <tr>\n",
       "      <th>2</th>\n",
       "      <td>Arizona</td>\n",
       "      <td>7186683</td>\n",
       "      <td>7272487</td>\n",
       "      <td>7365684</td>\n",
       "      <td>7431344</td>\n",
       "      <td>0.891431</td>\n",
       "    </tr>\n",
       "    <tr>\n",
       "      <th>3</th>\n",
       "      <td>Arkansas</td>\n",
       "      <td>3014348</td>\n",
       "      <td>3028443</td>\n",
       "      <td>3046404</td>\n",
       "      <td>3067732</td>\n",
       "      <td>0.700104</td>\n",
       "    </tr>\n",
       "    <tr>\n",
       "      <th>4</th>\n",
       "      <td>California</td>\n",
       "      <td>39503200</td>\n",
       "      <td>39145060</td>\n",
       "      <td>39040616</td>\n",
       "      <td>38965193</td>\n",
       "      <td>-0.193191</td>\n",
       "    </tr>\n",
       "    <tr>\n",
       "      <th>5</th>\n",
       "      <td>Colorado</td>\n",
       "      <td>5785219</td>\n",
       "      <td>5811596</td>\n",
       "      <td>5841039</td>\n",
       "      <td>5877610</td>\n",
       "      <td>0.626104</td>\n",
       "    </tr>\n",
       "    <tr>\n",
       "      <th>6</th>\n",
       "      <td>Connecticut</td>\n",
       "      <td>3577586</td>\n",
       "      <td>3603691</td>\n",
       "      <td>3608706</td>\n",
       "      <td>3617176</td>\n",
       "      <td>0.234710</td>\n",
       "    </tr>\n",
       "    <tr>\n",
       "      <th>7</th>\n",
       "      <td>Delaware</td>\n",
       "      <td>991862</td>\n",
       "      <td>1004881</td>\n",
       "      <td>1019459</td>\n",
       "      <td>1031890</td>\n",
       "      <td>1.219372</td>\n",
       "    </tr>\n",
       "    <tr>\n",
       "      <th>9</th>\n",
       "      <td>Florida</td>\n",
       "      <td>21591299</td>\n",
       "      <td>21830708</td>\n",
       "      <td>22245521</td>\n",
       "      <td>22610726</td>\n",
       "      <td>1.641701</td>\n",
       "    </tr>\n",
       "    <tr>\n",
       "      <th>10</th>\n",
       "      <td>Georgia</td>\n",
       "      <td>10732390</td>\n",
       "      <td>10790385</td>\n",
       "      <td>10913150</td>\n",
       "      <td>11029227</td>\n",
       "      <td>1.063643</td>\n",
       "    </tr>\n",
       "    <tr>\n",
       "      <th>11</th>\n",
       "      <td>Hawaii</td>\n",
       "      <td>1451181</td>\n",
       "      <td>1446745</td>\n",
       "      <td>1439399</td>\n",
       "      <td>1435138</td>\n",
       "      <td>-0.296026</td>\n",
       "    </tr>\n",
       "    <tr>\n",
       "      <th>12</th>\n",
       "      <td>Idaho</td>\n",
       "      <td>1849339</td>\n",
       "      <td>1904537</td>\n",
       "      <td>1938996</td>\n",
       "      <td>1964726</td>\n",
       "      <td>1.326975</td>\n",
       "    </tr>\n",
       "  </tbody>\n",
       "</table>\n",
       "</div>"
      ],
      "text/plain": [
       "          State      2020      2021      2022      2023  pct_growth\n",
       "0       Alabama   5031864   5050380   5073903   5108468    0.681231\n",
       "1        Alaska    732964    734923    733276    733406    0.017729\n",
       "2       Arizona   7186683   7272487   7365684   7431344    0.891431\n",
       "3      Arkansas   3014348   3028443   3046404   3067732    0.700104\n",
       "4    California  39503200  39145060  39040616  38965193   -0.193191\n",
       "5      Colorado   5785219   5811596   5841039   5877610    0.626104\n",
       "6   Connecticut   3577586   3603691   3608706   3617176    0.234710\n",
       "7      Delaware    991862   1004881   1019459   1031890    1.219372\n",
       "9       Florida  21591299  21830708  22245521  22610726    1.641701\n",
       "10      Georgia  10732390  10790385  10913150  11029227    1.063643\n",
       "11       Hawaii   1451181   1446745   1439399   1435138   -0.296026\n",
       "12        Idaho   1849339   1904537   1938996   1964726    1.326975"
      ]
     },
     "execution_count": 42,
     "metadata": {},
     "output_type": "execute_result"
    }
   ],
   "source": [
    "state_pops.head(12)"
   ]
  },
  {
   "cell_type": "markdown",
   "id": "e367e2a6",
   "metadata": {},
   "source": [
    "### Part II - U.S. State Population by Land Mass\n",
    "\n",
    "Let's import a table that has land mass by state\n",
    "\n",
    "The source of the data can be found [here](https://statesymbolsusa.org/symbol-official-item/national-us/uncategorized/states-size)"
   ]
  },
  {
   "cell_type": "code",
   "execution_count": 43,
   "id": "a53baee1",
   "metadata": {},
   "outputs": [
    {
     "data": {
      "text/html": [
       "<div>\n",
       "<style scoped>\n",
       "    .dataframe tbody tr th:only-of-type {\n",
       "        vertical-align: middle;\n",
       "    }\n",
       "\n",
       "    .dataframe tbody tr th {\n",
       "        vertical-align: top;\n",
       "    }\n",
       "\n",
       "    .dataframe thead th {\n",
       "        text-align: right;\n",
       "    }\n",
       "</style>\n",
       "<table border=\"1\" class=\"dataframe\">\n",
       "  <thead>\n",
       "    <tr style=\"text-align: right;\">\n",
       "      <th></th>\n",
       "      <th>State</th>\n",
       "      <th>Square_Miles</th>\n",
       "    </tr>\n",
       "  </thead>\n",
       "  <tbody>\n",
       "    <tr>\n",
       "      <th>0</th>\n",
       "      <td>Alaska</td>\n",
       "      <td>570641</td>\n",
       "    </tr>\n",
       "    <tr>\n",
       "      <th>1</th>\n",
       "      <td>Texas</td>\n",
       "      <td>261914</td>\n",
       "    </tr>\n",
       "    <tr>\n",
       "      <th>2</th>\n",
       "      <td>California</td>\n",
       "      <td>155973</td>\n",
       "    </tr>\n",
       "    <tr>\n",
       "      <th>3</th>\n",
       "      <td>Montana</td>\n",
       "      <td>145556</td>\n",
       "    </tr>\n",
       "    <tr>\n",
       "      <th>4</th>\n",
       "      <td>New Mexico</td>\n",
       "      <td>121365</td>\n",
       "    </tr>\n",
       "  </tbody>\n",
       "</table>\n",
       "</div>"
      ],
      "text/plain": [
       "        State  Square_Miles\n",
       "0      Alaska        570641\n",
       "1       Texas        261914\n",
       "2  California        155973\n",
       "3     Montana        145556\n",
       "4  New Mexico        121365"
      ]
     },
     "execution_count": 43,
     "metadata": {},
     "output_type": "execute_result"
    }
   ],
   "source": [
    "state_areas = pd.read_csv(\"data/state_areas.csv\")\n",
    "state_areas.head()"
   ]
  },
  {
   "cell_type": "markdown",
   "id": "e923a871",
   "metadata": {},
   "source": [
    "### Merging tables"
   ]
  },
  {
   "cell_type": "markdown",
   "id": "fd03e325",
   "metadata": {},
   "source": [
    "A very common situation that occurs is when we have two tables, and we want to access information\n",
    "on each table pertaining to the same row.\n",
    "\n",
    "\n",
    "In this example, one table has information on a state's population, and the other has information\n",
    "on a state's land mass. What if we want to calculate population per square mile?\n",
    "\n",
    "\n",
    "First we have to use pd.merge to merge the tables together\n"
   ]
  },
  {
   "cell_type": "code",
   "execution_count": 44,
   "id": "3cd1a023",
   "metadata": {},
   "outputs": [
    {
     "data": {
      "text/html": [
       "<div>\n",
       "<style scoped>\n",
       "    .dataframe tbody tr th:only-of-type {\n",
       "        vertical-align: middle;\n",
       "    }\n",
       "\n",
       "    .dataframe tbody tr th {\n",
       "        vertical-align: top;\n",
       "    }\n",
       "\n",
       "    .dataframe thead th {\n",
       "        text-align: right;\n",
       "    }\n",
       "</style>\n",
       "<table border=\"1\" class=\"dataframe\">\n",
       "  <thead>\n",
       "    <tr style=\"text-align: right;\">\n",
       "      <th></th>\n",
       "      <th>State</th>\n",
       "      <th>2020</th>\n",
       "      <th>2021</th>\n",
       "      <th>2022</th>\n",
       "      <th>2023</th>\n",
       "      <th>pct_growth</th>\n",
       "      <th>Square_Miles</th>\n",
       "    </tr>\n",
       "  </thead>\n",
       "  <tbody>\n",
       "    <tr>\n",
       "      <th>0</th>\n",
       "      <td>Alabama</td>\n",
       "      <td>5031864</td>\n",
       "      <td>5050380</td>\n",
       "      <td>5073903</td>\n",
       "      <td>5108468</td>\n",
       "      <td>0.681231</td>\n",
       "      <td>50750</td>\n",
       "    </tr>\n",
       "    <tr>\n",
       "      <th>1</th>\n",
       "      <td>Alaska</td>\n",
       "      <td>732964</td>\n",
       "      <td>734923</td>\n",
       "      <td>733276</td>\n",
       "      <td>733406</td>\n",
       "      <td>0.017729</td>\n",
       "      <td>570641</td>\n",
       "    </tr>\n",
       "    <tr>\n",
       "      <th>2</th>\n",
       "      <td>Arizona</td>\n",
       "      <td>7186683</td>\n",
       "      <td>7272487</td>\n",
       "      <td>7365684</td>\n",
       "      <td>7431344</td>\n",
       "      <td>0.891431</td>\n",
       "      <td>113642</td>\n",
       "    </tr>\n",
       "    <tr>\n",
       "      <th>3</th>\n",
       "      <td>Arkansas</td>\n",
       "      <td>3014348</td>\n",
       "      <td>3028443</td>\n",
       "      <td>3046404</td>\n",
       "      <td>3067732</td>\n",
       "      <td>0.700104</td>\n",
       "      <td>52075</td>\n",
       "    </tr>\n",
       "    <tr>\n",
       "      <th>4</th>\n",
       "      <td>California</td>\n",
       "      <td>39503200</td>\n",
       "      <td>39145060</td>\n",
       "      <td>39040616</td>\n",
       "      <td>38965193</td>\n",
       "      <td>-0.193191</td>\n",
       "      <td>155973</td>\n",
       "    </tr>\n",
       "  </tbody>\n",
       "</table>\n",
       "</div>"
      ],
      "text/plain": [
       "        State      2020      2021      2022      2023  pct_growth  \\\n",
       "0     Alabama   5031864   5050380   5073903   5108468    0.681231   \n",
       "1      Alaska    732964    734923    733276    733406    0.017729   \n",
       "2     Arizona   7186683   7272487   7365684   7431344    0.891431   \n",
       "3    Arkansas   3014348   3028443   3046404   3067732    0.700104   \n",
       "4  California  39503200  39145060  39040616  38965193   -0.193191   \n",
       "\n",
       "   Square_Miles  \n",
       "0         50750  \n",
       "1        570641  \n",
       "2        113642  \n",
       "3         52075  \n",
       "4        155973  "
      ]
     },
     "execution_count": 44,
     "metadata": {},
     "output_type": "execute_result"
    }
   ],
   "source": [
    "merged = pd.merge(state_pops,state_areas, on = 'State')\n",
    "merged.head()"
   ]
  },
  {
   "cell_type": "markdown",
   "id": "df672d8c",
   "metadata": {},
   "source": [
    "As you can now see, we've added the square miles column to the table"
   ]
  },
  {
   "cell_type": "code",
   "execution_count": 45,
   "id": "9de663f8",
   "metadata": {},
   "outputs": [
    {
     "data": {
      "text/plain": [
       "(50, 7)"
      ]
     },
     "execution_count": 45,
     "metadata": {},
     "output_type": "execute_result"
    }
   ],
   "source": [
    "merged.shape"
   ]
  },
  {
   "cell_type": "markdown",
   "id": "b19faf43",
   "metadata": {},
   "source": [
    "I am simply going to call this table `states`"
   ]
  },
  {
   "cell_type": "code",
   "execution_count": 46,
   "id": "94d236d9",
   "metadata": {},
   "outputs": [],
   "source": [
    "states = merged"
   ]
  },
  {
   "cell_type": "markdown",
   "id": "edc3502c",
   "metadata": {},
   "source": [
    "Let's make a population per sq mile column"
   ]
  },
  {
   "cell_type": "code",
   "execution_count": 54,
   "id": "0540cf7c",
   "metadata": {},
   "outputs": [
    {
     "data": {
      "text/html": [
       "<div>\n",
       "<style scoped>\n",
       "    .dataframe tbody tr th:only-of-type {\n",
       "        vertical-align: middle;\n",
       "    }\n",
       "\n",
       "    .dataframe tbody tr th {\n",
       "        vertical-align: top;\n",
       "    }\n",
       "\n",
       "    .dataframe thead th {\n",
       "        text-align: right;\n",
       "    }\n",
       "</style>\n",
       "<table border=\"1\" class=\"dataframe\">\n",
       "  <thead>\n",
       "    <tr style=\"text-align: right;\">\n",
       "      <th></th>\n",
       "      <th>State</th>\n",
       "      <th>2020</th>\n",
       "      <th>2021</th>\n",
       "      <th>2022</th>\n",
       "      <th>2023</th>\n",
       "      <th>pct_growth</th>\n",
       "      <th>Square_Miles</th>\n",
       "      <th>2023pop_per_sq_mile</th>\n",
       "    </tr>\n",
       "  </thead>\n",
       "  <tbody>\n",
       "    <tr>\n",
       "      <th>0</th>\n",
       "      <td>Alabama</td>\n",
       "      <td>5031864</td>\n",
       "      <td>5050380</td>\n",
       "      <td>5073903</td>\n",
       "      <td>5108468</td>\n",
       "      <td>0.681231</td>\n",
       "      <td>50750</td>\n",
       "      <td>100.659468</td>\n",
       "    </tr>\n",
       "    <tr>\n",
       "      <th>1</th>\n",
       "      <td>Alaska</td>\n",
       "      <td>732964</td>\n",
       "      <td>734923</td>\n",
       "      <td>733276</td>\n",
       "      <td>733406</td>\n",
       "      <td>0.017729</td>\n",
       "      <td>570641</td>\n",
       "      <td>1.285232</td>\n",
       "    </tr>\n",
       "    <tr>\n",
       "      <th>2</th>\n",
       "      <td>Arizona</td>\n",
       "      <td>7186683</td>\n",
       "      <td>7272487</td>\n",
       "      <td>7365684</td>\n",
       "      <td>7431344</td>\n",
       "      <td>0.891431</td>\n",
       "      <td>113642</td>\n",
       "      <td>65.392584</td>\n",
       "    </tr>\n",
       "    <tr>\n",
       "      <th>3</th>\n",
       "      <td>Arkansas</td>\n",
       "      <td>3014348</td>\n",
       "      <td>3028443</td>\n",
       "      <td>3046404</td>\n",
       "      <td>3067732</td>\n",
       "      <td>0.700104</td>\n",
       "      <td>52075</td>\n",
       "      <td>58.909880</td>\n",
       "    </tr>\n",
       "    <tr>\n",
       "      <th>4</th>\n",
       "      <td>California</td>\n",
       "      <td>39503200</td>\n",
       "      <td>39145060</td>\n",
       "      <td>39040616</td>\n",
       "      <td>38965193</td>\n",
       "      <td>-0.193191</td>\n",
       "      <td>155973</td>\n",
       "      <td>249.820116</td>\n",
       "    </tr>\n",
       "  </tbody>\n",
       "</table>\n",
       "</div>"
      ],
      "text/plain": [
       "        State      2020      2021      2022      2023  pct_growth  \\\n",
       "0     Alabama   5031864   5050380   5073903   5108468    0.681231   \n",
       "1      Alaska    732964    734923    733276    733406    0.017729   \n",
       "2     Arizona   7186683   7272487   7365684   7431344    0.891431   \n",
       "3    Arkansas   3014348   3028443   3046404   3067732    0.700104   \n",
       "4  California  39503200  39145060  39040616  38965193   -0.193191   \n",
       "\n",
       "   Square_Miles  2023pop_per_sq_mile  \n",
       "0         50750           100.659468  \n",
       "1        570641             1.285232  \n",
       "2        113642            65.392584  \n",
       "3         52075            58.909880  \n",
       "4        155973           249.820116  "
      ]
     },
     "execution_count": 54,
     "metadata": {},
     "output_type": "execute_result"
    }
   ],
   "source": [
    "states['2023pop_per_sq_mile'] = states['2023']/states['Square_Miles']\n",
    "states.head()"
   ]
  },
  {
   "cell_type": "markdown",
   "id": "992e9f83",
   "metadata": {},
   "source": [
    "Is there a relation between land mass and population?\n",
    "Let's use some visualization"
   ]
  },
  {
   "cell_type": "markdown",
   "id": "e7d1b9f6",
   "metadata": {},
   "source": [
    "### Visualization Example: Scatterplot"
   ]
  },
  {
   "cell_type": "markdown",
   "id": "cec31820",
   "metadata": {},
   "source": [
    "The most common plotting package in python is called [matplotlib](https://matplotlib.org). More advanced packages would be [plotly](https://plotly.com/python/) and [seaborn](https://seaborn.pydata.org) which we may see later. For now, let's import the most basic one."
   ]
  },
  {
   "cell_type": "code",
   "execution_count": 49,
   "id": "f83d7207",
   "metadata": {},
   "outputs": [],
   "source": [
    "import matplotlib.pyplot as plt"
   ]
  },
  {
   "cell_type": "markdown",
   "id": "cca437f7",
   "metadata": {},
   "source": [
    "Let's make a scatterplot of total square miles versus population"
   ]
  },
  {
   "cell_type": "code",
   "execution_count": 52,
   "id": "b3d907ea",
   "metadata": {},
   "outputs": [
    {
     "data": {
      "image/png": "[encoded data removed]",
      "text/plain": [
       "<Figure size 640x480 with 1 Axes>"
      ]
     },
     "metadata": {},
     "output_type": "display_data"
    }
   ],
   "source": [
    "# Set the x and y axes with the right columns\n",
    "X = states['Square_Miles']\n",
    "Y = states['2023']\n",
    "# use matplotlib plt.scatter\n",
    "plt.scatter(X,Y)\n",
    "# Give a good title\n",
    "plt.title(\"Population Per Square Mile\")\n",
    "# Make some appropriate axis labels\n",
    "plt.xlabel(\"Square Miles\")\n",
    "plt.ylabel(\"Population\")\n",
    "# Change the tick-marks on the y-axis\n",
    "plt.yticks([0,10^6,20^])\n",
    "plt.show()"
   ]
  },
  {
   "cell_type": "code",
   "execution_count": 56,
   "id": "c0efc65e-40ef-446e-9fa9-d77cbb5179aa",
   "metadata": {},
   "outputs": [
    {
     "data": {
      "text/html": [
       "<div>\n",
       "<style scoped>\n",
       "    .dataframe tbody tr th:only-of-type {\n",
       "        vertical-align: middle;\n",
       "    }\n",
       "\n",
       "    .dataframe tbody tr th {\n",
       "        vertical-align: top;\n",
       "    }\n",
       "\n",
       "    .dataframe thead th {\n",
       "        text-align: right;\n",
       "    }\n",
       "</style>\n",
       "<table border=\"1\" class=\"dataframe\">\n",
       "  <thead>\n",
       "    <tr style=\"text-align: right;\">\n",
       "      <th></th>\n",
       "      <th>State</th>\n",
       "      <th>2020</th>\n",
       "      <th>2021</th>\n",
       "      <th>2022</th>\n",
       "      <th>2023</th>\n",
       "      <th>pct_growth</th>\n",
       "      <th>Square_Miles</th>\n",
       "      <th>2023pop_per_sq_mile</th>\n",
       "    </tr>\n",
       "  </thead>\n",
       "  <tbody>\n",
       "    <tr>\n",
       "      <th>1</th>\n",
       "      <td>Alaska</td>\n",
       "      <td>732964</td>\n",
       "      <td>734923</td>\n",
       "      <td>733276</td>\n",
       "      <td>733406</td>\n",
       "      <td>0.017729</td>\n",
       "      <td>570641</td>\n",
       "      <td>1.285232</td>\n",
       "    </tr>\n",
       "    <tr>\n",
       "      <th>49</th>\n",
       "      <td>Wyoming</td>\n",
       "      <td>577664</td>\n",
       "      <td>579548</td>\n",
       "      <td>581629</td>\n",
       "      <td>584057</td>\n",
       "      <td>0.417448</td>\n",
       "      <td>97105</td>\n",
       "      <td>6.014695</td>\n",
       "    </tr>\n",
       "    <tr>\n",
       "      <th>25</th>\n",
       "      <td>Montana</td>\n",
       "      <td>1087211</td>\n",
       "      <td>1106366</td>\n",
       "      <td>1122878</td>\n",
       "      <td>1132812</td>\n",
       "      <td>0.884691</td>\n",
       "      <td>145556</td>\n",
       "      <td>7.782654</td>\n",
       "    </tr>\n",
       "    <tr>\n",
       "      <th>33</th>\n",
       "      <td>North Dakota</td>\n",
       "      <td>779563</td>\n",
       "      <td>777982</td>\n",
       "      <td>778912</td>\n",
       "      <td>783926</td>\n",
       "      <td>0.643718</td>\n",
       "      <td>68994</td>\n",
       "      <td>11.362234</td>\n",
       "    </tr>\n",
       "    <tr>\n",
       "      <th>40</th>\n",
       "      <td>South Dakota</td>\n",
       "      <td>887852</td>\n",
       "      <td>896299</td>\n",
       "      <td>909869</td>\n",
       "      <td>919318</td>\n",
       "      <td>1.038501</td>\n",
       "      <td>75898</td>\n",
       "      <td>12.112546</td>\n",
       "    </tr>\n",
       "    <tr>\n",
       "      <th>30</th>\n",
       "      <td>New Mexico</td>\n",
       "      <td>2118488</td>\n",
       "      <td>2116950</td>\n",
       "      <td>2113476</td>\n",
       "      <td>2114371</td>\n",
       "      <td>0.042347</td>\n",
       "      <td>121365</td>\n",
       "      <td>17.421588</td>\n",
       "    </tr>\n",
       "    <tr>\n",
       "      <th>11</th>\n",
       "      <td>Idaho</td>\n",
       "      <td>1849339</td>\n",
       "      <td>1904537</td>\n",
       "      <td>1938996</td>\n",
       "      <td>1964726</td>\n",
       "      <td>1.326975</td>\n",
       "      <td>82751</td>\n",
       "      <td>23.742625</td>\n",
       "    </tr>\n",
       "    <tr>\n",
       "      <th>26</th>\n",
       "      <td>Nebraska</td>\n",
       "      <td>1963273</td>\n",
       "      <td>1964253</td>\n",
       "      <td>1968060</td>\n",
       "      <td>1978379</td>\n",
       "      <td>0.524323</td>\n",
       "      <td>76878</td>\n",
       "      <td>25.734007</td>\n",
       "    </tr>\n",
       "    <tr>\n",
       "      <th>27</th>\n",
       "      <td>Nevada</td>\n",
       "      <td>3115840</td>\n",
       "      <td>3146632</td>\n",
       "      <td>3177421</td>\n",
       "      <td>3194176</td>\n",
       "      <td>0.527314</td>\n",
       "      <td>109806</td>\n",
       "      <td>29.089267</td>\n",
       "    </tr>\n",
       "    <tr>\n",
       "      <th>15</th>\n",
       "      <td>Kansas</td>\n",
       "      <td>2938124</td>\n",
       "      <td>2937946</td>\n",
       "      <td>2936716</td>\n",
       "      <td>2940546</td>\n",
       "      <td>0.130418</td>\n",
       "      <td>81823</td>\n",
       "      <td>35.937890</td>\n",
       "    </tr>\n",
       "  </tbody>\n",
       "</table>\n",
       "</div>"
      ],
      "text/plain": [
       "           State     2020     2021     2022     2023  pct_growth  \\\n",
       "1         Alaska   732964   734923   733276   733406    0.017729   \n",
       "49       Wyoming   577664   579548   581629   584057    0.417448   \n",
       "25       Montana  1087211  1106366  1122878  1132812    0.884691   \n",
       "33  North Dakota   779563   777982   778912   783926    0.643718   \n",
       "40  South Dakota   887852   896299   909869   919318    1.038501   \n",
       "30    New Mexico  2118488  2116950  2113476  2114371    0.042347   \n",
       "11         Idaho  1849339  1904537  1938996  1964726    1.326975   \n",
       "26      Nebraska  1963273  1964253  1968060  1978379    0.524323   \n",
       "27        Nevada  3115840  3146632  3177421  3194176    0.527314   \n",
       "15        Kansas  2938124  2937946  2936716  2940546    0.130418   \n",
       "\n",
       "    Square_Miles  2023pop_per_sq_mile  \n",
       "1         570641             1.285232  \n",
       "49         97105             6.014695  \n",
       "25        145556             7.782654  \n",
       "33         68994            11.362234  \n",
       "40         75898            12.112546  \n",
       "30        121365            17.421588  \n",
       "11         82751            23.742625  \n",
       "26         76878            25.734007  \n",
       "27        109806            29.089267  \n",
       "15         81823            35.937890  "
      ]
     },
     "execution_count": 56,
     "metadata": {},
     "output_type": "execute_result"
    }
   ],
   "source": [
    "states.sort_values('2023pop_per_sq_mile').head(10)"
   ]
  },
  {
   "cell_type": "markdown",
   "id": "c11fe4f5",
   "metadata": {},
   "source": [
    "What do you notice about the scatterplot? Can you guess which states are outliers?"
   ]
  },
  {
   "cell_type": "code",
   "execution_count": null,
   "id": "60f75fdf",
   "metadata": {},
   "outputs": [],
   "source": []
  },
  {
   "cell_type": "markdown",
   "id": "8c65e879",
   "metadata": {},
   "source": [
    "Let's use `.sort_values()` to find the outliers."
   ]
  },
  {
   "cell_type": "code",
   "execution_count": null,
   "id": "f55f6b8c",
   "metadata": {},
   "outputs": [],
   "source": [
    "states.sort_values(...).head()"
   ]
  },
  {
   "cell_type": "code",
   "execution_count": null,
   "id": "5572d664",
   "metadata": {},
   "outputs": [],
   "source": [
    "states.sort_values(...).tail()"
   ]
  },
  {
   "cell_type": "markdown",
   "id": "e12331d7",
   "metadata": {},
   "source": [
    "### Further reading:\n",
    "\n",
    "[LA Times](https://www.latimes.com/california/story/2024-02-13/golden-state-loses-luster-half-of-americans-say-california-in-decline\n",
    ") says Americans think California is on its decline. Do you agree?"
   ]
  },
  {
   "cell_type": "markdown",
   "id": "369a6e7a-caaf-4adf-8f5b-491a1c159b74",
   "metadata": {},
   "source": [
    "No - because California is AWESOME!"
   ]
  },
  {
   "cell_type": "markdown",
   "id": "59037ad2-ecfc-4fa0-9350-7bcb27eae474",
   "metadata": {},
   "source": [
    "Another [article](https://www.latimes.com/california/story/2023-08-04/l-a-county-in-2060-could-have-1-7-million-fewer-people-amid-california-exodus) suggests LA county will lose 1.7 million people by 2060, whereas Merced County is projected to gain 58 thousand people by 2060.\n",
    "\n",
    "What factors do you think contribute most to this type of projection?"
   ]
  },
  {
   "cell_type": "markdown",
   "id": "ef990bcd-47db-429d-81cd-840c92e35fbf",
   "metadata": {},
   "source": [
    "Again - cost of living and other thigns!"
   ]
  },
  {
   "cell_type": "code",
   "execution_count": null,
   "id": "27bda6f2-410b-4dfb-851f-803b3b0c009a",
   "metadata": {},
   "outputs": [],
   "source": []
  }
 ],
 "metadata": {
  "kernelspec": {
   "display_name": "Python 3 (ipykernel)",
   "language": "python",
   "name": "python3"
  },
  "language_info": {
   "codemirror_mode": {
    "name": "ipython",
    "version": 3
   },
   "file_extension": ".py",
   "mimetype": "text/x-python",
   "name": "python",
   "nbconvert_exporter": "python",
   "pygments_lexer": "ipython3",
   "version": "3.11.4"
  }
 },
 "nbformat": 4,
 "nbformat_minor": 5
}
