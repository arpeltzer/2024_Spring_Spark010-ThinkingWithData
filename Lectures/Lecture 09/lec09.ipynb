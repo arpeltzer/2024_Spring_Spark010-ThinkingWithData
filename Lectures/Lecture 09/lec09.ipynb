{
 "cells": [
  {
   "cell_type": "markdown",
   "id": "1a79326b-33a8-47e7-960d-6c998ebaac97",
   "metadata": {},
   "source": [
    "# Lecture 9 – Table Fundamentals and Visualization Demo\n",
    "\n",
    "### Spark 010, Spring 2024"
   ]
  },
  {
   "cell_type": "markdown",
   "id": "d81639c6-6eb7-4a75-959f-8d4fd1e056d3",
   "metadata": {},
   "source": [
    "In this notebook, we will look at state populations for the years 2020 through 2023 and look for growth trends. We will also compare state population with land mass to get an idea of which states are the most densely populated."
   ]
  },
  {
   "cell_type": "markdown",
   "id": "60020f2d",
   "metadata": {},
   "source": [
    "### Part I - State Populations by year"
   ]
  },
  {
   "cell_type": "markdown",
   "id": "6a51b2df-42c9-41c6-aa2c-8b423d1a92bb",
   "metadata": {},
   "source": [
    "As always, we'll start by importing the requisite packages."
   ]
  },
  {
   "cell_type": "code",
   "execution_count": null,
   "id": "6f101488-f10e-42c7-a2fc-708b6a593440",
   "metadata": {},
   "outputs": [],
   "source": [
    "import pandas as pd"
   ]
  },
  {
   "cell_type": "markdown",
   "id": "8ca39fdd",
   "metadata": {},
   "source": [
    "Let's import a table that has U.S. state population by year from 2020-2023.\n",
    "\n",
    "\n",
    "The source of the dataset is [census.gov](https://www.census.gov/data/tables/time-series/demo/popest/2020s-state-total.html).\n"
   ]
  },
  {
   "cell_type": "code",
   "execution_count": null,
   "id": "4ae79334",
   "metadata": {},
   "outputs": [],
   "source": [
    "state_pops = pd.read_csv(\"data/state_pops.csv\")"
   ]
  },
  {
   "cell_type": "code",
   "execution_count": null,
   "id": "c7cb111a",
   "metadata": {},
   "outputs": [],
   "source": [
    "state_pops.head()"
   ]
  },
  {
   "cell_type": "markdown",
   "id": "4f5a11b1",
   "metadata": {},
   "source": [
    "Without looking at the data, which states do you think are growing the fastest: Northeast, Midwest, South, or West states?"
   ]
  },
  {
   "cell_type": "code",
   "execution_count": null,
   "id": "2e457d14-458d-45f1-a727-cee99b721f8b",
   "metadata": {},
   "outputs": [],
   "source": []
  },
  {
   "cell_type": "markdown",
   "id": "ab0fbb57-e367-4118-af0b-fa17b52d1ca4",
   "metadata": {},
   "source": [
    "Let's make a percent change column that represents the percentage change in population from 2022 to 2023"
   ]
  },
  {
   "cell_type": "code",
   "execution_count": null,
   "id": "9cc6411a",
   "metadata": {},
   "outputs": [],
   "source": [
    "state_pops['pct_growth'] = ..."
   ]
  },
  {
   "cell_type": "markdown",
   "id": "1f7273ff",
   "metadata": {},
   "source": [
    "Which three states are gaining residents the fastest?"
   ]
  },
  {
   "cell_type": "code",
   "execution_count": null,
   "id": "1adaec56",
   "metadata": {},
   "outputs": [],
   "source": []
  },
  {
   "cell_type": "markdown",
   "id": "1908bf00",
   "metadata": {},
   "source": [
    "Which three states are losing residents the fastest?"
   ]
  },
  {
   "cell_type": "code",
   "execution_count": null,
   "id": "d3451f7c",
   "metadata": {},
   "outputs": [],
   "source": []
  },
  {
   "cell_type": "markdown",
   "id": "eea944fd",
   "metadata": {},
   "source": [
    "Do you think these trends will continue? What factors do you think are important in forecasting state populations?"
   ]
  },
  {
   "cell_type": "code",
   "execution_count": null,
   "id": "65dc4eaf",
   "metadata": {},
   "outputs": [],
   "source": []
  },
  {
   "cell_type": "markdown",
   "id": "4d156707",
   "metadata": {},
   "source": [
    "How many rows are there in `state_pops`?"
   ]
  },
  {
   "cell_type": "code",
   "execution_count": null,
   "id": "cd769b02",
   "metadata": {},
   "outputs": [],
   "source": [
    "state_pops.shape"
   ]
  },
  {
   "cell_type": "markdown",
   "id": "523f965a",
   "metadata": {},
   "source": [
    "Can you get rid of any row that is not a state?"
   ]
  },
  {
   "cell_type": "code",
   "execution_count": null,
   "id": "bc0cda69-8dcf-4fd2-80b8-8b363599bad0",
   "metadata": {},
   "outputs": [],
   "source": [
    "# One way would be to use .drop\n",
    "row_num = ...\n",
    "state_pops = state_pops.drop([row_num])"
   ]
  },
  {
   "cell_type": "code",
   "execution_count": null,
   "id": "a9bebd4c",
   "metadata": {},
   "outputs": [],
   "source": [
    "# Another way to do this is to use boolean indexing\n",
    "bool_array = ...\n",
    "state_pops = state_pops[...]\n",
    "state_pops.shape"
   ]
  },
  {
   "cell_type": "markdown",
   "id": "e367e2a6",
   "metadata": {},
   "source": [
    "### Part II - U.S. State Population by Land Mass\n",
    "\n",
    "Let's import a table that has land mass by state\n",
    "\n",
    "The source of the data can be found [here](https://statesymbolsusa.org/symbol-official-item/national-us/uncategorized/states-size)"
   ]
  },
  {
   "cell_type": "code",
   "execution_count": null,
   "id": "a53baee1",
   "metadata": {},
   "outputs": [],
   "source": [
    "state_areas = pd.read_csv(\"data/state_areas.csv\")\n",
    "state_areas.head()"
   ]
  },
  {
   "cell_type": "markdown",
   "id": "e923a871",
   "metadata": {},
   "source": [
    "### Merging tables"
   ]
  },
  {
   "cell_type": "markdown",
   "id": "fd03e325",
   "metadata": {},
   "source": [
    "A very common situation that occurs is when we have two tables, and we want to access information\n",
    "on each table pertaining to the same row.\n",
    "\n",
    "\n",
    "In this example, one table has information on a state's population, and the other has information\n",
    "on a state's land mass. What if we want to calculate population per square mile?\n",
    "\n",
    "\n",
    "First we have to use pd.merge to merge the tables together\n"
   ]
  },
  {
   "cell_type": "code",
   "execution_count": null,
   "id": "3cd1a023",
   "metadata": {},
   "outputs": [],
   "source": [
    "merged = pd.merge(state_pops,state_areas, on = 'State')\n",
    "merged.head()"
   ]
  },
  {
   "cell_type": "markdown",
   "id": "df672d8c",
   "metadata": {},
   "source": [
    "As you can now see, we've added the square miles column to the table"
   ]
  },
  {
   "cell_type": "code",
   "execution_count": null,
   "id": "9de663f8",
   "metadata": {},
   "outputs": [],
   "source": [
    "merged.shape"
   ]
  },
  {
   "cell_type": "markdown",
   "id": "b19faf43",
   "metadata": {},
   "source": [
    "I am simply going to call this table `states`"
   ]
  },
  {
   "cell_type": "code",
   "execution_count": null,
   "id": "94d236d9",
   "metadata": {},
   "outputs": [],
   "source": [
    "states = merged"
   ]
  },
  {
   "cell_type": "markdown",
   "id": "edc3502c",
   "metadata": {},
   "source": [
    "Let's make a population per sq mile column"
   ]
  },
  {
   "cell_type": "code",
   "execution_count": null,
   "id": "0540cf7c",
   "metadata": {},
   "outputs": [],
   "source": [
    "states['2023pop_per_sq_mile'] = ...\n",
    "states.head()"
   ]
  },
  {
   "cell_type": "markdown",
   "id": "992e9f83",
   "metadata": {},
   "source": [
    "Is there a relation between land mass and population?\n",
    "Let's use some visualization"
   ]
  },
  {
   "cell_type": "markdown",
   "id": "e7d1b9f6",
   "metadata": {},
   "source": [
    "### Visualization Example: Scatterplot"
   ]
  },
  {
   "cell_type": "markdown",
   "id": "cec31820",
   "metadata": {},
   "source": [
    "The most common plotting package in python is called [matplotlib](https://matplotlib.org). More advanced packages would be [plotly](https://plotly.com/python/) and [seaborn](https://seaborn.pydata.org) which we may see later. For now, let's import the most basic one."
   ]
  },
  {
   "cell_type": "code",
   "execution_count": null,
   "id": "f83d7207",
   "metadata": {},
   "outputs": [],
   "source": [
    "import matplotlib.pyplot as plt"
   ]
  },
  {
   "cell_type": "markdown",
   "id": "cca437f7",
   "metadata": {},
   "source": [
    "Let's make a scatterplot of total square miles versus population"
   ]
  },
  {
   "cell_type": "code",
   "execution_count": null,
   "id": "b3d907ea",
   "metadata": {},
   "outputs": [],
   "source": [
    "# Set the x and y axes with the right columns\n",
    "X = ...\n",
    "Y = ...\n",
    "# use matplotlib plt.scatter\n",
    "plt.scatter(X,Y)\n",
    "# Give a good title\n",
    "plt.title(...)\n",
    "# Make some appropriate axis labels\n",
    "plt.xlabel(...)\n",
    "plt.ylabel(...)\n",
    "# Change the tick-marks on the y-axis\n",
    "plt.yticks(...)\n",
    "plt.show()"
   ]
  },
  {
   "cell_type": "markdown",
   "id": "c11fe4f5",
   "metadata": {},
   "source": [
    "What do you notice about the scatterplot? Can you guess which states are outliers?"
   ]
  },
  {
   "cell_type": "code",
   "execution_count": null,
   "id": "60f75fdf",
   "metadata": {},
   "outputs": [],
   "source": []
  },
  {
   "cell_type": "markdown",
   "id": "8c65e879",
   "metadata": {},
   "source": [
    "Let's use `.sort_values()` to find the outliers."
   ]
  },
  {
   "cell_type": "code",
   "execution_count": null,
   "id": "f55f6b8c",
   "metadata": {},
   "outputs": [],
   "source": [
    "states.sort_values(...).head()"
   ]
  },
  {
   "cell_type": "code",
   "execution_count": null,
   "id": "5572d664",
   "metadata": {},
   "outputs": [],
   "source": [
    "states.sort_values(...).tail()"
   ]
  },
  {
   "cell_type": "markdown",
   "id": "e12331d7",
   "metadata": {},
   "source": [
    "### Further reading:\n",
    "\n",
    "[LA Times](https://www.latimes.com/california/story/2024-02-13/golden-state-loses-luster-half-of-americans-say-california-in-decline\n",
    ") says Americans think California is on its decline. Do you agree?"
   ]
  },
  {
   "cell_type": "code",
   "execution_count": null,
   "id": "fc5d2ce8",
   "metadata": {},
   "outputs": [],
   "source": []
  },
  {
   "cell_type": "markdown",
   "id": "59037ad2-ecfc-4fa0-9350-7bcb27eae474",
   "metadata": {},
   "source": [
    "Another [article](https://www.latimes.com/california/story/2023-08-04/l-a-county-in-2060-could-have-1-7-million-fewer-people-amid-california-exodus) suggests LA county will lose 1.7 million people by 2060, whereas Merced County is projected to gain 58 thousand people by 2060.\n",
    "\n",
    "What factors do you think contribute most to this type of projection?"
   ]
  },
  {
   "cell_type": "code",
   "execution_count": null,
   "id": "47df1235-baf2-4b7d-8f9d-ea256d57d574",
   "metadata": {},
   "outputs": [],
   "source": []
  }
 ],
 "metadata": {
  "kernelspec": {
   "display_name": "Python 3 (ipykernel)",
   "language": "python",
   "name": "python3"
  },
  "language_info": {
   "codemirror_mode": {
    "name": "ipython",
    "version": 3
   },
   "file_extension": ".py",
   "mimetype": "text/x-python",
   "name": "python",
   "nbconvert_exporter": "python",
   "pygments_lexer": "ipython3",
   "version": "3.11.4"
  }
 },
 "nbformat": 4,
 "nbformat_minor": 5
}
