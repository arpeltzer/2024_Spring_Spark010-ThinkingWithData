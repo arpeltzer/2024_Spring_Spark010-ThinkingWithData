{
 "cells": [
  {
   "cell_type": "markdown",
   "id": "4bd0f16d-7750-4534-8188-c0bd456aa2b3",
   "metadata": {},
   "source": [
    "# Lecture 3 – Comments,  Data Types, and Errors\n",
    "\n",
    "### Spark 10, Spring 2024"
   ]
  },
  {
   "cell_type": "markdown",
   "id": "3178ac45-706d-4899-b9ac-b3394da02ce7",
   "metadata": {},
   "source": [
    "### Comments"
   ]
  },
  {
   "cell_type": "markdown",
   "id": "2b114844-bd7e-482d-a3a2-e0a3a45cc22f",
   "metadata": {},
   "source": [
    "Here's an example of an unhelpful comment."
   ]
  },
  {
   "cell_type": "code",
   "execution_count": 11,
   "id": "2ac308a1-ec4a-4cdf-8023-108801b771f4",
   "metadata": {},
   "outputs": [
    {
     "data": {
      "text/plain": [
       "5"
      ]
     },
     "execution_count": 11,
     "metadata": {},
     "output_type": "execute_result"
    }
   ],
   "source": [
    "2 + 3 # Computes 2 + 3"
   ]
  },
  {
   "cell_type": "markdown",
   "id": "0da8a3a3-5716-4053-a185-a52f0f140fad",
   "metadata": {},
   "source": [
    "Here's an example of a better comment."
   ]
  },
  {
   "cell_type": "code",
   "execution_count": 12,
   "id": "de0895b5-7ee2-4a93-8c3c-f495ee71c023",
   "metadata": {
    "scrolled": true
   },
   "outputs": [
    {
     "data": {
      "text/plain": [
       "238"
      ]
     },
     "execution_count": 12,
     "metadata": {},
     "output_type": "execute_result"
    }
   ],
   "source": [
    "# Finds the largest multiple of 17 less than 244\n",
    "17 * (244 // 17)"
   ]
  },
  {
   "cell_type": "markdown",
   "id": "40096377-fdc7-4842-a76f-3309c69ac16a",
   "metadata": {},
   "source": [
    "## Variable Types\n",
    "\n",
    "We glossed over something earlier – it seems like there are two different types of numbers!"
   ]
  },
  {
   "cell_type": "code",
   "execution_count": 13,
   "id": "5d386063-8c01-4569-9cfd-73119ad9d212",
   "metadata": {},
   "outputs": [
    {
     "data": {
      "text/plain": [
       "5"
      ]
     },
     "execution_count": 13,
     "metadata": {},
     "output_type": "execute_result"
    }
   ],
   "source": [
    "2 + 3"
   ]
  },
  {
   "cell_type": "code",
   "execution_count": 14,
   "id": "6e094ade-314c-4568-960b-6e6c8ffbcada",
   "metadata": {},
   "outputs": [
    {
     "data": {
      "text/plain": [
       "5.0"
      ]
     },
     "execution_count": 14,
     "metadata": {},
     "output_type": "execute_result"
    }
   ],
   "source": [
    "10 / 2"
   ]
  },
  {
   "cell_type": "markdown",
   "id": "bf67a025-1b6a-4912-81e7-7c20bcfd6103",
   "metadata": {},
   "source": [
    "Any time you add, subtract, or multiply any number of `ints`, the result is still an `int`. But anytime you divide, or use a `float` in a calculation, the result is a `float`."
   ]
  },
  {
   "cell_type": "code",
   "execution_count": 17,
   "id": "ff8b70a5-50ef-4bca-ad42-5759adec698f",
   "metadata": {},
   "outputs": [
    {
     "data": {
      "text/plain": [
       "306"
      ]
     },
     "execution_count": 17,
     "metadata": {},
     "output_type": "execute_result"
    }
   ],
   "source": [
    "3 + (2**9) - 15 * 14 + 1"
   ]
  },
  {
   "cell_type": "code",
   "execution_count": 18,
   "id": "f4a5b7af-62fd-478b-97fd-109fbda98264",
   "metadata": {
    "scrolled": true
   },
   "outputs": [
    {
     "data": {
      "text/plain": [
       "306.0"
      ]
     },
     "execution_count": 18,
     "metadata": {},
     "output_type": "execute_result"
    }
   ],
   "source": [
    "3 + (2**9) - 15 * 14 + 1.0"
   ]
  },
  {
   "cell_type": "code",
   "execution_count": 19,
   "id": "ff2bb434-dccf-4cb0-9c94-7bee9600ed41",
   "metadata": {},
   "outputs": [
    {
     "data": {
      "text/plain": [
       "5.0"
      ]
     },
     "execution_count": 19,
     "metadata": {},
     "output_type": "execute_result"
    }
   ],
   "source": [
    "# Notice how the result is a float, even though 3 divides 15 evenly!\n",
    "15 / 3"
   ]
  },
  {
   "cell_type": "markdown",
   "id": "6c1a6712-d3b7-43f1-b9d5-f4f22d794da2",
   "metadata": {},
   "source": [
    "Weird things can happen when performing arithmetic with floats."
   ]
  },
  {
   "cell_type": "code",
   "execution_count": 20,
   "id": "40377ec7-c1ae-4e2c-9a71-6a26581a485f",
   "metadata": {},
   "outputs": [
    {
     "data": {
      "text/plain": [
       "0.6000000000000001"
      ]
     },
     "execution_count": 20,
     "metadata": {},
     "output_type": "execute_result"
    }
   ],
   "source": [
    "# Should be 0.6\n",
    "0.1 + 0.2 + 0.3"
   ]
  },
  {
   "cell_type": "code",
   "execution_count": 21,
   "id": "de990a9e-afd9-4173-b909-442c3d90bfd7",
   "metadata": {},
   "outputs": [
    {
     "data": {
      "text/plain": [
       "0.2"
      ]
     },
     "execution_count": 21,
     "metadata": {},
     "output_type": "execute_result"
    }
   ],
   "source": [
    "# Should be 0.2\n",
    "0.1 + 0.1"
   ]
  },
  {
   "cell_type": "code",
   "execution_count": 22,
   "id": "3c1debae-a4bf-4b21-9c4f-2a8acee04e0e",
   "metadata": {},
   "outputs": [
    {
     "data": {
      "text/plain": [
       "1.4000000000000001"
      ]
     },
     "execution_count": 22,
     "metadata": {},
     "output_type": "execute_result"
    }
   ],
   "source": [
    "# Should be 1.4\n",
    "0.1 + 0.1 + 0.1 + 1 + 0.1"
   ]
  },
  {
   "cell_type": "markdown",
   "id": "dce392fe-1e2a-4178-9019-03c5986be0a1",
   "metadata": {},
   "source": [
    "## Errors\n",
    "\n",
    "What happens if we try dividing by 0?"
   ]
  },
  {
   "cell_type": "code",
   "execution_count": 23,
   "id": "c666d758-1d00-47d8-8fbf-654de16d9745",
   "metadata": {},
   "outputs": [
    {
     "ename": "ZeroDivisionError",
     "evalue": "division by zero",
     "output_type": "error",
     "traceback": [
      "\u001b[0;31m---------------------------------------------------------------------------\u001b[0m",
      "\u001b[0;31mZeroDivisionError\u001b[0m                         Traceback (most recent call last)",
      "Cell \u001b[0;32mIn[23], line 1\u001b[0m\n\u001b[0;32m----> 1\u001b[0m \u001b[38;5;241;43m5\u001b[39;49m\u001b[43m \u001b[49m\u001b[38;5;241;43m/\u001b[39;49m\u001b[43m \u001b[49m\u001b[38;5;241;43m0\u001b[39;49m\n",
      "\u001b[0;31mZeroDivisionError\u001b[0m: division by zero"
     ]
    }
   ],
   "source": [
    "5 / 0"
   ]
  },
  {
   "cell_type": "markdown",
   "id": "74ca4467-b434-46de-aed3-ed2d913d11d3",
   "metadata": {},
   "source": [
    "#### In math classes you may have learned that this value is undefined, but I guess Python chose it to be 1"
   ]
  },
  {
   "cell_type": "code",
   "execution_count": 24,
   "id": "8afdda13-e6dd-4758-8192-e48c4c4a1243",
   "metadata": {},
   "outputs": [
    {
     "data": {
      "text/plain": [
       "1"
      ]
     },
     "execution_count": 24,
     "metadata": {},
     "output_type": "execute_result"
    }
   ],
   "source": [
    "0 ** 0"
   ]
  },
  {
   "cell_type": "markdown",
   "id": "f6be9f9b-a207-422f-b7bb-3e39b97ae7e2",
   "metadata": {},
   "source": [
    "Why is there no error message?"
   ]
  },
  {
   "cell_type": "markdown",
   "id": "781857c2-9dea-4b8d-86d4-04bb607f293d",
   "metadata": {},
   "source": [
    "You'll also get an error if your code is syntactically wrong."
   ]
  },
  {
   "cell_type": "code",
   "execution_count": 25,
   "id": "d55569b1-805d-4a17-b75d-ad98c82ef90e",
   "metadata": {},
   "outputs": [
    {
     "ename": "SyntaxError",
     "evalue": "invalid syntax (4087983127.py, line 1)",
     "output_type": "error",
     "traceback": [
      "\u001b[0;36m  Cell \u001b[0;32mIn[25], line 1\u001b[0;36m\u001b[0m\n\u001b[0;31m    2 +\u001b[0m\n\u001b[0m        ^\u001b[0m\n\u001b[0;31mSyntaxError\u001b[0m\u001b[0;31m:\u001b[0m invalid syntax\n"
     ]
    }
   ],
   "source": [
    "2 + "
   ]
  },
  {
   "cell_type": "code",
   "execution_count": 26,
   "id": "d0c63f1d-1407-477f-8d9e-560b4e03b764",
   "metadata": {},
   "outputs": [
    {
     "ename": "SyntaxError",
     "evalue": "invalid syntax (4045155691.py, line 1)",
     "output_type": "error",
     "traceback": [
      "\u001b[0;36m  Cell \u001b[0;32mIn[26], line 1\u001b[0;36m\u001b[0m\n\u001b[0;31m    3 ** / 4\u001b[0m\n\u001b[0m         ^\u001b[0m\n\u001b[0;31mSyntaxError\u001b[0m\u001b[0;31m:\u001b[0m invalid syntax\n"
     ]
    }
   ],
   "source": [
    "3 ** / 4"
   ]
  },
  {
   "cell_type": "markdown",
   "id": "da251fe7-bd2e-4801-bc35-ca7cf41b88c3",
   "metadata": {},
   "source": [
    "## Submission\n",
    "\n",
    "Make sure you have run all cells in your notebook in order before running the cell below, so that all images/graphs appear in the output. **Please create a PDF using File->Save and Export Notebook as->PDF**"
   ]
  }
 ],
 "metadata": {
  "kernelspec": {
   "display_name": "Python 3 (ipykernel)",
   "language": "python",
   "name": "python3"
  },
  "language_info": {
   "codemirror_mode": {
    "name": "ipython",
    "version": 3
   },
   "file_extension": ".py",
   "mimetype": "text/x-python",
   "name": "python",
   "nbconvert_exporter": "python",
   "pygments_lexer": "ipython3",
   "version": "3.11.4"
  }
 },
 "nbformat": 4,
 "nbformat_minor": 5
}
