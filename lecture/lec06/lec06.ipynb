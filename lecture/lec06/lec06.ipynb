{
 "cells": [
  {
   "cell_type": "markdown",
   "id": "881184d3",
   "metadata": {},
   "source": [
    "# Lecture 6 – Array Functions, Bools, and Indexing\n",
    "\n",
    "### Spark 010, Spring 2024\n",
    "\n",
    "### February 5, 2024"
   ]
  },
  {
   "cell_type": "code",
   "execution_count": null,
   "id": "7c1ed79a",
   "metadata": {},
   "outputs": [],
   "source": [
    "import numpy as np"
   ]
  },
  {
   "cell_type": "markdown",
   "id": "127a088f",
   "metadata": {},
   "source": [
    "## Warmup"
   ]
  },
  {
   "cell_type": "code",
   "execution_count": null,
   "id": "3a10faa2",
   "metadata": {},
   "outputs": [],
   "source": [
    "pop_2020 = np.array([5.025, .732, 7.178, 3.012, 39.500])\n",
    "pop_2021 = np.array([5.040, .733, 7.276, 3.026, 39.238])"
   ]
  },
  {
   "cell_type": "code",
   "execution_count": null,
   "id": "954a5620",
   "metadata": {},
   "outputs": [],
   "source": [
    "pop_2021 - pop_2020"
   ]
  },
  {
   "cell_type": "markdown",
   "id": "00fe21bf-e302-4836-a806-e7a235eaa1f1",
   "metadata": {},
   "source": [
    "Compute the percentage change in state populations from 2020 to 2021."
   ]
  },
  {
   "cell_type": "code",
   "execution_count": null,
   "id": "47d21886",
   "metadata": {},
   "outputs": [],
   "source": [
    "# Put your answer here\n",
    "..."
   ]
  },
  {
   "cell_type": "markdown",
   "id": "4f6f09f1",
   "metadata": {},
   "source": [
    "<br/><br/>\n",
    "\n",
    "# Array Functions\n",
    "Array functions in Python, such as len, min, and max, are essential tools for manipulating and analyzing arrays or lists of data. \n",
    "\n",
    "The `len` function returns the length of an array, providing the number of elements it contains. This is useful for determining the size of an array dynamically. \n",
    "\n",
    "The `min` function identifies the smallest value within an array, while the `max` function retrieves the largest value. \n",
    "\n",
    "The `sum` function sums all of the values in an array.\n",
    "\n",
    "These functions are handy when searching for extremities or performing basic statistical analysis on arrays. \n",
    "\n",
    "With their simplicity and efficiency, `len`, `min`, `max`, and `sum` are versatile array functions that greatly enhance Python's capabilities in data processing and analysis."
   ]
  },
  {
   "cell_type": "code",
   "execution_count": null,
   "id": "f04fbaa9",
   "metadata": {},
   "outputs": [],
   "source": [
    "empty_arr = np.array([])\n",
    "int_arr = np.array([3, -4, 0, 5, 2])\n",
    "str_arr = np.array([\"cm\", \"m\" \"in\", \"ft\", \"yd\"])"
   ]
  },
  {
   "cell_type": "code",
   "execution_count": null,
   "id": "118ee8f0",
   "metadata": {
    "scrolled": true
   },
   "outputs": [],
   "source": [
    "print(empty_arr)\n",
    "print(int_arr)\n",
    "print(str_arr)"
   ]
  },
  {
   "cell_type": "markdown",
   "id": "f5d13ab5",
   "metadata": {},
   "source": [
    "`len()`"
   ]
  },
  {
   "cell_type": "code",
   "execution_count": null,
   "id": "cdee96c9",
   "metadata": {},
   "outputs": [],
   "source": [
    "len(str_arr)"
   ]
  },
  {
   "cell_type": "code",
   "execution_count": null,
   "id": "ff186f6b",
   "metadata": {},
   "outputs": [],
   "source": [
    "len(empty_arr)"
   ]
  },
  {
   "cell_type": "markdown",
   "id": "976f9f36",
   "metadata": {},
   "source": [
    "`min()`, `max()`"
   ]
  },
  {
   "cell_type": "code",
   "execution_count": null,
   "id": "3f07496f",
   "metadata": {},
   "outputs": [],
   "source": [
    "min(int_arr)"
   ]
  },
  {
   "cell_type": "code",
   "execution_count": null,
   "id": "3e81edba",
   "metadata": {},
   "outputs": [],
   "source": [
    "max(str_arr)"
   ]
  },
  {
   "cell_type": "markdown",
   "id": "722843a9",
   "metadata": {},
   "source": [
    "`sum()`"
   ]
  },
  {
   "cell_type": "code",
   "execution_count": null,
   "id": "f0d94d07",
   "metadata": {},
   "outputs": [],
   "source": [
    "sum(int_arr)"
   ]
  },
  {
   "cell_type": "code",
   "execution_count": null,
   "id": "74b4c629",
   "metadata": {
    "scrolled": true
   },
   "outputs": [],
   "source": [
    "sum(str_arr)"
   ]
  },
  {
   "cell_type": "markdown",
   "id": "730bee35",
   "metadata": {},
   "source": [
    "## Quick Check 1\n",
    "How would you compute the average of an array arr?"
   ]
  },
  {
   "cell_type": "code",
   "execution_count": null,
   "id": "b572ef5b",
   "metadata": {},
   "outputs": [],
   "source": [
    "arr = np.array([30, -40, -4.5, 0, 35])\n",
    "avg = ...\n",
    "avg"
   ]
  },
  {
   "cell_type": "markdown",
   "id": "e759e0ea-4836-4e02-af3e-8799a76c0f1c",
   "metadata": {},
   "source": [
    "## Array Indexing\n",
    "We can access an elemint in an array by using bracket notation."
   ]
  },
  {
   "cell_type": "code",
   "execution_count": null,
   "id": "84ce5dd7",
   "metadata": {},
   "outputs": [],
   "source": [
    "int_arr = np.array([3, -4, 0, 5, 2])\n",
    "int_arr"
   ]
  },
  {
   "cell_type": "code",
   "execution_count": null,
   "id": "e563eff4",
   "metadata": {},
   "outputs": [],
   "source": [
    "int_arr[0]"
   ]
  },
  {
   "cell_type": "code",
   "execution_count": null,
   "id": "ab84e513",
   "metadata": {},
   "outputs": [],
   "source": [
    "int_arr[3]"
   ]
  },
  {
   "cell_type": "code",
   "execution_count": null,
   "id": "9b620dbb",
   "metadata": {},
   "outputs": [],
   "source": [
    "int_arr[5] "
   ]
  },
  {
   "cell_type": "markdown",
   "id": "8f932a59-54a6-4452-9372-646312feffbb",
   "metadata": {},
   "source": [
    "**Negative Indexing:**\n",
    "We can also \"count backwards\" using negative indices."
   ]
  },
  {
   "cell_type": "code",
   "execution_count": null,
   "id": "8b77004d-c159-4c65-8b9f-e7f2ca08bcb4",
   "metadata": {},
   "outputs": [],
   "source": [
    "int_arr[-1]"
   ]
  },
  {
   "cell_type": "code",
   "execution_count": null,
   "id": "2ce69793-795f-412f-a21b-39659fa58b86",
   "metadata": {},
   "outputs": [],
   "source": [
    "int_arr[-4]"
   ]
  },
  {
   "cell_type": "code",
   "execution_count": null,
   "id": "988ccac0-70b2-41d6-ac1e-77d8b5d3e63d",
   "metadata": {},
   "outputs": [],
   "source": [
    "int_arr[-3]"
   ]
  },
  {
   "cell_type": "markdown",
   "id": "76ae3612",
   "metadata": {},
   "source": [
    "## Quick Check 2\n",
    "What is the value of `five` after running this code?"
   ]
  },
  {
   "cell_type": "code",
   "execution_count": null,
   "id": "e15d1e97",
   "metadata": {},
   "outputs": [],
   "source": [
    "threes = np.array([3, 6, 9, 12, 15])\n",
    "five = threes[-1] + threes[1]\n",
    "five"
   ]
  },
  {
   "cell_type": "markdown",
   "id": "46f74f43-5df3-4a29-9650-4676af4f9c0e",
   "metadata": {},
   "source": [
    "## Booleans"
   ]
  },
  {
   "cell_type": "markdown",
   "id": "485ee4a9-0fad-4c99-9563-a76cafd17ef3",
   "metadata": {},
   "source": [
    "Another Python data type is the `bool` or Boolean, whic only has two possible values: `True` and `False`."
   ]
  },
  {
   "cell_type": "code",
   "execution_count": null,
   "id": "b73d048c-b15d-446d-bd79-a39d714b6ae7",
   "metadata": {},
   "outputs": [],
   "source": [
    "# Can display multiple values in one line\n",
    "True, False"
   ]
  },
  {
   "cell_type": "code",
   "execution_count": null,
   "id": "69edbf44-c0bc-4123-8430-2fdb19572d44",
   "metadata": {},
   "outputs": [],
   "source": [
    "type(True), type(False)"
   ]
  },
  {
   "cell_type": "markdown",
   "id": "5b667e3a-67be-4661-8b6a-2367fe0868c2",
   "metadata": {},
   "source": [
    "**Be careful**, because `True` and `False` have special meanings in Python and _cannot_ be used as names. "
   ]
  },
  {
   "cell_type": "code",
   "execution_count": null,
   "id": "eba86cb3-9159-46af-a93f-3b46f7bb2d8b",
   "metadata": {},
   "outputs": [],
   "source": [
    "# This doesn't work\n",
    "3 = 4"
   ]
  },
  {
   "cell_type": "code",
   "execution_count": null,
   "id": "b632eebf-00d6-4603-bb1e-47e975c89002",
   "metadata": {},
   "outputs": [],
   "source": [
    "# This also doesn't work\n",
    "True = 5"
   ]
  },
  {
   "cell_type": "code",
   "execution_count": null,
   "id": "b5880ac0-54ec-43db-8887-d26432f00f0c",
   "metadata": {},
   "outputs": [],
   "source": [
    "bool_array = np.array([True,True,False,True])\n",
    "bool_array"
   ]
  },
  {
   "cell_type": "code",
   "execution_count": null,
   "id": "0805c21f-8537-4852-8930-9c9cf021efd2",
   "metadata": {},
   "outputs": [],
   "source": [
    "int_array = bool_array.astype(int)\n",
    "int_array"
   ]
  },
  {
   "cell_type": "markdown",
   "id": "ddb8102d-746d-4f85-8f18-3aa435be221a",
   "metadata": {},
   "source": [
    "## Comparisons"
   ]
  },
  {
   "cell_type": "markdown",
   "id": "6b0815ee-368a-4ea7-87c2-55ce22374a20",
   "metadata": {},
   "source": [
    "Comparisons in Python allow us to compare two values. The result of evaluating a comparison statement (e.g. `age > 21`) is a **boolean** value (`True` or `False`). This boolean is helpful for controlling the \"flow\" of Python code (we'll see more of this in detail in Lecture 17)."
   ]
  },
  {
   "cell_type": "markdown",
   "id": "31b26d6c-7640-4e9b-a029-01bacd03f6c3",
   "metadata": {},
   "source": [
    "Comparisons also allow us to check **conditions**, like \"is this person at least 21?\" or \"is the password the user entered the correct password?\"."
   ]
  },
  {
   "cell_type": "code",
   "execution_count": null,
   "id": "c81574b4-aa39-4a31-803e-bcbfa3f96ed4",
   "metadata": {},
   "outputs": [],
   "source": [
    "# is age at least age_limit?\n",
    "age_limit = 21\n",
    "age = 17\n",
    "\n",
    "age ... age_limit"
   ]
  },
  {
   "cell_type": "code",
   "execution_count": null,
   "id": "e449cd73-aad7-4c4b-9e97-893cc9b9db49",
   "metadata": {},
   "outputs": [],
   "source": [
    "# is password_guess equal to true_password?\n",
    "true_password = 'qwerty1093x!'\n",
    "password_guess = 'QWERTY1093x!'\n",
    "\n",
    "password_guess ... true_password"
   ]
  },
  {
   "cell_type": "markdown",
   "id": "7f917171-4b86-45ff-aea1-3e85bbcac63c",
   "metadata": {},
   "source": [
    "Above, we saw both the greater than or equal to (`>=`) and the equal to (`==`) comparison operators in action. Notice that `==` (equals to operator) is **not** the same as `=` (assignment operator)"
   ]
  },
  {
   "cell_type": "markdown",
   "id": "4e1710ff-c847-4291-a7cd-e6e3a9dee0bd",
   "metadata": {},
   "source": [
    "The code below works..."
   ]
  },
  {
   "cell_type": "code",
   "execution_count": null,
   "id": "b23de79f-5e2a-43d3-8720-48f7515e12d6",
   "metadata": {},
   "outputs": [],
   "source": [
    "3 == 3"
   ]
  },
  {
   "cell_type": "markdown",
   "id": "821ba577-f268-42b0-9f16-cba28a7cdda4",
   "metadata": {},
   "source": [
    "But this code doesn't:"
   ]
  },
  {
   "cell_type": "code",
   "execution_count": null,
   "id": "20f8e8e0-7ea8-469f-b750-1f5d63b34a75",
   "metadata": {},
   "outputs": [],
   "source": [
    "3 = 3"
   ]
  },
  {
   "cell_type": "markdown",
   "id": "3b718261-40e6-42b1-a867-a57ad1617850",
   "metadata": {},
   "source": [
    "Below are some other examples of comparison operators in action!"
   ]
  },
  {
   "cell_type": "code",
   "execution_count": null,
   "id": "2f4bfac5-ba54-426e-8322-0b157319b932",
   "metadata": {},
   "outputs": [],
   "source": [
    "'hello' != 'howdy'"
   ]
  },
  {
   "cell_type": "code",
   "execution_count": null,
   "id": "ff567372-20d9-4f37-ab56-6cd087cb3202",
   "metadata": {},
   "outputs": [],
   "source": [
    "-3 > -2"
   ]
  },
  {
   "cell_type": "code",
   "execution_count": null,
   "id": "ef873bfe-d036-4532-b298-c3bbed61aa6d",
   "metadata": {},
   "outputs": [],
   "source": [
    "-3 < -2"
   ]
  },
  {
   "cell_type": "code",
   "execution_count": null,
   "id": "bf726949-36e8-4527-9341-9504c5fdbd9f",
   "metadata": {},
   "outputs": [],
   "source": [
    "'alpha' >= 'beta'"
   ]
  },
  {
   "cell_type": "markdown",
   "id": "a2476945-4a15-4e45-93a5-e29f7b299542",
   "metadata": {},
   "source": [
    "Recall that `=` and `==` mean different things:"
   ]
  },
  {
   "cell_type": "code",
   "execution_count": null,
   "id": "77a53e0b-f4ee-44c5-8c99-82bd62427baf",
   "metadata": {},
   "outputs": [],
   "source": [
    "x = 5         # set x equal to 5"
   ]
  },
  {
   "cell_type": "code",
   "execution_count": null,
   "id": "9424b129-1885-443a-b769-24d6afd29123",
   "metadata": {},
   "outputs": [],
   "source": [
    "x == 5        # is x equal to 5?"
   ]
  },
  {
   "cell_type": "markdown",
   "id": "b18f8fa2-e682-4c2b-af7a-5c17a4ff8517",
   "metadata": {},
   "source": [
    "This means that the weird-looking code below is actually completely valid!"
   ]
  },
  {
   "cell_type": "code",
   "execution_count": null,
   "id": "8411b814-95e2-415e-bf4c-ddc0c09ffd2a",
   "metadata": {},
   "outputs": [],
   "source": [
    "y = x == 5\n",
    "y"
   ]
  },
  {
   "cell_type": "markdown",
   "id": "90844fb3-0b73-4a52-8ea0-27e4e6d8d193",
   "metadata": {},
   "source": [
    "### Comparing Different Types"
   ]
  },
  {
   "cell_type": "markdown",
   "id": "61ad4dd7-3575-4a26-9789-ccf84f2b97ab",
   "metadata": {},
   "source": [
    "In Python, you can check for equality (`==` or `!=`) with values of **any** type."
   ]
  },
  {
   "cell_type": "code",
   "execution_count": null,
   "id": "c275ca89-37d9-4eb9-823b-e8deaeb572ea",
   "metadata": {},
   "outputs": [],
   "source": [
    "17 == '17'"
   ]
  },
  {
   "cell_type": "code",
   "execution_count": null,
   "id": "447e99e8-b937-4385-bbbe-60f0c83a251a",
   "metadata": {},
   "outputs": [],
   "source": [
    "'zebra' != True"
   ]
  },
  {
   "cell_type": "code",
   "execution_count": null,
   "id": "21828769-612e-4842-9a92-4d90c08d6de2",
   "metadata": {},
   "outputs": [],
   "source": [
    "True == 1.0"
   ]
  },
  {
   "cell_type": "markdown",
   "id": "f53d62d7-a9de-4f09-9d41-5f46a4adffdb",
   "metadata": {},
   "source": [
    "But you can only check for inequality between values of the **same \"category\"**"
   ]
  },
  {
   "cell_type": "code",
   "execution_count": null,
   "id": "33ccabcf-3626-455d-bdc4-cf91c2683b70",
   "metadata": {},
   "outputs": [],
   "source": [
    "5 > True"
   ]
  },
  {
   "cell_type": "code",
   "execution_count": null,
   "id": "7d2b1d5f-030c-4ed8-8d5a-d0a83682ce3c",
   "metadata": {},
   "outputs": [],
   "source": [
    "'alpha' >= 'beta'"
   ]
  },
  {
   "cell_type": "code",
   "execution_count": null,
   "id": "bc5d7950-aaaa-404c-bd05-18437f601948",
   "metadata": {},
   "outputs": [],
   "source": [
    "'alpha' >= 5"
   ]
  },
  {
   "cell_type": "markdown",
   "id": "9b13b751-622f-4d79-8f10-d67193b57888",
   "metadata": {},
   "source": [
    "Notice that `5 > True` still works, even though the two values or of different types. We will return to this a bit later."
   ]
  },
  {
   "cell_type": "markdown",
   "id": "6ffb7336-e86a-423f-bba3-26327015cd77",
   "metadata": {},
   "source": [
    "### Floating Point Issues, Revisited"
   ]
  },
  {
   "cell_type": "markdown",
   "id": "d1b774b9-e256-4177-a981-5a29728f9ec8",
   "metadata": {},
   "source": [
    "Be careful when comparing floating point numbers. Because of floating point rounding errors, Python might give us some weird results."
   ]
  },
  {
   "cell_type": "code",
   "execution_count": null,
   "id": "b10127f7-5ee0-4d0b-80ed-13dbd8892515",
   "metadata": {},
   "outputs": [],
   "source": [
    "0.1 * 2 == 0.2"
   ]
  },
  {
   "cell_type": "code",
   "execution_count": null,
   "id": "abec4861-160a-4894-9631-1f90acb9d3e6",
   "metadata": {},
   "outputs": [],
   "source": [
    "0.1 * 6"
   ]
  },
  {
   "cell_type": "code",
   "execution_count": null,
   "id": "0224c70e-d345-4b7f-88ba-091bc0a48e14",
   "metadata": {},
   "outputs": [],
   "source": [
    "0.1 * 6 == 0.6"
   ]
  },
  {
   "cell_type": "markdown",
   "id": "0afea431-9e68-4236-9f5f-866683d24b59",
   "metadata": {},
   "source": [
    "Instead of checking for equality directly, we can check if the difference between the two values is **negligible** (i.e. within some small amount):"
   ]
  },
  {
   "cell_type": "code",
   "execution_count": null,
   "id": "1e01a9b2-9f39-4b44-94cf-a02739726371",
   "metadata": {},
   "outputs": [],
   "source": [
    "abs(0.1 * 6 - 0.6) < 0.0001"
   ]
  },
  {
   "cell_type": "markdown",
   "id": "90e864bb-7427-4bdb-bec0-de1fb0330828",
   "metadata": {},
   "source": [
    "### String Containment"
   ]
  },
  {
   "cell_type": "markdown",
   "id": "8284407f-2976-4cab-9b95-ba22e375c228",
   "metadata": {},
   "source": [
    "Another useful Python **operator** is the `in` keyword, which checks if the first value is present within the second value:"
   ]
  },
  {
   "cell_type": "code",
   "execution_count": null,
   "id": "02250c26-918e-4364-8353-70a53265bcef",
   "metadata": {},
   "outputs": [],
   "source": [
    "'berkeley' in 'uc berkeley'"
   ]
  },
  {
   "cell_type": "code",
   "execution_count": null,
   "id": "00d3f692-971d-40ef-beb2-dc78811f25c6",
   "metadata": {},
   "outputs": [],
   "source": [
    "'stanford' in 'uc berkeley'"
   ]
  },
  {
   "cell_type": "code",
   "execution_count": null,
   "id": "3b395ae9-1126-4910-984c-f33765fd8569",
   "metadata": {},
   "outputs": [],
   "source": [
    "'berkeley' in 'UC BERKELEY'"
   ]
  },
  {
   "cell_type": "markdown",
   "id": "3ac97a64-5066-4f09-bf6b-1bb3a47ed799",
   "metadata": {},
   "source": [
    "## Boolean Indexing\n",
    "\n",
    "We can now use this Boolean array to index the entries in the original array where the condition specified returned `True`."
   ]
  },
  {
   "cell_type": "code",
   "execution_count": null,
   "id": "27ec411b-1d34-497c-afdc-4f633e365937",
   "metadata": {},
   "outputs": [],
   "source": [
    "hs_or_higher = np.array([86.9, 83.9, 88.5, 87.2, 84.4])\n",
    "above_85_hs = hs_or_higher > 85\n",
    "above_85_hs\n"
   ]
  },
  {
   "cell_type": "code",
   "execution_count": null,
   "id": "bb8c574d-f805-4973-82cd-a955c43e25ef",
   "metadata": {},
   "outputs": [],
   "source": [
    "hs_or_higher[above_85_hs]"
   ]
  },
  {
   "cell_type": "markdown",
   "id": "04b94211-3a10-4b2a-b491-171676bfc049",
   "metadata": {},
   "source": [
    "Or we can index the entries which returned `False`."
   ]
  },
  {
   "cell_type": "code",
   "execution_count": null,
   "id": "3a041b0e-6eac-42dd-be1d-57b5fe6a6609",
   "metadata": {},
   "outputs": [],
   "source": [
    "hs_or_higher[~above_85_hs]"
   ]
  },
  {
   "cell_type": "markdown",
   "id": "546cbe1e-7b82-4040-8e0e-bc116d84213a",
   "metadata": {},
   "source": []
  }
 ],
 "metadata": {
  "kernelspec": {
   "display_name": "Python 3 (ipykernel)",
   "language": "python",
   "name": "python3"
  },
  "language_info": {
   "codemirror_mode": {
    "name": "ipython",
    "version": 3
   },
   "file_extension": ".py",
   "mimetype": "text/x-python",
   "name": "python",
   "nbconvert_exporter": "python",
   "pygments_lexer": "ipython3",
   "version": "3.11.4"
  }
 },
 "nbformat": 4,
 "nbformat_minor": 5
}
