{
 "cells": [
  {
   "cell_type": "markdown",
   "metadata": {},
   "source": [
    "# Lecture 17 – Grouping\n",
    "\n",
    "## Spark 10, Spring 2024"
   ]
  },
  {
   "cell_type": "code",
   "execution_count": 1,
   "metadata": {},
   "outputs": [],
   "source": [
    "import numpy as np\n",
    "%matplotlib inline\n",
    "import pandas as pd\n",
    "import seaborn as sns\n",
    "sns.set_style(\"darkgrid\")"
   ]
  },
  {
   "cell_type": "markdown",
   "metadata": {},
   "source": [
    "## Grouping with `df.groupby`"
   ]
  },
  {
   "cell_type": "markdown",
   "metadata": {},
   "source": [
    "The term \"group\" in data science is most commonly associated with data aggregation and disaggregation. When we \"group\" a table in Python, we are able to gain insights about our data at a higher unit of analysis (e.g. at a city or state level, as opposed to the individual level)."
   ]
  },
  {
   "cell_type": "markdown",
   "metadata": {},
   "source": [
    "Returning to the `top_10` dataset from last week (showing the songs on the Spotify Top 10)"
   ]
  },
  {
   "cell_type": "code",
   "execution_count": 2,
   "metadata": {},
   "outputs": [
    {
     "data": {
      "text/html": [
       "<div>\n",
       "<style scoped>\n",
       "    .dataframe tbody tr th:only-of-type {\n",
       "        vertical-align: middle;\n",
       "    }\n",
       "\n",
       "    .dataframe tbody tr th {\n",
       "        vertical-align: top;\n",
       "    }\n",
       "\n",
       "    .dataframe thead th {\n",
       "        text-align: right;\n",
       "    }\n",
       "</style>\n",
       "<table border=\"1\" class=\"dataframe\">\n",
       "  <thead>\n",
       "    <tr style=\"text-align: right;\">\n",
       "      <th></th>\n",
       "      <th>rank</th>\n",
       "      <th>artist_names</th>\n",
       "      <th>track_name</th>\n",
       "      <th>source</th>\n",
       "      <th>peak_rank</th>\n",
       "      <th>previous_rank</th>\n",
       "      <th>days_on_chart</th>\n",
       "      <th>streams</th>\n",
       "    </tr>\n",
       "  </thead>\n",
       "  <tbody>\n",
       "    <tr>\n",
       "      <th>0</th>\n",
       "      <td>1</td>\n",
       "      <td>Kate Bush</td>\n",
       "      <td>Running Up That Hill</td>\n",
       "      <td>Rhino</td>\n",
       "      <td>1</td>\n",
       "      <td>1</td>\n",
       "      <td>41</td>\n",
       "      <td>7208654</td>\n",
       "    </tr>\n",
       "    <tr>\n",
       "      <th>1</th>\n",
       "      <td>2</td>\n",
       "      <td>Harry Styles</td>\n",
       "      <td>As It Was</td>\n",
       "      <td>Columbia</td>\n",
       "      <td>1</td>\n",
       "      <td>2</td>\n",
       "      <td>99</td>\n",
       "      <td>6543793</td>\n",
       "    </tr>\n",
       "    <tr>\n",
       "      <th>2</th>\n",
       "      <td>3</td>\n",
       "      <td>Joji</td>\n",
       "      <td>Glimpse of Us</td>\n",
       "      <td>88rising Music/Warner Records</td>\n",
       "      <td>1</td>\n",
       "      <td>3</td>\n",
       "      <td>28</td>\n",
       "      <td>5492997</td>\n",
       "    </tr>\n",
       "    <tr>\n",
       "      <th>3</th>\n",
       "      <td>4</td>\n",
       "      <td>Bad Bunny, Chencho Corleone</td>\n",
       "      <td>Me Porto Bonito</td>\n",
       "      <td>Rimas Entertainment LLC</td>\n",
       "      <td>2</td>\n",
       "      <td>4</td>\n",
       "      <td>63</td>\n",
       "      <td>5416421</td>\n",
       "    </tr>\n",
       "    <tr>\n",
       "      <th>4</th>\n",
       "      <td>5</td>\n",
       "      <td>Bizarrap, Quevedo</td>\n",
       "      <td>Quevedo: Bzrp Music Sessions, Vol. 52</td>\n",
       "      <td>DALE PLAY Records</td>\n",
       "      <td>5</td>\n",
       "      <td>-1</td>\n",
       "      <td>1</td>\n",
       "      <td>4676471</td>\n",
       "    </tr>\n",
       "  </tbody>\n",
       "</table>\n",
       "</div>"
      ],
      "text/plain": [
       "   rank                 artist_names                             track_name  \\\n",
       "0     1                    Kate Bush                   Running Up That Hill   \n",
       "1     2                 Harry Styles                              As It Was   \n",
       "2     3                         Joji                          Glimpse of Us   \n",
       "3     4  Bad Bunny, Chencho Corleone                        Me Porto Bonito   \n",
       "4     5            Bizarrap, Quevedo  Quevedo: Bzrp Music Sessions, Vol. 52   \n",
       "\n",
       "                          source  peak_rank  previous_rank  days_on_chart  \\\n",
       "0                          Rhino          1              1             41   \n",
       "1                       Columbia          1              2             99   \n",
       "2  88rising Music/Warner Records          1              3             28   \n",
       "3        Rimas Entertainment LLC          2              4             63   \n",
       "4              DALE PLAY Records          5             -1              1   \n",
       "\n",
       "   streams  \n",
       "0  7208654  \n",
       "1  6543793  \n",
       "2  5492997  \n",
       "3  5416421  \n",
       "4  4676471  "
      ]
     },
     "execution_count": 2,
     "metadata": {},
     "output_type": "execute_result"
    }
   ],
   "source": [
    "top_10 = pd.read_csv('data/regional-global-daily-latest.csv').take(np.arange(10))\n",
    "top_10.head()"
   ]
  },
  {
   "cell_type": "markdown",
   "metadata": {},
   "source": [
    "### Quick Check Review 1"
   ]
  },
  {
   "cell_type": "markdown",
   "metadata": {},
   "source": [
    "(Multiple Choice):\n",
    "\n",
    "If we wanted to check which artists show up the most in the `top_10` table, we can use...\n",
    "- (a) :    `top_10.value_counts('track_name')`\n",
    "- (b) :    `top_10['stream'].sum()`\n",
    "- (c) :    `top_10.value_counts('artist_names')`\n",
    "- (d) :    `top_10['artist_names'].value_counts().head(1)`"
   ]
  },
  {
   "cell_type": "code",
   "execution_count": null,
   "metadata": {},
   "outputs": [],
   "source": [
    "# Fill in the ... with your answer(s)\n",
    "my_choice1 = '...'"
   ]
  },
  {
   "cell_type": "markdown",
   "metadata": {},
   "source": [
    "### Quick Check Review 2"
   ]
  },
  {
   "cell_type": "markdown",
   "metadata": {},
   "source": [
    "Suppose we also had the table `Ages`, which gives the age of all the artists in our dataset."
   ]
  },
  {
   "cell_type": "code",
   "execution_count": null,
   "metadata": {},
   "outputs": [],
   "source": [
    "ages = [['Kate Bush',65],\n",
    "        ['Harry Styles',30],\n",
    "        ['Joji',31],\n",
    "        ['Bad Bunny',30],\n",
    "        ['Bizarrap',25]]\n",
    "Ages = pd.DataFrame(ages, columns = ['artist','age'])\n",
    "Ages"
   ]
  },
  {
   "cell_type": "markdown",
   "metadata": {},
   "source": [
    "(Multiple Choice). If we wanted to merge `top_10` with `artist_ages`, we would use...\n",
    "- (a) :    **pd.merge**(Ages, top_10, left_on = **'artist'**,right_on = **'track_name'**)\n",
    "- (b) :    **pd.merge**(Ages, top_10, left_on = **'artist'**,right_on = **'artist_names'**)\n",
    "- (c) :    **pd.concat**(Ages, top_10, left_on = **'age'**,right_on = **'artist_names'**)"
   ]
  },
  {
   "cell_type": "code",
   "execution_count": null,
   "metadata": {},
   "outputs": [],
   "source": [
    "# Fill in the ... with your answer(s)\n",
    "my_choice2 = '...'"
   ]
  },
  {
   "cell_type": "markdown",
   "metadata": {},
   "source": [
    "### `df.value_counts`"
   ]
  },
  {
   "cell_type": "markdown",
   "metadata": {},
   "source": [
    "Recall that `df.value_counts(column)` counts the number of occurences of each unique value in `column`."
   ]
  },
  {
   "cell_type": "code",
   "execution_count": null,
   "metadata": {
    "scrolled": true
   },
   "outputs": [],
   "source": [
    "... # Group `top_10` by artist name using value_counts"
   ]
  },
  {
   "cell_type": "markdown",
   "metadata": {},
   "source": [
    "Notice that Bad Bunny's name appears 5 times on the Top 10, but the \"Bad Bunny\" row in the groupped table only has a count of 3. This is because Python looks for an **exact match**. The songs where Bad Bunny appears along with other artists are counted separately."
   ]
  },
  {
   "cell_type": "markdown",
   "metadata": {},
   "source": [
    "### Quick Check 1"
   ]
  },
  {
   "cell_type": "code",
   "execution_count": null,
   "metadata": {},
   "outputs": [],
   "source": [
    "streams = pd.read_csv('data/regional-global-daily-latest.csv')\n",
    "streams"
   ]
  },
  {
   "cell_type": "markdown",
   "metadata": {},
   "source": [
    "Using the `streams` table, fill in the blanks to create the “Top 10 Artists” bar chart: The 10 artists with the most songs in the Spotify Daily Top 200 streams table."
   ]
  },
  {
   "cell_type": "code",
   "execution_count": null,
   "metadata": {},
   "outputs": [],
   "source": [
    "top_10_artists = streams.value_counts(...).take(np.arange(...))\n",
    "top_10_artists.plot.barh()"
   ]
  },
  {
   "cell_type": "markdown",
   "metadata": {},
   "source": [
    "## Advanced Grouping"
   ]
  },
  {
   "cell_type": "markdown",
   "metadata": {},
   "source": [
    "For the rest of today's lecture, we will use the `cars` table, which contains specifications for a variety of car models."
   ]
  },
  {
   "cell_type": "code",
   "execution_count": 3,
   "metadata": {},
   "outputs": [
    {
     "data": {
      "text/html": [
       "<div>\n",
       "<style scoped>\n",
       "    .dataframe tbody tr th:only-of-type {\n",
       "        vertical-align: middle;\n",
       "    }\n",
       "\n",
       "    .dataframe tbody tr th {\n",
       "        vertical-align: top;\n",
       "    }\n",
       "\n",
       "    .dataframe thead th {\n",
       "        text-align: right;\n",
       "    }\n",
       "</style>\n",
       "<table border=\"1\" class=\"dataframe\">\n",
       "  <thead>\n",
       "    <tr style=\"text-align: right;\">\n",
       "      <th></th>\n",
       "      <th>Manufacturer</th>\n",
       "      <th>Brand</th>\n",
       "      <th>Model</th>\n",
       "      <th>Displacement</th>\n",
       "      <th>Cylinders</th>\n",
       "      <th>MPG</th>\n",
       "      <th>Wheel</th>\n",
       "    </tr>\n",
       "  </thead>\n",
       "  <tbody>\n",
       "    <tr>\n",
       "      <th>0</th>\n",
       "      <td>BMW</td>\n",
       "      <td>BMW</td>\n",
       "      <td>228i Gran Coupe</td>\n",
       "      <td>2.0</td>\n",
       "      <td>4</td>\n",
       "      <td>28</td>\n",
       "      <td>2-Wheel Drive, Front</td>\n",
       "    </tr>\n",
       "    <tr>\n",
       "      <th>1</th>\n",
       "      <td>BMW</td>\n",
       "      <td>BMW</td>\n",
       "      <td>228i xDrive Gran Coupe</td>\n",
       "      <td>2.0</td>\n",
       "      <td>4</td>\n",
       "      <td>27</td>\n",
       "      <td>All Wheel Drive</td>\n",
       "    </tr>\n",
       "    <tr>\n",
       "      <th>2</th>\n",
       "      <td>BMW</td>\n",
       "      <td>BMW</td>\n",
       "      <td>230i Convertible</td>\n",
       "      <td>2.0</td>\n",
       "      <td>4</td>\n",
       "      <td>27</td>\n",
       "      <td>2-Wheel Drive, Rear</td>\n",
       "    </tr>\n",
       "    <tr>\n",
       "      <th>3</th>\n",
       "      <td>BMW</td>\n",
       "      <td>BMW</td>\n",
       "      <td>230i Coupe</td>\n",
       "      <td>2.0</td>\n",
       "      <td>4</td>\n",
       "      <td>28</td>\n",
       "      <td>2-Wheel Drive, Rear</td>\n",
       "    </tr>\n",
       "    <tr>\n",
       "      <th>4</th>\n",
       "      <td>BMW</td>\n",
       "      <td>BMW</td>\n",
       "      <td>230i xDrive Convertible</td>\n",
       "      <td>2.0</td>\n",
       "      <td>4</td>\n",
       "      <td>24</td>\n",
       "      <td>All Wheel Drive</td>\n",
       "    </tr>\n",
       "    <tr>\n",
       "      <th>...</th>\n",
       "      <td>...</td>\n",
       "      <td>...</td>\n",
       "      <td>...</td>\n",
       "      <td>...</td>\n",
       "      <td>...</td>\n",
       "      <td>...</td>\n",
       "      <td>...</td>\n",
       "    </tr>\n",
       "    <tr>\n",
       "      <th>769</th>\n",
       "      <td>aston martin</td>\n",
       "      <td>Aston Martin Lagonda Ltd</td>\n",
       "      <td>DB11 V8</td>\n",
       "      <td>4.0</td>\n",
       "      <td>8</td>\n",
       "      <td>20</td>\n",
       "      <td>2-Wheel Drive, Rear</td>\n",
       "    </tr>\n",
       "    <tr>\n",
       "      <th>770</th>\n",
       "      <td>aston martin</td>\n",
       "      <td>Aston Martin Lagonda Ltd</td>\n",
       "      <td>DBS</td>\n",
       "      <td>5.2</td>\n",
       "      <td>12</td>\n",
       "      <td>17</td>\n",
       "      <td>2-Wheel Drive, Rear</td>\n",
       "    </tr>\n",
       "    <tr>\n",
       "      <th>771</th>\n",
       "      <td>aston martin</td>\n",
       "      <td>Aston Martin Lagonda Ltd</td>\n",
       "      <td>DBX V8</td>\n",
       "      <td>4.0</td>\n",
       "      <td>8</td>\n",
       "      <td>15</td>\n",
       "      <td>4-Wheel Drive</td>\n",
       "    </tr>\n",
       "    <tr>\n",
       "      <th>772</th>\n",
       "      <td>aston martin</td>\n",
       "      <td>Aston Martin Lagonda Ltd</td>\n",
       "      <td>Vantage Manual</td>\n",
       "      <td>4.0</td>\n",
       "      <td>8</td>\n",
       "      <td>17</td>\n",
       "      <td>2-Wheel Drive, Rear</td>\n",
       "    </tr>\n",
       "    <tr>\n",
       "      <th>773</th>\n",
       "      <td>aston martin</td>\n",
       "      <td>Aston Martin Lagonda Ltd</td>\n",
       "      <td>Vantage V8</td>\n",
       "      <td>4.0</td>\n",
       "      <td>8</td>\n",
       "      <td>20</td>\n",
       "      <td>2-Wheel Drive, Rear</td>\n",
       "    </tr>\n",
       "  </tbody>\n",
       "</table>\n",
       "<p>774 rows × 7 columns</p>\n",
       "</div>"
      ],
      "text/plain": [
       "     Manufacturer                     Brand                    Model  \\\n",
       "0             BMW                       BMW          228i Gran Coupe   \n",
       "1             BMW                       BMW   228i xDrive Gran Coupe   \n",
       "2             BMW                       BMW         230i Convertible   \n",
       "3             BMW                       BMW               230i Coupe   \n",
       "4             BMW                       BMW  230i xDrive Convertible   \n",
       "..            ...                       ...                      ...   \n",
       "769  aston martin  Aston Martin Lagonda Ltd                  DB11 V8   \n",
       "770  aston martin  Aston Martin Lagonda Ltd                      DBS   \n",
       "771  aston martin  Aston Martin Lagonda Ltd                   DBX V8   \n",
       "772  aston martin  Aston Martin Lagonda Ltd           Vantage Manual   \n",
       "773  aston martin  Aston Martin Lagonda Ltd               Vantage V8   \n",
       "\n",
       "     Displacement  Cylinders  MPG                 Wheel  \n",
       "0             2.0          4   28  2-Wheel Drive, Front  \n",
       "1             2.0          4   27       All Wheel Drive  \n",
       "2             2.0          4   27   2-Wheel Drive, Rear  \n",
       "3             2.0          4   28   2-Wheel Drive, Rear  \n",
       "4             2.0          4   24       All Wheel Drive  \n",
       "..            ...        ...  ...                   ...  \n",
       "769           4.0          8   20   2-Wheel Drive, Rear  \n",
       "770           5.2         12   17   2-Wheel Drive, Rear  \n",
       "771           4.0          8   15         4-Wheel Drive  \n",
       "772           4.0          8   17   2-Wheel Drive, Rear  \n",
       "773           4.0          8   20   2-Wheel Drive, Rear  \n",
       "\n",
       "[774 rows x 7 columns]"
      ]
     },
     "execution_count": 3,
     "metadata": {},
     "output_type": "execute_result"
    }
   ],
   "source": [
    "cars = pd.read_csv('data/models-2021.csv')\n",
    "cars"
   ]
  },
  {
   "cell_type": "markdown",
   "metadata": {},
   "source": [
    "A few notes:\n",
    "* `Manufacturer` is who owns the Brand.\n",
    "    * GM owns Buick, Cadillac, Chevrolet, GMC.\n",
    "* `Displacement` is the engine size in liters.\n",
    "* `MPG` is miles per gallon.\n"
   ]
  },
  {
   "cell_type": "markdown",
   "metadata": {},
   "source": [
    "Here we'll take a subset of the rows and columns for illustration."
   ]
  },
  {
   "cell_type": "code",
   "execution_count": 4,
   "metadata": {},
   "outputs": [
    {
     "data": {
      "text/html": [
       "<div>\n",
       "<style scoped>\n",
       "    .dataframe tbody tr th:only-of-type {\n",
       "        vertical-align: middle;\n",
       "    }\n",
       "\n",
       "    .dataframe tbody tr th {\n",
       "        vertical-align: top;\n",
       "    }\n",
       "\n",
       "    .dataframe thead th {\n",
       "        text-align: right;\n",
       "    }\n",
       "</style>\n",
       "<table border=\"1\" class=\"dataframe\">\n",
       "  <thead>\n",
       "    <tr style=\"text-align: right;\">\n",
       "      <th></th>\n",
       "      <th>Brand</th>\n",
       "      <th>Model</th>\n",
       "      <th>Cylinders</th>\n",
       "      <th>MPG</th>\n",
       "    </tr>\n",
       "  </thead>\n",
       "  <tbody>\n",
       "    <tr>\n",
       "      <th>203</th>\n",
       "      <td>Buick</td>\n",
       "      <td>ENCLAVE FWD</td>\n",
       "      <td>6</td>\n",
       "      <td>21</td>\n",
       "    </tr>\n",
       "    <tr>\n",
       "      <th>211</th>\n",
       "      <td>Cadillac</td>\n",
       "      <td>CT4 AWD</td>\n",
       "      <td>4</td>\n",
       "      <td>26</td>\n",
       "    </tr>\n",
       "    <tr>\n",
       "      <th>222</th>\n",
       "      <td>Cadillac</td>\n",
       "      <td>XT5 AWD</td>\n",
       "      <td>4</td>\n",
       "      <td>23</td>\n",
       "    </tr>\n",
       "    <tr>\n",
       "      <th>271</th>\n",
       "      <td>GMC</td>\n",
       "      <td>YUKON XL 4WD</td>\n",
       "      <td>6</td>\n",
       "      <td>22</td>\n",
       "    </tr>\n",
       "    <tr>\n",
       "      <th>232</th>\n",
       "      <td>Chevrolet</td>\n",
       "      <td>CAMARO</td>\n",
       "      <td>4</td>\n",
       "      <td>25</td>\n",
       "    </tr>\n",
       "    <tr>\n",
       "      <th>233</th>\n",
       "      <td>Chevrolet</td>\n",
       "      <td>COLORADO 2WD</td>\n",
       "      <td>4</td>\n",
       "      <td>22</td>\n",
       "    </tr>\n",
       "    <tr>\n",
       "      <th>218</th>\n",
       "      <td>Cadillac</td>\n",
       "      <td>ESCALADE 2WD</td>\n",
       "      <td>6</td>\n",
       "      <td>23</td>\n",
       "    </tr>\n",
       "    <tr>\n",
       "      <th>237</th>\n",
       "      <td>Chevrolet</td>\n",
       "      <td>EQUINOX AWD</td>\n",
       "      <td>4</td>\n",
       "      <td>27</td>\n",
       "    </tr>\n",
       "    <tr>\n",
       "      <th>202</th>\n",
       "      <td>Buick</td>\n",
       "      <td>ENCLAVE AWD</td>\n",
       "      <td>6</td>\n",
       "      <td>20</td>\n",
       "    </tr>\n",
       "  </tbody>\n",
       "</table>\n",
       "</div>"
      ],
      "text/plain": [
       "         Brand         Model  Cylinders  MPG\n",
       "203      Buick   ENCLAVE FWD          6   21\n",
       "211   Cadillac       CT4 AWD          4   26\n",
       "222   Cadillac       XT5 AWD          4   23\n",
       "271        GMC  YUKON XL 4WD          6   22\n",
       "232  Chevrolet        CAMARO          4   25\n",
       "233  Chevrolet  COLORADO 2WD          4   22\n",
       "218   Cadillac  ESCALADE 2WD          6   23\n",
       "237  Chevrolet   EQUINOX AWD          4   27\n",
       "202      Buick   ENCLAVE AWD          6   20"
      ]
     },
     "execution_count": 4,
     "metadata": {},
     "output_type": "execute_result"
    }
   ],
   "source": [
    "gm_filter = cars['Manufacturer'] == 'General Motors'\n",
    "cols = ['Brand', 'Model', 'Cylinders', 'MPG']\n",
    "rows = [0, 1, 9, 16, 20, 30, 31, 35, -1]\n",
    "gm = cars[gm_filter].loc[:,cols].take(rows).take([1, 2, 4, 8, 5, 6, 3, 7, 0])\n",
    "gm"
   ]
  },
  {
   "cell_type": "markdown",
   "metadata": {},
   "source": [
    "### Default Behavior"
   ]
  },
  {
   "cell_type": "markdown",
   "metadata": {},
   "source": [
    "We have already seen how we can use value counts on a single variable/column."
   ]
  },
  {
   "cell_type": "code",
   "execution_count": null,
   "metadata": {
    "scrolled": true
   },
   "outputs": [],
   "source": [
    "... # Group `gm` by Brand"
   ]
  },
  {
   "cell_type": "code",
   "execution_count": null,
   "metadata": {},
   "outputs": [],
   "source": [
    "... # Group `cars` by Brand"
   ]
  },
  {
   "cell_type": "markdown",
   "metadata": {},
   "source": [
    "### Specifying a `collect` function"
   ]
  },
  {
   "cell_type": "markdown",
   "metadata": {},
   "source": [
    "We can also use `.groupby` to learn other aggregate statistics about cateogories. We do this by specifying a second argument: `collect`. The `collect` argument must be a function (e.g. `len`, `min` `mean`, etc)."
   ]
  },
  {
   "cell_type": "code",
   "execution_count": null,
   "metadata": {},
   "outputs": [],
   "source": [
    "... # Group `gm` by Brand and use .mean as the collect function"
   ]
  },
  {
   "cell_type": "markdown",
   "metadata": {},
   "source": [
    "How does this work under the hood?"
   ]
  },
  {
   "cell_type": "code",
   "execution_count": null,
   "metadata": {},
   "outputs": [],
   "source": [
    "gm.where(gm['Brand'] == 'Buick').dropna()"
   ]
  },
  {
   "cell_type": "code",
   "execution_count": 5,
   "metadata": {},
   "outputs": [
    {
     "name": "stdout",
     "output_type": "stream",
     "text": [
      "mean of Cylinders:  6.0\n",
      "mean of MPG:  20.5\n"
     ]
    }
   ],
   "source": [
    "print('mean of Cylinders: ', gm.where(gm['Brand'] =='Buick')['Cylinders'].mean())\n",
    "print('mean of MPG: ', gm.where(gm['Brand'] =='Buick')['MPG'].mean())"
   ]
  },
  {
   "cell_type": "code",
   "execution_count": 6,
   "metadata": {
    "scrolled": true
   },
   "outputs": [
    {
     "data": {
      "text/html": [
       "<div>\n",
       "<style scoped>\n",
       "    .dataframe tbody tr th:only-of-type {\n",
       "        vertical-align: middle;\n",
       "    }\n",
       "\n",
       "    .dataframe tbody tr th {\n",
       "        vertical-align: top;\n",
       "    }\n",
       "\n",
       "    .dataframe thead th {\n",
       "        text-align: right;\n",
       "    }\n",
       "</style>\n",
       "<table border=\"1\" class=\"dataframe\">\n",
       "  <thead>\n",
       "    <tr style=\"text-align: right;\">\n",
       "      <th></th>\n",
       "      <th>Brand</th>\n",
       "      <th>Model</th>\n",
       "      <th>Cylinders</th>\n",
       "      <th>MPG</th>\n",
       "    </tr>\n",
       "  </thead>\n",
       "  <tbody>\n",
       "    <tr>\n",
       "      <th>211</th>\n",
       "      <td>Cadillac</td>\n",
       "      <td>CT4 AWD</td>\n",
       "      <td>4.0</td>\n",
       "      <td>26.0</td>\n",
       "    </tr>\n",
       "    <tr>\n",
       "      <th>222</th>\n",
       "      <td>Cadillac</td>\n",
       "      <td>XT5 AWD</td>\n",
       "      <td>4.0</td>\n",
       "      <td>23.0</td>\n",
       "    </tr>\n",
       "    <tr>\n",
       "      <th>218</th>\n",
       "      <td>Cadillac</td>\n",
       "      <td>ESCALADE 2WD</td>\n",
       "      <td>6.0</td>\n",
       "      <td>23.0</td>\n",
       "    </tr>\n",
       "  </tbody>\n",
       "</table>\n",
       "</div>"
      ],
      "text/plain": [
       "        Brand         Model  Cylinders   MPG\n",
       "211  Cadillac       CT4 AWD        4.0  26.0\n",
       "222  Cadillac       XT5 AWD        4.0  23.0\n",
       "218  Cadillac  ESCALADE 2WD        6.0  23.0"
      ]
     },
     "execution_count": 6,
     "metadata": {},
     "output_type": "execute_result"
    }
   ],
   "source": [
    "gm.where(gm['Brand'] == 'Cadillac').dropna()"
   ]
  },
  {
   "cell_type": "code",
   "execution_count": 7,
   "metadata": {
    "scrolled": true
   },
   "outputs": [
    {
     "name": "stdout",
     "output_type": "stream",
     "text": [
      "mean of Cylinders:  4.666666666666667\n",
      "mean of MPG:  24.0\n"
     ]
    }
   ],
   "source": [
    "print('mean of Cylinders: ', gm.where(gm['Brand'] == 'Cadillac')['Cylinders'].mean())\n",
    "print('mean of MPG: ', gm.where(gm['Brand'] == 'Cadillac')['MPG'].mean())"
   ]
  },
  {
   "cell_type": "code",
   "execution_count": 8,
   "metadata": {},
   "outputs": [
    {
     "data": {
      "text/html": [
       "<div>\n",
       "<style scoped>\n",
       "    .dataframe tbody tr th:only-of-type {\n",
       "        vertical-align: middle;\n",
       "    }\n",
       "\n",
       "    .dataframe tbody tr th {\n",
       "        vertical-align: top;\n",
       "    }\n",
       "\n",
       "    .dataframe thead th {\n",
       "        text-align: right;\n",
       "    }\n",
       "</style>\n",
       "<table border=\"1\" class=\"dataframe\">\n",
       "  <thead>\n",
       "    <tr style=\"text-align: right;\">\n",
       "      <th></th>\n",
       "      <th>Brand</th>\n",
       "      <th>Model</th>\n",
       "      <th>Cylinders</th>\n",
       "      <th>MPG</th>\n",
       "    </tr>\n",
       "  </thead>\n",
       "  <tbody>\n",
       "    <tr>\n",
       "      <th>232</th>\n",
       "      <td>Chevrolet</td>\n",
       "      <td>CAMARO</td>\n",
       "      <td>4.0</td>\n",
       "      <td>25.0</td>\n",
       "    </tr>\n",
       "    <tr>\n",
       "      <th>233</th>\n",
       "      <td>Chevrolet</td>\n",
       "      <td>COLORADO 2WD</td>\n",
       "      <td>4.0</td>\n",
       "      <td>22.0</td>\n",
       "    </tr>\n",
       "    <tr>\n",
       "      <th>237</th>\n",
       "      <td>Chevrolet</td>\n",
       "      <td>EQUINOX AWD</td>\n",
       "      <td>4.0</td>\n",
       "      <td>27.0</td>\n",
       "    </tr>\n",
       "  </tbody>\n",
       "</table>\n",
       "</div>"
      ],
      "text/plain": [
       "         Brand         Model  Cylinders   MPG\n",
       "232  Chevrolet        CAMARO        4.0  25.0\n",
       "233  Chevrolet  COLORADO 2WD        4.0  22.0\n",
       "237  Chevrolet   EQUINOX AWD        4.0  27.0"
      ]
     },
     "execution_count": 8,
     "metadata": {},
     "output_type": "execute_result"
    }
   ],
   "source": [
    "gm.where(gm['Brand'] == 'Chevrolet').dropna()"
   ]
  },
  {
   "cell_type": "code",
   "execution_count": 9,
   "metadata": {
    "scrolled": true
   },
   "outputs": [
    {
     "name": "stdout",
     "output_type": "stream",
     "text": [
      "mean of Cylinders:  4.0\n",
      "mean of MPG:  24.666666666666668\n"
     ]
    }
   ],
   "source": [
    "print('mean of Cylinders: ', gm.where(gm['Brand'] == 'Chevrolet')['Cylinders'].mean())\n",
    "print('mean of MPG: ', gm.where(gm['Brand'] == 'Chevrolet')['MPG'].mean())"
   ]
  },
  {
   "cell_type": "code",
   "execution_count": 10,
   "metadata": {},
   "outputs": [
    {
     "data": {
      "text/html": [
       "<div>\n",
       "<style scoped>\n",
       "    .dataframe tbody tr th:only-of-type {\n",
       "        vertical-align: middle;\n",
       "    }\n",
       "\n",
       "    .dataframe tbody tr th {\n",
       "        vertical-align: top;\n",
       "    }\n",
       "\n",
       "    .dataframe thead th {\n",
       "        text-align: right;\n",
       "    }\n",
       "</style>\n",
       "<table border=\"1\" class=\"dataframe\">\n",
       "  <thead>\n",
       "    <tr style=\"text-align: right;\">\n",
       "      <th></th>\n",
       "      <th>Brand</th>\n",
       "      <th>Model</th>\n",
       "      <th>Cylinders</th>\n",
       "      <th>MPG</th>\n",
       "    </tr>\n",
       "  </thead>\n",
       "  <tbody>\n",
       "    <tr>\n",
       "      <th>271</th>\n",
       "      <td>GMC</td>\n",
       "      <td>YUKON XL 4WD</td>\n",
       "      <td>6.0</td>\n",
       "      <td>22.0</td>\n",
       "    </tr>\n",
       "  </tbody>\n",
       "</table>\n",
       "</div>"
      ],
      "text/plain": [
       "    Brand         Model  Cylinders   MPG\n",
       "271   GMC  YUKON XL 4WD        6.0  22.0"
      ]
     },
     "execution_count": 10,
     "metadata": {},
     "output_type": "execute_result"
    }
   ],
   "source": [
    "gm.where(gm['Brand'] == 'GMC').dropna()"
   ]
  },
  {
   "cell_type": "code",
   "execution_count": 11,
   "metadata": {
    "scrolled": true
   },
   "outputs": [
    {
     "name": "stdout",
     "output_type": "stream",
     "text": [
      "mean of Cylinders:  6.0\n",
      "mean of MPG:  22.0\n"
     ]
    }
   ],
   "source": [
    "print('mean of Cylinders: ', gm.where(gm['Brand'] == 'GMC')['Cylinders'].mean())\n",
    "print('mean of MPG: ', gm.where(gm['Brand'] == 'GMC')['MPG'].mean())"
   ]
  },
  {
   "cell_type": "markdown",
   "metadata": {},
   "source": [
    "If you want a more concise way of doing the above:"
   ]
  },
  {
   "cell_type": "markdown",
   "metadata": {},
   "source": [
    "What if we use other `collect` functions?"
   ]
  },
  {
   "cell_type": "code",
   "execution_count": 12,
   "metadata": {},
   "outputs": [
    {
     "data": {
      "text/html": [
       "<div>\n",
       "<style scoped>\n",
       "    .dataframe tbody tr th:only-of-type {\n",
       "        vertical-align: middle;\n",
       "    }\n",
       "\n",
       "    .dataframe tbody tr th {\n",
       "        vertical-align: top;\n",
       "    }\n",
       "\n",
       "    .dataframe thead th {\n",
       "        text-align: right;\n",
       "    }\n",
       "</style>\n",
       "<table border=\"1\" class=\"dataframe\">\n",
       "  <thead>\n",
       "    <tr style=\"text-align: right;\">\n",
       "      <th></th>\n",
       "      <th>Brand</th>\n",
       "      <th>Model</th>\n",
       "      <th>Cylinders</th>\n",
       "      <th>MPG</th>\n",
       "    </tr>\n",
       "  </thead>\n",
       "  <tbody>\n",
       "    <tr>\n",
       "      <th>203</th>\n",
       "      <td>Buick</td>\n",
       "      <td>ENCLAVE FWD</td>\n",
       "      <td>6</td>\n",
       "      <td>21</td>\n",
       "    </tr>\n",
       "    <tr>\n",
       "      <th>211</th>\n",
       "      <td>Cadillac</td>\n",
       "      <td>CT4 AWD</td>\n",
       "      <td>4</td>\n",
       "      <td>26</td>\n",
       "    </tr>\n",
       "    <tr>\n",
       "      <th>222</th>\n",
       "      <td>Cadillac</td>\n",
       "      <td>XT5 AWD</td>\n",
       "      <td>4</td>\n",
       "      <td>23</td>\n",
       "    </tr>\n",
       "    <tr>\n",
       "      <th>271</th>\n",
       "      <td>GMC</td>\n",
       "      <td>YUKON XL 4WD</td>\n",
       "      <td>6</td>\n",
       "      <td>22</td>\n",
       "    </tr>\n",
       "    <tr>\n",
       "      <th>232</th>\n",
       "      <td>Chevrolet</td>\n",
       "      <td>CAMARO</td>\n",
       "      <td>4</td>\n",
       "      <td>25</td>\n",
       "    </tr>\n",
       "  </tbody>\n",
       "</table>\n",
       "</div>"
      ],
      "text/plain": [
       "         Brand         Model  Cylinders  MPG\n",
       "203      Buick   ENCLAVE FWD          6   21\n",
       "211   Cadillac       CT4 AWD          4   26\n",
       "222   Cadillac       XT5 AWD          4   23\n",
       "271        GMC  YUKON XL 4WD          6   22\n",
       "232  Chevrolet        CAMARO          4   25"
      ]
     },
     "execution_count": 12,
     "metadata": {},
     "output_type": "execute_result"
    }
   ],
   "source": [
    "gm.head()"
   ]
  },
  {
   "cell_type": "code",
   "execution_count": 13,
   "metadata": {},
   "outputs": [
    {
     "data": {
      "text/html": [
       "<div>\n",
       "<style scoped>\n",
       "    .dataframe tbody tr th:only-of-type {\n",
       "        vertical-align: middle;\n",
       "    }\n",
       "\n",
       "    .dataframe tbody tr th {\n",
       "        vertical-align: top;\n",
       "    }\n",
       "\n",
       "    .dataframe thead th {\n",
       "        text-align: right;\n",
       "    }\n",
       "</style>\n",
       "<table border=\"1\" class=\"dataframe\">\n",
       "  <thead>\n",
       "    <tr style=\"text-align: right;\">\n",
       "      <th></th>\n",
       "      <th>Model</th>\n",
       "      <th>Cylinders</th>\n",
       "      <th>MPG</th>\n",
       "    </tr>\n",
       "    <tr>\n",
       "      <th>Brand</th>\n",
       "      <th></th>\n",
       "      <th></th>\n",
       "      <th></th>\n",
       "    </tr>\n",
       "  </thead>\n",
       "  <tbody>\n",
       "    <tr>\n",
       "      <th>Buick</th>\n",
       "      <td>ENCLAVE FWDENCLAVE AWD</td>\n",
       "      <td>12</td>\n",
       "      <td>41</td>\n",
       "    </tr>\n",
       "    <tr>\n",
       "      <th>Cadillac</th>\n",
       "      <td>CT4 AWDXT5 AWDESCALADE 2WD</td>\n",
       "      <td>14</td>\n",
       "      <td>72</td>\n",
       "    </tr>\n",
       "    <tr>\n",
       "      <th>Chevrolet</th>\n",
       "      <td>CAMAROCOLORADO 2WDEQUINOX AWD</td>\n",
       "      <td>12</td>\n",
       "      <td>74</td>\n",
       "    </tr>\n",
       "    <tr>\n",
       "      <th>GMC</th>\n",
       "      <td>YUKON XL 4WD</td>\n",
       "      <td>6</td>\n",
       "      <td>22</td>\n",
       "    </tr>\n",
       "  </tbody>\n",
       "</table>\n",
       "</div>"
      ],
      "text/plain": [
       "                                   Model  Cylinders  MPG\n",
       "Brand                                                   \n",
       "Buick             ENCLAVE FWDENCLAVE AWD         12   41\n",
       "Cadillac      CT4 AWDXT5 AWDESCALADE 2WD         14   72\n",
       "Chevrolet  CAMAROCOLORADO 2WDEQUINOX AWD         12   74\n",
       "GMC                         YUKON XL 4WD          6   22"
      ]
     },
     "execution_count": 13,
     "metadata": {},
     "output_type": "execute_result"
    }
   ],
   "source": [
    "gm.groupby('Brand').sum()"
   ]
  },
  {
   "cell_type": "code",
   "execution_count": 14,
   "metadata": {},
   "outputs": [
    {
     "data": {
      "text/html": [
       "<div>\n",
       "<style scoped>\n",
       "    .dataframe tbody tr th:only-of-type {\n",
       "        vertical-align: middle;\n",
       "    }\n",
       "\n",
       "    .dataframe tbody tr th {\n",
       "        vertical-align: top;\n",
       "    }\n",
       "\n",
       "    .dataframe thead th {\n",
       "        text-align: right;\n",
       "    }\n",
       "</style>\n",
       "<table border=\"1\" class=\"dataframe\">\n",
       "  <thead>\n",
       "    <tr style=\"text-align: right;\">\n",
       "      <th></th>\n",
       "      <th>Model</th>\n",
       "      <th>Cylinders</th>\n",
       "      <th>MPG</th>\n",
       "    </tr>\n",
       "    <tr>\n",
       "      <th>Brand</th>\n",
       "      <th></th>\n",
       "      <th></th>\n",
       "      <th></th>\n",
       "    </tr>\n",
       "  </thead>\n",
       "  <tbody>\n",
       "    <tr>\n",
       "      <th>Buick</th>\n",
       "      <td>[ENCLAVE FWD, ENCLAVE AWD]</td>\n",
       "      <td>[6, 6]</td>\n",
       "      <td>[21, 20]</td>\n",
       "    </tr>\n",
       "    <tr>\n",
       "      <th>Cadillac</th>\n",
       "      <td>[CT4 AWD, XT5 AWD, ESCALADE 2WD]</td>\n",
       "      <td>[4, 4, 6]</td>\n",
       "      <td>[26, 23, 23]</td>\n",
       "    </tr>\n",
       "    <tr>\n",
       "      <th>Chevrolet</th>\n",
       "      <td>[CAMARO, COLORADO 2WD, EQUINOX AWD]</td>\n",
       "      <td>[4, 4, 4]</td>\n",
       "      <td>[25, 22, 27]</td>\n",
       "    </tr>\n",
       "    <tr>\n",
       "      <th>GMC</th>\n",
       "      <td>[YUKON XL 4WD]</td>\n",
       "      <td>[6]</td>\n",
       "      <td>[22]</td>\n",
       "    </tr>\n",
       "  </tbody>\n",
       "</table>\n",
       "</div>"
      ],
      "text/plain": [
       "                                         Model  Cylinders           MPG\n",
       "Brand                                                                  \n",
       "Buick               [ENCLAVE FWD, ENCLAVE AWD]     [6, 6]      [21, 20]\n",
       "Cadillac      [CT4 AWD, XT5 AWD, ESCALADE 2WD]  [4, 4, 6]  [26, 23, 23]\n",
       "Chevrolet  [CAMARO, COLORADO 2WD, EQUINOX AWD]  [4, 4, 4]  [25, 22, 27]\n",
       "GMC                             [YUKON XL 4WD]        [6]          [22]"
      ]
     },
     "execution_count": 14,
     "metadata": {},
     "output_type": "execute_result"
    }
   ],
   "source": [
    "gm.groupby('Brand').aggregate(list)"
   ]
  },
  {
   "cell_type": "code",
   "execution_count": 15,
   "metadata": {
    "scrolled": true
   },
   "outputs": [
    {
     "data": {
      "text/html": [
       "<div>\n",
       "<style scoped>\n",
       "    .dataframe tbody tr th:only-of-type {\n",
       "        vertical-align: middle;\n",
       "    }\n",
       "\n",
       "    .dataframe tbody tr th {\n",
       "        vertical-align: top;\n",
       "    }\n",
       "\n",
       "    .dataframe thead th {\n",
       "        text-align: right;\n",
       "    }\n",
       "</style>\n",
       "<table border=\"1\" class=\"dataframe\">\n",
       "  <thead>\n",
       "    <tr style=\"text-align: right;\">\n",
       "      <th></th>\n",
       "      <th>Model</th>\n",
       "      <th>Cylinders</th>\n",
       "      <th>MPG</th>\n",
       "    </tr>\n",
       "    <tr>\n",
       "      <th>Brand</th>\n",
       "      <th></th>\n",
       "      <th></th>\n",
       "      <th></th>\n",
       "    </tr>\n",
       "  </thead>\n",
       "  <tbody>\n",
       "    <tr>\n",
       "      <th>Buick</th>\n",
       "      <td>2</td>\n",
       "      <td>2</td>\n",
       "      <td>2</td>\n",
       "    </tr>\n",
       "    <tr>\n",
       "      <th>Cadillac</th>\n",
       "      <td>3</td>\n",
       "      <td>3</td>\n",
       "      <td>3</td>\n",
       "    </tr>\n",
       "    <tr>\n",
       "      <th>Chevrolet</th>\n",
       "      <td>3</td>\n",
       "      <td>3</td>\n",
       "      <td>3</td>\n",
       "    </tr>\n",
       "    <tr>\n",
       "      <th>GMC</th>\n",
       "      <td>1</td>\n",
       "      <td>1</td>\n",
       "      <td>1</td>\n",
       "    </tr>\n",
       "  </tbody>\n",
       "</table>\n",
       "</div>"
      ],
      "text/plain": [
       "           Model  Cylinders  MPG\n",
       "Brand                           \n",
       "Buick          2          2    2\n",
       "Cadillac       3          3    3\n",
       "Chevrolet      3          3    3\n",
       "GMC            1          1    1"
      ]
     },
     "execution_count": 15,
     "metadata": {},
     "output_type": "execute_result"
    }
   ],
   "source": [
    "gm.groupby('Brand').agg(len)"
   ]
  },
  {
   "cell_type": "code",
   "execution_count": 19,
   "metadata": {
    "scrolled": true
   },
   "outputs": [
    {
     "data": {
      "text/html": [
       "<div>\n",
       "<style scoped>\n",
       "    .dataframe tbody tr th:only-of-type {\n",
       "        vertical-align: middle;\n",
       "    }\n",
       "\n",
       "    .dataframe tbody tr th {\n",
       "        vertical-align: top;\n",
       "    }\n",
       "\n",
       "    .dataframe thead th {\n",
       "        text-align: right;\n",
       "    }\n",
       "</style>\n",
       "<table border=\"1\" class=\"dataframe\">\n",
       "  <thead>\n",
       "    <tr style=\"text-align: right;\">\n",
       "      <th></th>\n",
       "      <th>Model</th>\n",
       "      <th>Cylinders</th>\n",
       "      <th>MPG</th>\n",
       "    </tr>\n",
       "    <tr>\n",
       "      <th>Brand</th>\n",
       "      <th></th>\n",
       "      <th></th>\n",
       "      <th></th>\n",
       "    </tr>\n",
       "  </thead>\n",
       "  <tbody>\n",
       "    <tr>\n",
       "      <th>Buick</th>\n",
       "      <td>ENCLAVE FWD</td>\n",
       "      <td>6</td>\n",
       "      <td>21</td>\n",
       "    </tr>\n",
       "    <tr>\n",
       "      <th>Cadillac</th>\n",
       "      <td>XT5 AWD</td>\n",
       "      <td>6</td>\n",
       "      <td>26</td>\n",
       "    </tr>\n",
       "    <tr>\n",
       "      <th>Chevrolet</th>\n",
       "      <td>EQUINOX AWD</td>\n",
       "      <td>4</td>\n",
       "      <td>27</td>\n",
       "    </tr>\n",
       "    <tr>\n",
       "      <th>GMC</th>\n",
       "      <td>YUKON XL 4WD</td>\n",
       "      <td>6</td>\n",
       "      <td>22</td>\n",
       "    </tr>\n",
       "  </tbody>\n",
       "</table>\n",
       "</div>"
      ],
      "text/plain": [
       "                  Model  Cylinders  MPG\n",
       "Brand                                  \n",
       "Buick       ENCLAVE FWD          6   21\n",
       "Cadillac        XT5 AWD          6   26\n",
       "Chevrolet   EQUINOX AWD          4   27\n",
       "GMC        YUKON XL 4WD          6   22"
      ]
     },
     "execution_count": 19,
     "metadata": {},
     "output_type": "execute_result"
    }
   ],
   "source": [
    "gm.groupby('Brand').max()"
   ]
  },
  {
   "cell_type": "markdown",
   "metadata": {},
   "source": [
    "### Grouping by Multiple Columns"
   ]
  },
  {
   "cell_type": "markdown",
   "metadata": {},
   "source": [
    "We can also group by unique combinations of multiple variables. Passing in an array of column names as the first argument in `.groupby` will create a row for each unique combination of column values in the original table."
   ]
  },
  {
   "cell_type": "code",
   "execution_count": null,
   "metadata": {},
   "outputs": [],
   "source": [
    "cars.head()"
   ]
  },
  {
   "cell_type": "code",
   "execution_count": null,
   "metadata": {},
   "outputs": [],
   "source": [
    "... # Group `cars` by Manufacturer and Brand and plot the mean"
   ]
  },
  {
   "cell_type": "code",
   "execution_count": null,
   "metadata": {},
   "outputs": [],
   "source": [
    "... # Group `cars` by Brand, and Cylinders"
   ]
  },
  {
   "cell_type": "code",
   "execution_count": null,
   "metadata": {},
   "outputs": [],
   "source": [
    "... # Group `cars` by Manufacturer, Brand, and Displacement"
   ]
  },
  {
   "cell_type": "markdown",
   "metadata": {},
   "source": [
    "## Demo: US R1 Universities"
   ]
  },
  {
   "cell_type": "markdown",
   "metadata": {},
   "source": [
    "For our demo, we will be using a dataset of [R1 universities](https://en.wikipedia.org/wiki/List_of_research_universities_in_the_United_States) in the US."
   ]
  },
  {
   "cell_type": "code",
   "execution_count": 17,
   "metadata": {},
   "outputs": [
    {
     "data": {
      "text/html": [
       "<div>\n",
       "<style scoped>\n",
       "    .dataframe tbody tr th:only-of-type {\n",
       "        vertical-align: middle;\n",
       "    }\n",
       "\n",
       "    .dataframe tbody tr th {\n",
       "        vertical-align: top;\n",
       "    }\n",
       "\n",
       "    .dataframe thead th {\n",
       "        text-align: right;\n",
       "    }\n",
       "</style>\n",
       "<table border=\"1\" class=\"dataframe\">\n",
       "  <thead>\n",
       "    <tr style=\"text-align: right;\">\n",
       "      <th></th>\n",
       "      <th>University</th>\n",
       "      <th>Number_students</th>\n",
       "      <th>Score_Result</th>\n",
       "      <th>Type</th>\n",
       "      <th>City</th>\n",
       "      <th>State</th>\n",
       "    </tr>\n",
       "  </thead>\n",
       "  <tbody>\n",
       "    <tr>\n",
       "      <th>0</th>\n",
       "      <td>Auburn University</td>\n",
       "      <td>26641</td>\n",
       "      <td>33.4</td>\n",
       "      <td>Public</td>\n",
       "      <td>Auburn</td>\n",
       "      <td>AL</td>\n",
       "    </tr>\n",
       "    <tr>\n",
       "      <th>1</th>\n",
       "      <td>Boston College</td>\n",
       "      <td>12904</td>\n",
       "      <td>45.9</td>\n",
       "      <td>Private (non-profit)</td>\n",
       "      <td>Chestnut Hill</td>\n",
       "      <td>MA</td>\n",
       "    </tr>\n",
       "    <tr>\n",
       "      <th>2</th>\n",
       "      <td>Boston University</td>\n",
       "      <td>25662</td>\n",
       "      <td>68.4</td>\n",
       "      <td>Private (non-profit)</td>\n",
       "      <td>Boston</td>\n",
       "      <td>MA</td>\n",
       "    </tr>\n",
       "    <tr>\n",
       "      <th>3</th>\n",
       "      <td>Brandeis University</td>\n",
       "      <td>5375</td>\n",
       "      <td>50.3</td>\n",
       "      <td>Private (non-profit)</td>\n",
       "      <td>Waltham</td>\n",
       "      <td>MA</td>\n",
       "    </tr>\n",
       "    <tr>\n",
       "      <th>4</th>\n",
       "      <td>Brown University</td>\n",
       "      <td>9391</td>\n",
       "      <td>70.0</td>\n",
       "      <td>Private (non-profit)</td>\n",
       "      <td>Providence</td>\n",
       "      <td>RI</td>\n",
       "    </tr>\n",
       "  </tbody>\n",
       "</table>\n",
       "</div>"
      ],
      "text/plain": [
       "            University  Number_students  Score_Result                  Type  \\\n",
       "0    Auburn University            26641          33.4                Public   \n",
       "1       Boston College            12904          45.9  Private (non-profit)   \n",
       "2    Boston University            25662          68.4  Private (non-profit)   \n",
       "3  Brandeis University             5375          50.3  Private (non-profit)   \n",
       "4     Brown University             9391          70.0  Private (non-profit)   \n",
       "\n",
       "            City State  \n",
       "0         Auburn    AL  \n",
       "1  Chestnut Hill    MA  \n",
       "2         Boston    MA  \n",
       "3        Waltham    MA  \n",
       "4     Providence    RI  "
      ]
     },
     "execution_count": 17,
     "metadata": {},
     "output_type": "execute_result"
    }
   ],
   "source": [
    "unis = pd.read_csv(\"data/r1_with_students.csv\")\n",
    "unis.head()"
   ]
  },
  {
   "cell_type": "markdown",
   "metadata": {},
   "source": [
    "If we wanted to visualize information from this table, we could try to plot all 96 universities on one bar chart, but that isn't ideal..."
   ]
  },
  {
   "cell_type": "code",
   "execution_count": 18,
   "metadata": {},
   "outputs": [
    {
     "data": {
      "text/plain": [
       "<Axes: ylabel='University'>"
      ]
     },
     "execution_count": 18,
     "metadata": {},
     "output_type": "execute_result"
    },
    {
     "data": {
      "image/png": "[encoded data removed]",
      "text/plain": [
       "<Figure size 640x480 with 1 Axes>"
      ]
     },
     "metadata": {},
     "output_type": "display_data"
    }
   ],
   "source": [
    "unis.sort_values('Number_students').head(15).plot.barh('University', 'Number_students')"
   ]
  },
  {
   "cell_type": "markdown",
   "metadata": {},
   "source": [
    "Instead, let's group by state and find the average enrollment in each state."
   ]
  },
  {
   "cell_type": "code",
   "execution_count": null,
   "metadata": {},
   "outputs": [],
   "source": [
    "# group unis by State and calculate the avg number of students, and then plot the top 10 using barh"
   ]
  },
  {
   "cell_type": "code",
   "execution_count": null,
   "metadata": {},
   "outputs": [],
   "source": []
  }
 ],
 "metadata": {
  "celltoolbar": "Tags",
  "kernelspec": {
   "display_name": "Python 3 (ipykernel)",
   "language": "python",
   "name": "python3"
  },
  "language_info": {
   "codemirror_mode": {
    "name": "ipython",
    "version": 3
   },
   "file_extension": ".py",
   "mimetype": "text/x-python",
   "name": "python",
   "nbconvert_exporter": "python",
   "pygments_lexer": "ipython3",
   "version": "3.11.8"
  }
 },
 "nbformat": 4,
 "nbformat_minor": 4
}
