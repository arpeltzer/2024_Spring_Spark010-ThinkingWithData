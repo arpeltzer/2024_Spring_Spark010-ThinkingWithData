{
 "cells": [
  {
   "cell_type": "markdown",
   "metadata": {},
   "source": [
    "# Lecture 2 – Spark 010, Spring 2024\n",
    "## Jupyter Notebooks and Arithmetic\n",
    "### Monday, Jan 22$^{nd}$, 2024"
   ]
  },
  {
   "cell_type": "markdown",
   "metadata": {},
   "source": [
    "Welcome to the notebook session of Spark 010!\n",
    "\n",
    "First and foremost, labs are designed to complement homework assignments. While labs are submitted or graded, we encourage you to work through all questions carefully to familiarize yourself with key programming concepts that you will use later on in your homeworks. Remember, you learn data science by **_doing_** data science!\n",
    "\n",
    "The goals of today's section:\n",
    "* Access all of the technology we'll be using in this class;\n",
    "* Familiarize yourself with the Jupyter Notebook environment;\n",
    "* Use arithmetic operators in Python\n"
   ]
  },
  {
   "cell_type": "markdown",
   "metadata": {},
   "source": [
    "<hr style=\"border: 5px solid #003262;\" />\n",
    "<hr style=\"border: 1px solid #fdb515;\" />"
   ]
  },
  {
   "cell_type": "markdown",
   "metadata": {},
   "source": [
    "# Cells\n",
    "\n",
    "**Not these!** &rarr;\n",
    "\n",
    "<div align=center>\n",
    "    \n",
    "<img src='images/cell_graphic.jpeg' width=200>\n",
    "   \n",
    "</div>\n",
    "\n",
    "<br>\n",
    "\n",
    "Jupyter Notebooks are made up of cells. There are two types of cells in a Jupyter Notebook: code cells and [Markdown](https://www.markdownguide.org/getting-started/) cells. \n",
    "- Code cells are where we write our Python code.\n",
    "- Markdown cells allow us to write text, like the text you're reading right now. In Homework 1, you'll get a chance to learn a bit of Markdown.\n",
    "\n",
    "## Code cells\n",
    "\n",
    "Running a code cell will execute all of the code it contains.  Any output produced by the code will appear below the cell. Notice the `In:` and `Out:` statements to the left of the cells, followed by a number. That number designates the order in which the cell was run. For example, the number `[3]` next to a cell would indicate that this cell is the third cell that has been run in the notebook so far, or that this is the third time you've run this cell if you've re-run the cell multiple times.\n",
    "\n",
    "To run the code in a code cell, first click on that cell to activate it.  It'll be highlighted with a little green or blue rectangle. Next, do one of the following:\n",
    "* **Keyboard shortcut**: Hold down the `Shift` key and press `Return` or `Enter`.\n",
    "* **Button click**: Click the \"Run\" button in the cell toolbar above.\n",
    "\n",
    "While the above two options give no difference in computer runtime performance, it's useful to internalize some common keyboard shortcuts early in your Jupyter experience (think of it like learning \"Ctrl-C\" or \"Command-C\" to copy instead of \"Right click -> Copy to Clipboard\"). While they're not required for this course, keyboard shortuts will greatly improve your quality of life when programming Python (just trust us on this).\n",
    "\n",
    "\n",
    "We can use code cells to do arithmetic in Python. Try running the code cells below:"
   ]
  },
  {
   "cell_type": "code",
   "execution_count": null,
   "metadata": {},
   "outputs": [],
   "source": [
    "-17"
   ]
  },
  {
   "cell_type": "code",
   "execution_count": null,
   "metadata": {},
   "outputs": [],
   "source": [
    "-1 + 3.14"
   ]
  },
  {
   "cell_type": "code",
   "execution_count": null,
   "metadata": {},
   "outputs": [],
   "source": [
    "2 ** 3"
   ]
  },
  {
   "cell_type": "code",
   "execution_count": null,
   "metadata": {},
   "outputs": [],
   "source": [
    "(17 - 14) / 2"
   ]
  },
  {
   "cell_type": "code",
   "execution_count": null,
   "metadata": {},
   "outputs": [],
   "source": [
    "15 % 2"
   ]
  },
  {
   "cell_type": "code",
   "execution_count": null,
   "metadata": {},
   "outputs": [],
   "source": [
    "60 / 2 * 3 # Evaluates to 90.0 (this is a comment)"
   ]
  },
  {
   "cell_type": "markdown",
   "metadata": {},
   "source": [
    "The order of evaluation is what you might expect: parentheses, then exponentiation, then multiplication and division, then addition and subtraction; from left to right. "
   ]
  },
  {
   "cell_type": "code",
   "execution_count": null,
   "metadata": {},
   "outputs": [],
   "source": [
    "60 / (2 * 3) # Evaluates to 60.0"
   ]
  },
  {
   "cell_type": "code",
   "execution_count": null,
   "metadata": {},
   "outputs": [],
   "source": [
    "60 / (2 * 4) # Evaluates to 7.5"
   ]
  },
  {
   "cell_type": "code",
   "execution_count": null,
   "metadata": {},
   "outputs": [],
   "source": [
    "3 + 4 ** 2"
   ]
  },
  {
   "cell_type": "code",
   "execution_count": null,
   "metadata": {},
   "outputs": [],
   "source": [
    "2 *(3 + 10)"
   ]
  },
  {
   "cell_type": "code",
   "execution_count": null,
   "metadata": {},
   "outputs": [],
   "source": [
    "# What does this expression evaluate to?\n",
    "(7 - 5) * 2**10 - 3 * 8 + 6 - 8 "
   ]
  },
  {
   "cell_type": "markdown",
   "metadata": {},
   "source": [
    "You can use parentheses to modify the typical order of evaluation. **How would the above output change, if you removed the parentheses?**"
   ]
  },
  {
   "cell_type": "code",
   "execution_count": null,
   "metadata": {},
   "outputs": [],
   "source": [
    "4 ** 2\n",
    "1 + 2 + 4 + 8 + 16 + 32 + 64"
   ]
  },
  {
   "cell_type": "markdown",
   "metadata": {},
   "source": [
    "<br/>\n",
    "\n",
    "---\n",
    "\n",
    "## Markdown Cells"
   ]
  },
  {
   "cell_type": "markdown",
   "metadata": {},
   "source": [
    "This is a markdown cell. You can edit me with text by double-clicking me."
   ]
  },
  {
   "cell_type": "markdown",
   "metadata": {},
   "source": [
    "You can do cool things with markdown cells, like add `formatting` or images:\n",
    "<img src=\"images/rufus.jpeg\" style=\"width: 30%\">"
   ]
  },
  {
   "cell_type": "markdown",
   "metadata": {},
   "source": [
    "\n",
    "To edit an existing Markdown cell, double click it and change whatever you want. To *render* (display) it, you can \"run\" it like you'd run a code cell.\n",
    "\n",
    "**Edit the following cell to contain your favorite color.**\n",
    "\n",
    "*Note:* This is how questions will be formatted in your homework assignments."
   ]
  },
  {
   "cell_type": "code",
   "execution_count": null,
   "metadata": {},
   "outputs": [],
   "source": []
  },
  {
   "cell_type": "markdown",
   "metadata": {},
   "source": [
    "Put your answer down below\n",
    "...\n"
   ]
  },
  {
   "cell_type": "code",
   "execution_count": null,
   "metadata": {},
   "outputs": [],
   "source": []
  },
  {
   "cell_type": "markdown",
   "metadata": {},
   "source": [
    "---\n",
    "\n",
    "## Converting cells\n",
    "\n",
    "To convert a cell from code to Markdown (or vice versa), you should use the dropdown menu in the cell toolbar. For instance, to convert the following cell from Markdown to code, you should:\n",
    "1. Click the cell.\n",
    "2. Click \"Markdown\" in the cell toolbar, and change it to \"Code.\"\n",
    "\n",
    "Your cell toolbar should then look like this:\n",
    "\n",
    "<img src=\"images/code-celltoolbar.png\" width=\"50%\"/>\n",
    "\n",
    "**Change the following cell from a Markdown cell to a code cell**, and run it by pressing the \"Run\" button or using the keyboard shortcut `Shift + Enter`."
   ]
  },
  {
   "cell_type": "markdown",
   "metadata": {},
   "source": [
    "3 + 4 + 5  # Change this to a code cell"
   ]
  },
  {
   "cell_type": "code",
   "execution_count": null,
   "metadata": {},
   "outputs": [],
   "source": [
    "Change this from a code cell to a _markdown_ cell"
   ]
  },
  {
   "cell_type": "markdown",
   "metadata": {},
   "source": [
    "---\n",
    "\n",
    "## Adding and deleting cells\n",
    "\n",
    "To add cells, you can go to \"Insert\" in the toolbar at the top, then click \"Insert cell Above\" or \"Insert cell Below.\" To delete cells, you can go to \"Edit\" in the toolbar at the top and click \"Delete cells\". (Be very careful when deleting a cell.)\n",
    "\n",
    "For your convenience, we provide this screenshot that details how to switch between \"Edit mode\" and \"Command mode\", which is relevant if you want to learn keyboard shortcuts. Again, keyboard shortcuts are not required for this course, but learning some now will greatly improve your programming quality of life.\n",
    "\n",
    "<img src='images/edit-mode.png' width=400>\n",
    "\n",
    "Some useful keyboard shortcuts:\n",
    "\n",
    "| Action | Mode | Keyboard shortcut |\n",
    "| :--- | :--- | :---\n",
    "| Run cell + jump to next cell | Either (puts you in edit mode) | `SHIFT + ENTER` |\n",
    "| Save notebook | Either | `CTRL/CMD + S` |\n",
    "| Switch to command mode | Either (puts you in command mode) | `ESCAPE` |\n",
    "| Switch to edit mode | Command | `ENTER` | \n",
    "| Comment out the current line | Edit | `CTRL/CMD + /` |\n",
    "| Create new cell above/below | Command |  `A/B` |\n",
    "| Delete cell | Command | `DD` |\n",
    "| Convert cell to Markdown | Command | `M` |\n",
    "| Convert cell to code | Command | `Y` |\n",
    "| Show all shortcuts | Command |  `H` |\n",
    "\n",
    "\n",
    "## Insert Cell\n",
    "\n",
    "**Add a Markdown cell below this one, and in it write your middle name, or write \"I don't have a middle name\".**"
   ]
  },
  {
   "cell_type": "code",
   "execution_count": null,
   "metadata": {},
   "outputs": [],
   "source": [
    "# The cell you create should be above this one!"
   ]
  },
  {
   "cell_type": "markdown",
   "metadata": {},
   "source": [
    "## Delete Cell\n",
    "\n",
    "Delete the cell below."
   ]
  },
  {
   "cell_type": "code",
   "execution_count": null,
   "metadata": {},
   "outputs": [],
   "source": [
    "# This should be deleted!"
   ]
  },
  {
   "cell_type": "raw",
   "metadata": {},
   "source": []
  },
  {
   "cell_type": "markdown",
   "metadata": {},
   "source": [
    "## Submission\n",
    "\n",
    "Make sure you have run all cells in your notebook in order before running the cell below, so that all images/graphs appear in the output. **Please create a PDF using File->Save and Export Notebook as->PDF**"
   ]
  }
 ],
 "metadata": {
  "kernelspec": {
   "display_name": "Python 3 (ipykernel)",
   "language": "python",
   "name": "python3"
  },
  "language_info": {
   "codemirror_mode": {
    "name": "ipython",
    "version": 3
   },
   "file_extension": ".py",
   "mimetype": "text/x-python",
   "name": "python",
   "nbconvert_exporter": "python",
   "pygments_lexer": "ipython3",
   "version": "3.11.4"
  }
 },
 "nbformat": 4,
 "nbformat_minor": 4
}
