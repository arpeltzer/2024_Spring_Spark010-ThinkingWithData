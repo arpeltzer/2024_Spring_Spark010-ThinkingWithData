{
 "cells": [
  {
   "cell_type": "markdown",
   "id": "1a79326b-33a8-47e7-960d-6c998ebaac97",
   "metadata": {},
   "source": [
    "# Lecture 12 – Visualizing Numerical Variables\n",
    "\n",
    "### Spark 010, Spring 2024"
   ]
  },
  {
   "cell_type": "markdown",
   "id": "d81639c6-6eb7-4a75-959f-8d4fd1e056d3",
   "metadata": {},
   "source": [
    "On Monday we looked at making Bar Charts for Categorical Variables. \n",
    "\n",
    "Today we will look at making Histograms for Numerical Variables."
   ]
  },
  {
   "cell_type": "markdown",
   "id": "60020f2d",
   "metadata": {},
   "source": [
    "### Numerical Distributions."
   ]
  },
  {
   "cell_type": "markdown",
   "id": "6a51b2df-42c9-41c6-aa2c-8b423d1a92bb",
   "metadata": {},
   "source": [
    "As always, we'll start by importing the requisite packages."
   ]
  },
  {
   "cell_type": "code",
   "execution_count": 1,
   "id": "6f101488-f10e-42c7-a2fc-708b6a593440",
   "metadata": {},
   "outputs": [],
   "source": [
    "import pandas as pd\n",
    "import numpy as np\n",
    "import seaborn as sns\n",
    "import matplotlib.pyplot as plt"
   ]
  },
  {
   "cell_type": "markdown",
   "id": "8ca39fdd",
   "metadata": {},
   "source": [
    "Notice this list includes seaborn which we haven't used too much but which does have a bunch of helpful built-in data sets for us to play around with. \n",
    "\n",
    "Here's a full list of sets from seaborn:"
   ]
  },
  {
   "cell_type": "code",
   "execution_count": 2,
   "id": "629f7508-6e82-4641-bf7d-12411e7560b7",
   "metadata": {},
   "outputs": [
    {
     "data": {
      "text/plain": [
       "['anagrams',\n",
       " 'anscombe',\n",
       " 'attention',\n",
       " 'brain_networks',\n",
       " 'car_crashes',\n",
       " 'diamonds',\n",
       " 'dots',\n",
       " 'dowjones',\n",
       " 'exercise',\n",
       " 'flights',\n",
       " 'fmri',\n",
       " 'geyser',\n",
       " 'glue',\n",
       " 'healthexp',\n",
       " 'iris',\n",
       " 'mpg',\n",
       " 'penguins',\n",
       " 'planets',\n",
       " 'seaice',\n",
       " 'taxis',\n",
       " 'tips',\n",
       " 'titanic',\n",
       " 'anagrams',\n",
       " 'anagrams',\n",
       " 'anscombe',\n",
       " 'anscombe',\n",
       " 'attention',\n",
       " 'attention',\n",
       " 'brain_networks',\n",
       " 'brain_networks',\n",
       " 'car_crashes',\n",
       " 'car_crashes',\n",
       " 'diamonds',\n",
       " 'diamonds',\n",
       " 'dots',\n",
       " 'dots',\n",
       " 'dowjones',\n",
       " 'dowjones',\n",
       " 'exercise',\n",
       " 'exercise',\n",
       " 'flights',\n",
       " 'flights',\n",
       " 'fmri',\n",
       " 'fmri',\n",
       " 'geyser',\n",
       " 'geyser',\n",
       " 'glue',\n",
       " 'glue',\n",
       " 'healthexp',\n",
       " 'healthexp',\n",
       " 'iris',\n",
       " 'iris',\n",
       " 'mpg',\n",
       " 'mpg',\n",
       " 'penguins',\n",
       " 'penguins',\n",
       " 'planets',\n",
       " 'planets',\n",
       " 'seaice',\n",
       " 'seaice',\n",
       " 'taxis',\n",
       " 'taxis',\n",
       " 'tips',\n",
       " 'tips',\n",
       " 'titanic',\n",
       " 'titanic',\n",
       " 'anagrams',\n",
       " 'anscombe',\n",
       " 'attention',\n",
       " 'brain_networks',\n",
       " 'car_crashes',\n",
       " 'diamonds',\n",
       " 'dots',\n",
       " 'dowjones',\n",
       " 'exercise',\n",
       " 'flights',\n",
       " 'fmri',\n",
       " 'geyser',\n",
       " 'glue',\n",
       " 'healthexp',\n",
       " 'iris',\n",
       " 'mpg',\n",
       " 'penguins',\n",
       " 'planets',\n",
       " 'seaice',\n",
       " 'taxis',\n",
       " 'tips',\n",
       " 'titanic']"
      ]
     },
     "execution_count": 2,
     "metadata": {},
     "output_type": "execute_result"
    }
   ],
   "source": [
    "sns.get_dataset_names()"
   ]
  },
  {
   "cell_type": "markdown",
   "id": "6da5bfaf-a0fd-4c35-9acf-e09cff4377b6",
   "metadata": {},
   "source": [
    "For now we will work with the tips data set. "
   ]
  },
  {
   "cell_type": "code",
   "execution_count": 3,
   "id": "8d098ddf-625e-42f1-8752-6ed7b2cff733",
   "metadata": {},
   "outputs": [
    {
     "data": {
      "text/html": [
       "<div>\n",
       "<style scoped>\n",
       "    .dataframe tbody tr th:only-of-type {\n",
       "        vertical-align: middle;\n",
       "    }\n",
       "\n",
       "    .dataframe tbody tr th {\n",
       "        vertical-align: top;\n",
       "    }\n",
       "\n",
       "    .dataframe thead th {\n",
       "        text-align: right;\n",
       "    }\n",
       "</style>\n",
       "<table border=\"1\" class=\"dataframe\">\n",
       "  <thead>\n",
       "    <tr style=\"text-align: right;\">\n",
       "      <th></th>\n",
       "      <th>total_bill</th>\n",
       "      <th>tip</th>\n",
       "      <th>sex</th>\n",
       "      <th>smoker</th>\n",
       "      <th>day</th>\n",
       "      <th>time</th>\n",
       "      <th>size</th>\n",
       "    </tr>\n",
       "  </thead>\n",
       "  <tbody>\n",
       "    <tr>\n",
       "      <th>0</th>\n",
       "      <td>16.99</td>\n",
       "      <td>1.01</td>\n",
       "      <td>Female</td>\n",
       "      <td>No</td>\n",
       "      <td>Sun</td>\n",
       "      <td>Dinner</td>\n",
       "      <td>2</td>\n",
       "    </tr>\n",
       "    <tr>\n",
       "      <th>1</th>\n",
       "      <td>10.34</td>\n",
       "      <td>1.66</td>\n",
       "      <td>Male</td>\n",
       "      <td>No</td>\n",
       "      <td>Sun</td>\n",
       "      <td>Dinner</td>\n",
       "      <td>3</td>\n",
       "    </tr>\n",
       "    <tr>\n",
       "      <th>2</th>\n",
       "      <td>21.01</td>\n",
       "      <td>3.50</td>\n",
       "      <td>Male</td>\n",
       "      <td>No</td>\n",
       "      <td>Sun</td>\n",
       "      <td>Dinner</td>\n",
       "      <td>3</td>\n",
       "    </tr>\n",
       "    <tr>\n",
       "      <th>3</th>\n",
       "      <td>23.68</td>\n",
       "      <td>3.31</td>\n",
       "      <td>Male</td>\n",
       "      <td>No</td>\n",
       "      <td>Sun</td>\n",
       "      <td>Dinner</td>\n",
       "      <td>2</td>\n",
       "    </tr>\n",
       "    <tr>\n",
       "      <th>4</th>\n",
       "      <td>24.59</td>\n",
       "      <td>3.61</td>\n",
       "      <td>Female</td>\n",
       "      <td>No</td>\n",
       "      <td>Sun</td>\n",
       "      <td>Dinner</td>\n",
       "      <td>4</td>\n",
       "    </tr>\n",
       "    <tr>\n",
       "      <th>5</th>\n",
       "      <td>25.29</td>\n",
       "      <td>4.71</td>\n",
       "      <td>Male</td>\n",
       "      <td>No</td>\n",
       "      <td>Sun</td>\n",
       "      <td>Dinner</td>\n",
       "      <td>4</td>\n",
       "    </tr>\n",
       "    <tr>\n",
       "      <th>6</th>\n",
       "      <td>8.77</td>\n",
       "      <td>2.00</td>\n",
       "      <td>Male</td>\n",
       "      <td>No</td>\n",
       "      <td>Sun</td>\n",
       "      <td>Dinner</td>\n",
       "      <td>2</td>\n",
       "    </tr>\n",
       "    <tr>\n",
       "      <th>7</th>\n",
       "      <td>26.88</td>\n",
       "      <td>3.12</td>\n",
       "      <td>Male</td>\n",
       "      <td>No</td>\n",
       "      <td>Sun</td>\n",
       "      <td>Dinner</td>\n",
       "      <td>4</td>\n",
       "    </tr>\n",
       "    <tr>\n",
       "      <th>8</th>\n",
       "      <td>15.04</td>\n",
       "      <td>1.96</td>\n",
       "      <td>Male</td>\n",
       "      <td>No</td>\n",
       "      <td>Sun</td>\n",
       "      <td>Dinner</td>\n",
       "      <td>2</td>\n",
       "    </tr>\n",
       "    <tr>\n",
       "      <th>9</th>\n",
       "      <td>14.78</td>\n",
       "      <td>3.23</td>\n",
       "      <td>Male</td>\n",
       "      <td>No</td>\n",
       "      <td>Sun</td>\n",
       "      <td>Dinner</td>\n",
       "      <td>2</td>\n",
       "    </tr>\n",
       "  </tbody>\n",
       "</table>\n",
       "</div>"
      ],
      "text/plain": [
       "   total_bill   tip     sex smoker  day    time  size\n",
       "0       16.99  1.01  Female     No  Sun  Dinner     2\n",
       "1       10.34  1.66    Male     No  Sun  Dinner     3\n",
       "2       21.01  3.50    Male     No  Sun  Dinner     3\n",
       "3       23.68  3.31    Male     No  Sun  Dinner     2\n",
       "4       24.59  3.61  Female     No  Sun  Dinner     4\n",
       "5       25.29  4.71    Male     No  Sun  Dinner     4\n",
       "6        8.77  2.00    Male     No  Sun  Dinner     2\n",
       "7       26.88  3.12    Male     No  Sun  Dinner     4\n",
       "8       15.04  1.96    Male     No  Sun  Dinner     2\n",
       "9       14.78  3.23    Male     No  Sun  Dinner     2"
      ]
     },
     "execution_count": 3,
     "metadata": {},
     "output_type": "execute_result"
    }
   ],
   "source": [
    "tips = sns.load_dataset('tips')\n",
    "tips.head(10)"
   ]
  },
  {
   "cell_type": "code",
   "execution_count": 4,
   "id": "168c9a1b",
   "metadata": {},
   "outputs": [
    {
     "data": {
      "text/plain": [
       "array(['total_bill', 'tip', 'sex', 'smoker', 'day', 'time', 'size'],\n",
       "      dtype=object)"
      ]
     },
     "execution_count": 4,
     "metadata": {},
     "output_type": "execute_result"
    }
   ],
   "source": [
    "tips.columns.values"
   ]
  },
  {
   "cell_type": "markdown",
   "id": "8f87157a-e732-4121-9430-5512cb5e1529",
   "metadata": {},
   "source": [
    "### Review: Bar Charts"
   ]
  },
  {
   "cell_type": "markdown",
   "id": "4f5a11b1",
   "metadata": {},
   "source": [
    "**Review: Bar Charts** can be used to look at categorical variables. \n",
    "\n",
    "The tips data set contains money (and tips) left by diners for different meals. \n",
    "\n",
    "Let's look at the meals in our data set."
   ]
  },
  {
   "cell_type": "code",
   "execution_count": 5,
   "id": "a4ff0cd1-4b80-4222-adfd-fbb8135c317e",
   "metadata": {},
   "outputs": [
    {
     "data": {
      "text/plain": [
       "time\n",
       "Dinner    176\n",
       "Lunch      68\n",
       "Name: count, dtype: int64"
      ]
     },
     "execution_count": 5,
     "metadata": {},
     "output_type": "execute_result"
    }
   ],
   "source": [
    "tips_by_mealtime = tips['time'].value_counts()\n",
    "tips_by_mealtime"
   ]
  },
  {
   "cell_type": "markdown",
   "id": "ab0fbb57-e367-4118-af0b-fa17b52d1ca4",
   "metadata": {},
   "source": [
    "Let's make a bar chart of our cookie distribution data."
   ]
  },
  {
   "cell_type": "code",
   "execution_count": 6,
   "id": "9cc6411a",
   "metadata": {},
   "outputs": [
    {
     "data": {
      "image/png": "[encoded data removed]",
      "text/plain": [
       "<Figure size 640x480 with 1 Axes>"
      ]
     },
     "metadata": {},
     "output_type": "display_data"
    }
   ],
   "source": [
    "ax=tips_by_mealtime.plot.barh(x='time',title='Tips by Mealtime')"
   ]
  },
  {
   "cell_type": "markdown",
   "id": "1908bf00",
   "metadata": {},
   "source": [
    "## Using np.arange()\n",
    "NumPy function **np.arange()** creates a sequence of numbers.\n",
    "\n",
    "np.arange(start,stop)\n",
    "\n",
    "Array ranges work like indexing; \n",
    "- inclusive of start;\n",
    "- exclusive of end;"
   ]
  },
  {
   "cell_type": "code",
   "execution_count": 7,
   "id": "119cce3c-7e46-489f-84c2-23b3d135e826",
   "metadata": {},
   "outputs": [
    {
     "data": {
      "text/plain": [
       "array([0, 1, 2, 3, 4, 5, 6, 7, 8, 9])"
      ]
     },
     "execution_count": 7,
     "metadata": {},
     "output_type": "execute_result"
    }
   ],
   "source": [
    "np.arange(10)"
   ]
  },
  {
   "cell_type": "code",
   "execution_count": 8,
   "id": "6013d0aa-a9a6-416b-b347-6e8353594ca8",
   "metadata": {},
   "outputs": [
    {
     "data": {
      "text/plain": [
       "array([3, 4, 5, 6, 7, 8])"
      ]
     },
     "execution_count": 8,
     "metadata": {},
     "output_type": "execute_result"
    }
   ],
   "source": [
    "arr=np.arange(3,9)\n",
    "arr"
   ]
  },
  {
   "cell_type": "markdown",
   "id": "8eb4c231-7d3e-44a7-b560-287e60e892dc",
   "metadata": {},
   "source": [
    "np.arange(start,stop,step) \n",
    "Array of all integers from start to (stop-1) counting by step."
   ]
  },
  {
   "cell_type": "code",
   "execution_count": 9,
   "id": "4fa7b4cd-1784-4360-ba7c-5ea16fa4d23b",
   "metadata": {},
   "outputs": [
    {
     "data": {
      "text/plain": [
       "array([3, 6])"
      ]
     },
     "execution_count": 9,
     "metadata": {},
     "output_type": "execute_result"
    }
   ],
   "source": [
    "np.arange(3,9,3)"
   ]
  },
  {
   "cell_type": "code",
   "execution_count": 10,
   "id": "2d47721d-8621-4ae0-a730-b708e73217a7",
   "metadata": {},
   "outputs": [
    {
     "data": {
      "text/plain": [
       "array([ 1,  2,  3,  4,  5,  6,  7,  8,  9, 10])"
      ]
     },
     "execution_count": 10,
     "metadata": {},
     "output_type": "execute_result"
    }
   ],
   "source": [
    "arr=np.arange(1,11)\n",
    "arr"
   ]
  },
  {
   "cell_type": "markdown",
   "id": "b94510f3-a3bd-4403-9a6a-1afc9533cd4f",
   "metadata": {},
   "source": [
    "We can also do different operations on the output of np.arange!\n",
    "Like suming all the entries!"
   ]
  },
  {
   "cell_type": "code",
   "execution_count": 11,
   "id": "71de2f72-36b2-4bfe-a545-76cb1dec801b",
   "metadata": {},
   "outputs": [
    {
     "data": {
      "text/plain": [
       "55"
      ]
     },
     "execution_count": 11,
     "metadata": {},
     "output_type": "execute_result"
    }
   ],
   "source": [
    "np.sum(arr)"
   ]
  },
  {
   "cell_type": "code",
   "execution_count": 12,
   "id": "8bc62814-48b7-4179-965b-bd1c29a437bb",
   "metadata": {},
   "outputs": [
    {
     "data": {
      "text/plain": [
       "array([3])"
      ]
     },
     "execution_count": 12,
     "metadata": {},
     "output_type": "execute_result"
    }
   ],
   "source": [
    "np.arange(3,11,12)"
   ]
  },
  {
   "cell_type": "markdown",
   "id": "d51dda1f-59f6-42cc-827f-59f5a75d7339",
   "metadata": {},
   "source": [
    "Note: Negative steps work as well!"
   ]
  },
  {
   "cell_type": "code",
   "execution_count": 13,
   "id": "65dc4eaf",
   "metadata": {},
   "outputs": [
    {
     "data": {
      "text/plain": [
       "array([10,  7,  4])"
      ]
     },
     "execution_count": 13,
     "metadata": {},
     "output_type": "execute_result"
    }
   ],
   "source": [
    "np.arange(10,1,-3)"
   ]
  },
  {
   "cell_type": "markdown",
   "id": "153dddc7-337e-46da-ac4d-129121f11f81",
   "metadata": {},
   "source": [
    "## Quick Check 1:\n",
    "\n",
    "What will the following cells output?\n",
    "\n",
    "Put your answer in the ... below:\n",
    "\n",
    "| Comand      | Output |\n",
    "| ----------- | ----------- |\n",
    "| np.arange(5)      | ...       |\n",
    "| np.arange(3,13,3)   | ...        |\n",
    "| 2**np.arange(8)   | ...        |\n",
    "| np.sum(np.arange(4)** 2)   | ...        |\n",
    "\n"
   ]
  },
  {
   "cell_type": "markdown",
   "id": "7b9acbb4-5cdc-4a99-8539-2651e1886f6c",
   "metadata": {},
   "source": [
    "### Numerical Distributions, Histograms"
   ]
  },
  {
   "cell_type": "markdown",
   "id": "c9452118-56c5-41af-b489-92b9613dd306",
   "metadata": {},
   "source": [
    "Bar charts visualize distributions of a **categorical variable** or the relationship between a **categorical variable** and one or more numerical variables.\n",
    "\n",
    "Bar Charts **cannot** display the distribution of a **numerical variable**.\n",
    "\n",
    "To make a Chart what works like a Bar Chart with numerical variables, we put the numerical values into bins!"
   ]
  },
  {
   "cell_type": "markdown",
   "id": "4ee0a8d6-f9b2-4dc9-ab83-6c8d3647c363",
   "metadata": {},
   "source": [
    "**Binning** is counting the number of numerical values that fall within ranges called *bins*.\n",
    "\n",
    "- A bin is defined by a left end point (lower bound) and a right end point (upper bount)\n",
    "- A value *falls in a bin* if it is greater than (or equal to) the left end point, and less than the right end point: [a,b)\n",
    "- The *width* of a bind is the right end point minus the left end point: (b-d)"
   ]
  },
  {
   "cell_type": "markdown",
   "id": "1d453f3a-149e-4fc5-ac4f-e44f7dbc072f",
   "metadata": {},
   "source": [
    "**Histograms** visualize the distribution of a numerical variable by binning."
   ]
  },
  {
   "cell_type": "code",
   "execution_count": 14,
   "id": "306733e5-dcd1-4ea7-961c-80f55e6c77bb",
   "metadata": {},
   "outputs": [],
   "source": [
    "tipValue = tips['tip']"
   ]
  },
  {
   "cell_type": "code",
   "execution_count": 15,
   "id": "b2ce29f1-25e2-40bd-a68b-8dfbe01bab23",
   "metadata": {},
   "outputs": [
    {
     "data": {
      "text/plain": [
       "(array([41., 79., 66., 27., 19.,  5.,  4.,  1.,  1.,  1.]),\n",
       " array([ 1. ,  1.9,  2.8,  3.7,  4.6,  5.5,  6.4,  7.3,  8.2,  9.1, 10. ]),\n",
       " <BarContainer object of 10 artists>)"
      ]
     },
     "execution_count": 15,
     "metadata": {},
     "output_type": "execute_result"
    },
    {
     "data": {
      "image/png": "[encoded data removed]",
      "text/plain": [
       "<Figure size 640x480 with 1 Axes>"
      ]
     },
     "metadata": {},
     "output_type": "display_data"
    }
   ],
   "source": [
    "plt.hist(tipValue)"
   ]
  },
  {
   "cell_type": "markdown",
   "id": "2849f764-33a3-46eb-bcd9-d36063b844a9",
   "metadata": {},
   "source": [
    "We can also retrieve the bin end points and the number of counts (the height) of each bin."
   ]
  },
  {
   "cell_type": "code",
   "execution_count": 16,
   "id": "0111e940-623a-411e-9a41-d9716a47eb37",
   "metadata": {},
   "outputs": [
    {
     "data": {
      "image/png": "[encoded data removed]",
      "text/plain": [
       "<Figure size 640x480 with 1 Axes>"
      ]
     },
     "metadata": {},
     "output_type": "display_data"
    }
   ],
   "source": [
    "values, bins, plot = plt.hist(tipValue)"
   ]
  },
  {
   "cell_type": "code",
   "execution_count": 17,
   "id": "015e0e4b-ddf7-4cf4-ade7-d67f2b5c9289",
   "metadata": {},
   "outputs": [
    {
     "data": {
      "text/plain": [
       "array([41., 79., 66., 27., 19.,  5.,  4.,  1.,  1.,  1.])"
      ]
     },
     "execution_count": 17,
     "metadata": {},
     "output_type": "execute_result"
    }
   ],
   "source": [
    "values"
   ]
  },
  {
   "cell_type": "code",
   "execution_count": 18,
   "id": "65308fc9-d39f-4b8a-b7e5-e473082706de",
   "metadata": {},
   "outputs": [
    {
     "data": {
      "text/plain": [
       "array([ 1. ,  1.9,  2.8,  3.7,  4.6,  5.5,  6.4,  7.3,  8.2,  9.1, 10. ])"
      ]
     },
     "execution_count": 18,
     "metadata": {},
     "output_type": "execute_result"
    }
   ],
   "source": [
    "bins"
   ]
  },
  {
   "cell_type": "code",
   "execution_count": 19,
   "id": "92374d78-f43f-4c91-aff2-c751d87c6063",
   "metadata": {},
   "outputs": [
    {
     "data": {
      "text/plain": [
       "244"
      ]
     },
     "execution_count": 19,
     "metadata": {},
     "output_type": "execute_result"
    }
   ],
   "source": [
    "len(tipValue)"
   ]
  },
  {
   "cell_type": "code",
   "execution_count": 20,
   "id": "18b8da78-28f8-45cc-b292-5e38d44f87b3",
   "metadata": {},
   "outputs": [
    {
     "data": {
      "text/plain": [
       "244.0"
      ]
     },
     "execution_count": 20,
     "metadata": {},
     "output_type": "execute_result"
    }
   ],
   "source": [
    "sum(values)"
   ]
  },
  {
   "cell_type": "code",
   "execution_count": 21,
   "id": "d04ee884-28e4-4de2-ba0b-7bdbfd61977f",
   "metadata": {},
   "outputs": [
    {
     "data": {
      "text/plain": [
       "41"
      ]
     },
     "execution_count": 21,
     "metadata": {},
     "output_type": "execute_result"
    }
   ],
   "source": [
    "sum(tipValue<1.9)"
   ]
  },
  {
   "cell_type": "code",
   "execution_count": 22,
   "id": "e7ba3982-8e3c-48c5-a4e7-2cafe360131a",
   "metadata": {},
   "outputs": [
    {
     "data": {
      "text/plain": [
       "79"
      ]
     },
     "execution_count": 22,
     "metadata": {},
     "output_type": "execute_result"
    }
   ],
   "source": [
    "sum((tipValue>=1.9)*(tipValue<2.8))"
   ]
  },
  {
   "cell_type": "code",
   "execution_count": 23,
   "id": "63b66d61-c8b7-4592-9abc-679555fe903e",
   "metadata": {},
   "outputs": [
    {
     "data": {
      "text/plain": [
       "27"
      ]
     },
     "execution_count": 23,
     "metadata": {},
     "output_type": "execute_result"
    }
   ],
   "source": [
    "sum((tipValue>=3.7)*(tipValue<4.6))"
   ]
  },
  {
   "cell_type": "code",
   "execution_count": 24,
   "id": "634f4135-40b6-4b19-82b8-f55647a6df4c",
   "metadata": {},
   "outputs": [
    {
     "data": {
      "text/plain": [
       "1"
      ]
     },
     "execution_count": 24,
     "metadata": {},
     "output_type": "execute_result"
    }
   ],
   "source": [
    "sum((tipValue>=9.1)*(tipValue<=10.0))"
   ]
  },
  {
   "cell_type": "markdown",
   "id": "2453a204-0ab9-4223-9d8a-b17931454a86",
   "metadata": {},
   "source": [
    "### Quick Check 2"
   ]
  },
  {
   "cell_type": "markdown",
   "id": "c5087c52-99de-40c0-a4ae-22218b25d40a",
   "metadata": {},
   "source": [
    "Consider this Bar Chart.\n",
    "\n",
    "<img src=\"PretendHistogram.png\" style=\"height:310px\" />\n",
    "\n",
    "\n",
    "\n"
   ]
  },
  {
   "cell_type": "markdown",
   "id": "c7d1b8a6-795b-4238-a483-dd560ad524be",
   "metadata": {},
   "source": [
    "**Question:** How many heights are between 60 (inclusive) and 64 inches (exclusive)?\n",
    "\n",
    "Or how many heights are in the bin [60,64)?\n",
    "\n",
    "**Your Answer Here**"
   ]
  },
  {
   "cell_type": "markdown",
   "id": "17f2dc98-64d1-452e-a8bc-832047eeaab9",
   "metadata": {},
   "source": [
    "**Question 2:** How many heights are between 62 (inclusive) and 68 inches (exclusive)?\n",
    "\n",
    "Or how many heights are in the bin [62,68)?\n",
    "\n",
    "**Your Answer Here**"
   ]
  },
  {
   "cell_type": "markdown",
   "id": "00d29d50-462f-4710-ac35-dfd79074fbb6",
   "metadata": {},
   "source": [
    "## Choosing Bins\n",
    "\n",
    "There are lots of ways to chose what bins we want for a histogram. We can specify a number of bins. (The default is 10)."
   ]
  },
  {
   "cell_type": "code",
   "execution_count": 25,
   "id": "09aed414-2abb-400b-ab3c-af062cd226ee",
   "metadata": {},
   "outputs": [
    {
     "data": {
      "image/png": "[encoded data removed]",
      "text/plain": [
       "<Figure size 640x480 with 1 Axes>"
      ]
     },
     "metadata": {},
     "output_type": "display_data"
    }
   ],
   "source": [
    "values, bins, plot = plt.hist(tipValue,bins = 5)"
   ]
  },
  {
   "cell_type": "code",
   "execution_count": 32,
   "id": "a760c5c3-e3cc-4404-a93d-c46b9e892311",
   "metadata": {},
   "outputs": [
    {
     "data": {
      "image/png": "[encoded data removed]",
      "text/plain": [
       "<Figure size 640x480 with 1 Axes>"
      ]
     },
     "metadata": {},
     "output_type": "display_data"
    }
   ],
   "source": [
    "values, bins, plot = plt.hist(tipValue,bins = np.arange(12))"
   ]
  },
  {
   "cell_type": "code",
   "execution_count": 36,
   "id": "ebb84676-1a17-44e1-8386-21f9b0a99f24",
   "metadata": {},
   "outputs": [
    {
     "data": {
      "text/plain": [
       "3.07"
      ]
     },
     "execution_count": 36,
     "metadata": {},
     "output_type": "execute_result"
    }
   ],
   "source": [
    "tips['total_bill'].min()"
   ]
  },
  {
   "cell_type": "code",
   "execution_count": 37,
   "id": "defac466-64ed-4856-995a-9ae6be322b01",
   "metadata": {},
   "outputs": [
    {
     "data": {
      "text/plain": [
       "50.81"
      ]
     },
     "execution_count": 37,
     "metadata": {},
     "output_type": "execute_result"
    }
   ],
   "source": [
    "tips['total_bill'].max()"
   ]
  },
  {
   "cell_type": "code",
   "execution_count": 39,
   "id": "5005ac83-7e91-4eba-940c-bedf15adf76a",
   "metadata": {},
   "outputs": [
    {
     "data": {
      "text/plain": [
       "array([ 3,  6,  9, 12, 15, 18, 21, 24, 27, 30, 33, 36, 39, 42, 45, 48, 51])"
      ]
     },
     "execution_count": 39,
     "metadata": {},
     "output_type": "execute_result"
    }
   ],
   "source": [
    "bins_3 = np.arange(3,54,3)\n",
    "bins_3"
   ]
  },
  {
   "cell_type": "code",
   "execution_count": 41,
   "id": "aee3c5ab-77ca-4689-981d-c7554947eb8c",
   "metadata": {},
   "outputs": [
    {
     "data": {
      "text/plain": [
       "array([ 3, 10, 17, 24, 31, 38, 45, 52])"
      ]
     },
     "execution_count": 41,
     "metadata": {},
     "output_type": "execute_result"
    }
   ],
   "source": [
    "bins_7 = np.arange(3,53,7)\n",
    "bins_7"
   ]
  },
  {
   "cell_type": "markdown",
   "id": "20b06708-a130-4561-8cea-437f93853e8b",
   "metadata": {},
   "source": [
    "## Grouped Histograms\n",
    "\n",
    "Sometimes we want to compare data from two different types of categories at the same time.\n",
    "\n",
    "For example, let's look at the tips on a weekend versus the week day."
   ]
  },
  {
   "cell_type": "markdown",
   "id": "f324cf41-7086-4734-bc72-d8d901653158",
   "metadata": {},
   "source": [
    "First, let's get two boolean vectors that tell us which entries are weekends and which are weekdays. "
   ]
  },
  {
   "cell_type": "code",
   "execution_count": 66,
   "id": "d5550a51-fa9d-4e5b-bd36-799ad7d97f9a",
   "metadata": {},
   "outputs": [],
   "source": [
    "weekendValues = tips['day'].isin(['Sun','Sat']);\n",
    "weekdayValues = ~tips['day'].isin(['Sun','Sat']);"
   ]
  },
  {
   "cell_type": "markdown",
   "id": "888dea92-0400-4946-acc7-1d9076ff9ffb",
   "metadata": {},
   "source": [
    "Now, let's get the separate tip data for both!"
   ]
  },
  {
   "cell_type": "code",
   "execution_count": 68,
   "id": "fbc891e6-192f-4bb4-a6bc-f2f92f8a8e6f",
   "metadata": {},
   "outputs": [],
   "source": [
    "weekendTipValues = tips[weekendValues]['tip']\n",
    "weekdayTipValues = tips[weekdayValues]['tip']"
   ]
  },
  {
   "cell_type": "markdown",
   "id": "46d787c7-23e3-462e-b31e-f83cc7539df5",
   "metadata": {},
   "source": [
    "Now we can show mutliple histograms at the same time!"
   ]
  },
  {
   "cell_type": "code",
   "execution_count": 69,
   "id": "85e5f5ca-ca65-4a2b-a3eb-f17368a79fdf",
   "metadata": {},
   "outputs": [
    {
     "data": {
      "image/png": "[encoded data removed]",
      "text/plain": [
       "<Figure size 640x480 with 1 Axes>"
      ]
     },
     "metadata": {},
     "output_type": "display_data"
    }
   ],
   "source": [
    "plt.hist(weekendTipValues, label='Weekend') \n",
    "  \n",
    "plt.hist(weekdayTipValues, label='Weekday') \n",
    "  \n",
    "plt.legend(loc='upper right') \n",
    "plt.title('Histogram of Tips') \n",
    "plt.show()"
   ]
  },
  {
   "cell_type": "markdown",
   "id": "d1ac21b7-2204-4358-9856-9783756e28dc",
   "metadata": {},
   "source": [
    "Notice this looks a little funny, the two data sets have different numbers of bins. So we can play with that a bit.\n",
    "\n",
    "When two sets have different numbers of measurements. It can be helpful to look at a probability distribution or other measure that's a little more complicated than a histogram.\n",
    "\n",
    "For now, we just can compare the shapes."
   ]
  },
  {
   "cell_type": "markdown",
   "id": "4b2f16fc-a72e-48e6-aded-0ee55dd6c7af",
   "metadata": {},
   "source": [
    "But, we can also see that the two distributions cover one another. \n",
    "\n",
    "We can make things better if we use a parameter *alpha* to make things more transparent. "
   ]
  },
  {
   "cell_type": "code",
   "execution_count": 74,
   "id": "ef6c746d-eea7-42a6-a258-61daf8e96b41",
   "metadata": {},
   "outputs": [
    {
     "data": {
      "image/png": "[encoded data removed]",
      "text/plain": [
       "<Figure size 640x480 with 1 Axes>"
      ]
     },
     "metadata": {},
     "output_type": "display_data"
    }
   ],
   "source": [
    "plt.hist(weekendTipValues, alpha = 0.5, label='Weekend',bins = np.arange(10)) \n",
    "  \n",
    "plt.hist(weekdayTipValues, alpha = 0.5, label='Weekday',bins = np.arange(10)) \n",
    "  \n",
    "plt.legend(loc='upper right') \n",
    "plt.title('Histogram of Tips') \n",
    "plt.show()"
   ]
  },
  {
   "cell_type": "code",
   "execution_count": null,
   "id": "3856a1ca-9bea-48dc-9aa1-9f6dcfbb8967",
   "metadata": {},
   "outputs": [],
   "source": []
  }
 ],
 "metadata": {
  "kernelspec": {
   "display_name": "Python 3 (ipykernel)",
   "language": "python",
   "name": "python3"
  },
  "language_info": {
   "codemirror_mode": {
    "name": "ipython",
    "version": 3
   },
   "file_extension": ".py",
   "mimetype": "text/x-python",
   "name": "python",
   "nbconvert_exporter": "python",
   "pygments_lexer": "ipython3",
   "version": "3.11.4"
  }
 },
 "nbformat": 4,
 "nbformat_minor": 5
}
