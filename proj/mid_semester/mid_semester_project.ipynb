{
 "cells": [
  {
   "cell_type": "markdown",
   "id": "f5e41a78",
   "metadata": {},
   "source": [
    "# Project - Housing Costs in the United States\n",
    "\n",
    "### Spark 010, Spring 2024"
   ]
  },
  {
   "cell_type": "markdown",
   "id": "6ea34eaa",
   "metadata": {},
   "source": [
    "Here we will be exploring the evolution of housing process across the Unites States since the year 2000.  The data we will be using is provided by Zillow, a real estate tech marketplace catered toward prospective homeowners.  In particular, we will be accessing the file `zcounty.csv` file which was downloaded from a [zillow](https://www.zillow.com/research/data/) database.\n",
    "\n",
    "The columns we will use are `RegionName` (county name), `State`, and any column with dates as labels. There is a column for every month in Jan 2000 through Jan 2024. Each column has each county's median home value for the corresponding month. For example, in the column labeled `2000-02-29` are the median home prices for February 2000.\n"
   ]
  },
  {
   "cell_type": "markdown",
   "id": "989dc2ab-9c9c-4b0a-89b7-4235b299681f",
   "metadata": {},
   "source": [
    "## 1. Exploring the Data"
   ]
  },
  {
   "cell_type": "code",
   "execution_count": 1,
   "id": "56451ffc",
   "metadata": {},
   "outputs": [],
   "source": [
    "# just run me\n",
    "import pandas as pd\n",
    "import matplotlib.pyplot as plt\n",
    "pd.set_option(\"display.max_columns\",None)\n",
    "pd.set_option(\"display.max_rows\",None)\n",
    "pd.options.display.width = 0\n",
    "pd.options.display.max_colwidth = 100"
   ]
  },
  {
   "cell_type": "code",
   "execution_count": null,
   "id": "d7a9f8ac",
   "metadata": {},
   "outputs": [],
   "source": [
    "# read the csv file\n",
    "Counties = pd.read_csv(\"data/zcounty.csv\")"
   ]
  },
  {
   "cell_type": "markdown",
   "id": "5cd7c5e4-e1de-4612-9e05-d8d890c2a823",
   "metadata": {},
   "source": [
    "With the dataset loaded, **explore** the table a bit to get a better understanding of the data itself."
   ]
  },
  {
   "cell_type": "code",
   "execution_count": null,
   "id": "b35dfcb8-a51c-4484-974a-a2feadcfb3ba",
   "metadata": {},
   "outputs": [],
   "source": [
    "Counties.head(1)"
   ]
  },
  {
   "cell_type": "markdown",
   "id": "3f7bd9eb-6cfb-4749-93b4-1623cc20fc1a",
   "metadata": {},
   "source": [
    "There are some columns that are irrelevant to what we would like to analyze.  Therefore, let's drop the columns we aren't going to use. This will make the table more readable for our purposes."
   ]
  },
  {
   "cell_type": "code",
   "execution_count": null,
   "id": "b27d6277-0646-4c0d-9bbf-659448157d6b",
   "metadata": {},
   "outputs": [],
   "source": [
    "Counties = Counties.drop(columns = [\"Metro\",'RegionType','SizeRank','RegionID','StateCodeFIPS','MunicipalCodeFIPS','StateName'])\n",
    "Counties.head(3)"
   ]
  },
  {
   "cell_type": "markdown",
   "id": "b1444529-7ff1-4e9c-886f-b9679a3fd6ae",
   "metadata": {},
   "source": [
    "Notice the general structure of the columns in our dataset.  There seems to be a column for every month starting with Jan 2000 until Jan 2024.  How many columns do we expect this dataset to contain?"
   ]
  },
  {
   "cell_type": "code",
   "execution_count": null,
   "id": "7d072c8a",
   "metadata": {},
   "outputs": [],
   "source": [
    "Counties.shape"
   ]
  },
  {
   "cell_type": "markdown",
   "id": "6bedf379-4031-4385-a5f6-f679ad31fc1b",
   "metadata": {},
   "source": [
    "### California Counties"
   ]
  },
  {
   "cell_type": "markdown",
   "id": "6eef1a45",
   "metadata": {},
   "source": [
    "Now let's look at part of the data pertaining to an individual state.  Let's narrow our search to only include counties in California."
   ]
  },
  {
   "cell_type": "code",
   "execution_count": null,
   "id": "7738f331",
   "metadata": {},
   "outputs": [],
   "source": [
    "CA_counties = Counties[Counties['State'] == 'CA']\n",
    "CA_counties.head(3)"
   ]
  },
  {
   "cell_type": "markdown",
   "id": "31c4c9e5-e949-45b5-bd68-e59c1de893df",
   "metadata": {},
   "source": [
    "### Question 1: \n",
    "\n",
    "Which county in California had the highest median home sales value in February 2000?"
   ]
  },
  {
   "cell_type": "code",
   "execution_count": null,
   "id": "cc372713-7132-4079-a9aa-3de3a78211e3",
   "metadata": {},
   "outputs": [],
   "source": [
    "# Put you answer here"
   ]
  },
  {
   "cell_type": "code",
   "execution_count": null,
   "id": "588639cf-6c46-4fde-91ac-ff3ec309fe7b",
   "metadata": {},
   "outputs": [],
   "source": []
  },
  {
   "cell_type": "code",
   "execution_count": null,
   "id": "c325f5c8-9a2c-49d2-88fe-58809868af33",
   "metadata": {},
   "outputs": [],
   "source": [
    "# End Question 1"
   ]
  },
  {
   "cell_type": "markdown",
   "id": "33bc61e5",
   "metadata": {},
   "source": [
    "Let's narrow our search in California to the counties of Merced and LA."
   ]
  },
  {
   "cell_type": "code",
   "execution_count": null,
   "id": "fcd3d2d0",
   "metadata": {},
   "outputs": [],
   "source": [
    "Merced = CA_counties[CA_counties['RegionName'] == 'Merced County']\n",
    "LA = CA_counties[CA_counties['RegionName'] == 'Los Angeles County']"
   ]
  },
  {
   "cell_type": "code",
   "execution_count": null,
   "id": "4941d51a-fab4-4e8d-b316-5670378452ea",
   "metadata": {},
   "outputs": [],
   "source": [
    "Merced.head(10)"
   ]
  },
  {
   "cell_type": "markdown",
   "id": "25f4dc71-dc7a-4940-a5d8-f5ac46545c34",
   "metadata": {},
   "source": [
    "It looks like there was no Merced county data for the year 2000.  Let's look at data for LA county next."
   ]
  },
  {
   "cell_type": "code",
   "execution_count": null,
   "id": "3634ffff-cefc-4b32-a2b5-1c22f25d0cfd",
   "metadata": {},
   "outputs": [],
   "source": [
    "LA.head(10)"
   ]
  },
  {
   "cell_type": "markdown",
   "id": "786a353f-ab03-49d6-b38b-686bf4ca9c0f",
   "metadata": {},
   "source": [
    "### Question 2:\n",
    "\n",
    "Which month was LA County's median home sales price at its highest point?"
   ]
  },
  {
   "cell_type": "code",
   "execution_count": null,
   "id": "606a1af6-b576-45a7-89a5-edc7d33fd637",
   "metadata": {},
   "outputs": [],
   "source": [
    "# Put your answer here\n"
   ]
  },
  {
   "cell_type": "markdown",
   "id": "39719f41-5fd5-4dcb-ab48-42060cf07be5",
   "metadata": {},
   "source": [
    "Which month was Merced County's median home sales price at its highest point?"
   ]
  },
  {
   "cell_type": "code",
   "execution_count": null,
   "id": "f0ab25a1-8d09-44d5-8990-c445f33f1a5e",
   "metadata": {},
   "outputs": [],
   "source": [
    "# Put your answer here\n"
   ]
  },
  {
   "cell_type": "code",
   "execution_count": null,
   "id": "dc479bb7-ce92-4a4e-8d43-5e07c4e122cc",
   "metadata": {},
   "outputs": [],
   "source": [
    "# End Question 2"
   ]
  },
  {
   "cell_type": "markdown",
   "id": "fe77dd39-9684-4771-a8d2-ca74c2d4135c",
   "metadata": {},
   "source": [
    "## 2. Bar Charts - Counties Per State"
   ]
  },
  {
   "cell_type": "markdown",
   "id": "ec8d37af-4981-4dcf-b302-a239ba7e13e1",
   "metadata": {},
   "source": [
    "In this example, we will plot a horizontal bar chart, similar to the one we saw in class on the Spotify data. For our example, let's plot the top ten states in terms of **total number of counties** in the dataset. For this, we will use `df.groupby`, a powerful and commonly used method when working in pandas or any dataset."
   ]
  },
  {
   "cell_type": "code",
   "execution_count": null,
   "id": "dfcd3181-edc0-412f-a7a4-2c6813cb0859",
   "metadata": {},
   "outputs": [],
   "source": [
    "# Create a grouped object that groups by state \n",
    "grouped = Counties.groupby('State')\n",
    "\n",
    "# Find the total number of counties per state\n",
    "Counties_per_state = grouped.size()\n",
    "\n",
    "# Sort the values in the order we want for each bar\n",
    "Counties_per_state = Counties_per_state.sort_values(ascending=False)\n",
    "Plot = Counties_per_state.head(10).plot.barh()"
   ]
  },
  {
   "cell_type": "markdown",
   "id": "77800322-9ad1-44d3-b533-6f541eb91029",
   "metadata": {},
   "source": [
    "It looks like Texas has the most counties out of any state, followed by Georgia, Virginia, and Kentucky. "
   ]
  },
  {
   "cell_type": "markdown",
   "id": "71b35bf9-127c-4bc4-9eb4-83aaae3f4b7b",
   "metadata": {},
   "source": [
    "### Question 3:\n",
    "\n",
    "How many California counties are in this dataset?"
   ]
  },
  {
   "cell_type": "code",
   "execution_count": null,
   "id": "1dc7908a-aac9-415d-9dfb-dbdaac334b57",
   "metadata": {},
   "outputs": [],
   "source": [
    "# Put your answer here\n",
    "\n"
   ]
  },
  {
   "cell_type": "code",
   "execution_count": null,
   "id": "7dfac490-ce88-43ca-96ea-067dfa7746bb",
   "metadata": {},
   "outputs": [],
   "source": [
    "# End Question 3"
   ]
  },
  {
   "cell_type": "markdown",
   "id": "db5ad4ee-3c73-4c77-bfe7-12df8e362ec8",
   "metadata": {},
   "source": [
    "Let's look at the five states with the **highest** median housing values for the beginning of 2023."
   ]
  },
  {
   "cell_type": "code",
   "execution_count": null,
   "id": "b6fa0d5c-184a-4772-a08c-deb2dfac3617",
   "metadata": {},
   "outputs": [],
   "source": [
    "states = pd.read_csv('data/zstate.csv')\n",
    "states = states.loc[:,['RegionName','2023-01-31']]\n",
    "print(states.head())\n",
    "\n",
    "states = states.sort_values('2023-01-31', ascending=False)\n",
    "\n",
    "Plot = states.head(10).plot.barh(x='RegionName', y='2023-01-31', xlabel='Median Housing Values', legend=None)"
   ]
  },
  {
   "cell_type": "markdown",
   "id": "95b5808b-cc96-4841-9f53-82b27b4d84dd",
   "metadata": {},
   "source": [
    "### Question 4:\n",
    "\n",
    "How many states across the entire dataset have a median housing value higher than $500,000?"
   ]
  },
  {
   "cell_type": "code",
   "execution_count": null,
   "id": "65708c66-e486-4601-a004-ea002a951f8c",
   "metadata": {},
   "outputs": [],
   "source": [
    "# Put your answer here\n",
    "\n"
   ]
  },
  {
   "cell_type": "code",
   "execution_count": null,
   "id": "c8307014-6eba-4823-a5fd-4281c24602f9",
   "metadata": {},
   "outputs": [],
   "source": [
    "# End Question 4"
   ]
  },
  {
   "cell_type": "markdown",
   "id": "0d422598-ed2b-4e57-a35e-31258f36110e",
   "metadata": {},
   "source": [
    "## 3. Plotting Median Home Values\n",
    "\n",
    "It should be easier to visualize to how the median home value evolved over time by using a plot. Although we haven't taught you everything used below, you can learn by practicing, copy-pasting, using Google, or asking classmates/teachers! 😃\n"
   ]
  },
  {
   "cell_type": "markdown",
   "id": "40f58ab7-6b68-47eb-93f5-e9cc102f03ee",
   "metadata": {},
   "source": [
    "Let's start by plotting three counties in California: LA, Merced, and Monterey County on the same plot and make a color-coded legend."
   ]
  },
  {
   "cell_type": "code",
   "execution_count": null,
   "id": "090c78da-0475-43ba-96ae-a56be70181dd",
   "metadata": {},
   "outputs": [],
   "source": [
    "# Create a list that we will filter on\n",
    "subset_counties = ['Merced County','Los Angeles County','Monterey County']\n",
    "\n",
    "# Create a boolean true-false filter\n",
    "Filter = Counties['RegionName'].isin(subset_counties)\n",
    "\n",
    "# Get the rows corresponding to our filter\n",
    "df = Counties[Filter]"
   ]
  },
  {
   "cell_type": "code",
   "execution_count": null,
   "id": "d2f9ff4f-406c-4481-94a8-b717f22f9d5f",
   "metadata": {},
   "outputs": [],
   "source": [
    "df"
   ]
  },
  {
   "cell_type": "markdown",
   "id": "d5fd6316-14a2-48b7-b201-8da0feb918ae",
   "metadata": {},
   "source": [
    "Now that we have our reduced dataset, we notice that `pd.melt` would be really useful here. Let's use it again."
   ]
  },
  {
   "cell_type": "code",
   "execution_count": null,
   "id": "0032396f-2b28-4c64-918f-9241931ec034",
   "metadata": {},
   "outputs": [],
   "source": [
    "# Take all columns except the state column\n",
    "df = df.iloc[:,[0]+list(range(2,len(df.columns)))]\n",
    "\n",
    "# Convert columns to rows\n",
    "Melted = df.melt(id_vars='RegionName',var_name='Date',value_name='Cost')"
   ]
  },
  {
   "cell_type": "code",
   "execution_count": null,
   "id": "aa1e7a30-e241-433b-9c5e-2e74370a1653",
   "metadata": {
    "jp-MarkdownHeadingCollapsed": true
   },
   "outputs": [],
   "source": [
    "Melted.head()"
   ]
  },
  {
   "cell_type": "markdown",
   "id": "0096ed2f-8bc2-4247-b091-da6d214a46c6",
   "metadata": {},
   "source": [
    "Great! Now we should have a a row for each month instead of a column. We can now make the plot. We will need to use `df.groupby` just as in the last section."
   ]
  },
  {
   "cell_type": "code",
   "execution_count": null,
   "id": "e3d0e090-788e-4005-8c7c-288f753fdafd",
   "metadata": {
    "scrolled": true
   },
   "outputs": [],
   "source": [
    "# Initalize a figure\n",
    "fig, ax = plt.subplots(figsize=(8,6))\n",
    "\n",
    "# Group by county\n",
    "grouped = Melted.groupby('RegionName')\n",
    "\n",
    "# Plot for each of the three counties\n",
    "grouped.plot(kind='line', x = \"Date\", y = \"Cost\", ax = ax)\n",
    "\n",
    "# Give a good title\n",
    "plt.title(\"Median Housing Costs by county\")\n",
    "ax.legend(labels=grouped.groups.keys()) ## better legend\n",
    "\n",
    "plt.show()"
   ]
  },
  {
   "cell_type": "markdown",
   "id": "bb3dafd5-3104-497b-af5e-0df60cdd8810",
   "metadata": {},
   "source": [
    "### Question 5:\n",
    "\n",
    "What are some features you notice about this plot?"
   ]
  },
  {
   "cell_type": "code",
   "execution_count": null,
   "id": "a98e0959-3bab-46ce-b828-15905a8e789a",
   "metadata": {},
   "outputs": [],
   "source": [
    "# Put your answer here\n",
    "\n"
   ]
  },
  {
   "cell_type": "code",
   "execution_count": null,
   "id": "2349b727-7eb1-43e6-9cec-e9cd2be7c13b",
   "metadata": {},
   "outputs": [],
   "source": [
    "# End Question 5"
   ]
  },
  {
   "cell_type": "markdown",
   "id": "a6151dfa-6b3d-4ae4-a235-6caef2aa2078",
   "metadata": {},
   "source": [
    "### Question 6:\n",
    "\n",
    "Using the above, copy-paste the code and make a similar plot for **three different counties** of your choice. They don't have to be in California."
   ]
  },
  {
   "cell_type": "code",
   "execution_count": null,
   "id": "832d45ac-ce1b-4935-a731-7832c2650d93",
   "metadata": {},
   "outputs": [],
   "source": [
    "# Code for Question 6\n",
    "\n",
    "\n",
    "\n",
    "\n",
    "\n",
    "\n",
    "\n",
    "\n",
    "#plt.show()"
   ]
  },
  {
   "cell_type": "code",
   "execution_count": null,
   "id": "f66a2934-37cf-404d-b4db-753f37b85eee",
   "metadata": {},
   "outputs": [],
   "source": [
    "# End Question 6"
   ]
  },
  {
   "cell_type": "markdown",
   "id": "719f0b4d-7e51-4393-8bff-92cceb0f1648",
   "metadata": {},
   "source": [
    "### Question 7:\n",
    "\n",
    "Does the plot above share the same features as the plot in question 5?  Can you hypothesize why there is or isn't a difference between the two plots?"
   ]
  },
  {
   "cell_type": "code",
   "execution_count": null,
   "id": "2e2b0633-c220-4e95-847f-cc47859eaa37",
   "metadata": {},
   "outputs": [],
   "source": [
    "# Put your answer here\n",
    "\n"
   ]
  },
  {
   "cell_type": "code",
   "execution_count": null,
   "id": "e1384a72-d9cd-4a76-85b6-8cb70be1e72b",
   "metadata": {},
   "outputs": [],
   "source": [
    "# End Question 7"
   ]
  },
  {
   "cell_type": "markdown",
   "id": "ef53d28e-373e-404d-aeae-a97d1501072a",
   "metadata": {},
   "source": [
    "## 4. Histograms - Distribution of Housing Costs"
   ]
  },
  {
   "cell_type": "markdown",
   "id": "de68e37a-f5dd-4463-8751-0603337a8b71",
   "metadata": {},
   "source": [
    "Let's plot the distribution of Housing Costs in January 2024 across **all counties in both CA and Texas**."
   ]
  },
  {
   "cell_type": "code",
   "execution_count": null,
   "id": "7241c42d-1776-45bd-b501-64f2cbc4bf0f",
   "metadata": {},
   "outputs": [],
   "source": [
    "# Get the last column (January 2024) for California counties\n",
    "CA_housing_values = CA_counties.iloc[:,-1]\n",
    "\n",
    "# Get the last column (January 2024) for Texas counties\n",
    "TX_counties = Counties[Counties['State'] == 'TX']\n",
    "TX_housing_values = TX_counties.iloc[:,-1]\n",
    "\n",
    "\n",
    "u = plt.hist(CA_housing_values, bins=10, alpha=0.8)\n",
    "v = plt.hist(TX_housing_values, alpha=0.8)\n",
    "\n",
    "plt.title('Median Housing Costs in CA and TX')\n",
    "plt.xlabel('Median Housing Cost in the State')\n",
    "plt.ylabel('Frequency')\n",
    "plt.show()"
   ]
  },
  {
   "cell_type": "markdown",
   "id": "923bc614-593a-4e17-bc3b-ba16092a608c",
   "metadata": {},
   "source": [
    "### Question 8:\n",
    "\n",
    "Using the above, copy-paste the code and make a similar histogram for **two different states** of your choice.  Refer to Question 1 for how to grab the rows for specific states in the original data."
   ]
  },
  {
   "cell_type": "code",
   "execution_count": null,
   "id": "d983258f-8071-4105-874c-68cf38533767",
   "metadata": {},
   "outputs": [],
   "source": [
    "# Code for Question 8\n",
    "\n",
    "\n",
    "\n",
    "\n",
    "\n",
    "\n",
    "\n",
    "\n",
    "\n",
    "#plt.show()"
   ]
  },
  {
   "cell_type": "code",
   "execution_count": null,
   "id": "4dd16394-0542-43be-b050-377f61532e10",
   "metadata": {},
   "outputs": [],
   "source": [
    "# End Question 8"
   ]
  },
  {
   "cell_type": "markdown",
   "id": "741f86ea-9bc7-42f8-af90-c442c2be3ac5",
   "metadata": {},
   "source": [
    "### Question 9:\n",
    "\n",
    "Write a few sentences explaining the differences between the two histograms in question 7 and the two histograms in question 8.  For each explanation, provide possible reasons or suggestions about why these differences exist."
   ]
  },
  {
   "cell_type": "code",
   "execution_count": null,
   "id": "8b28cda2-71a7-4b4e-88d9-4450b4a7fe5f",
   "metadata": {},
   "outputs": [],
   "source": [
    "# Put your answer here\n",
    "\n"
   ]
  },
  {
   "cell_type": "code",
   "execution_count": null,
   "id": "ea0cbe6c-e31a-4579-85ba-30992405951f",
   "metadata": {},
   "outputs": [],
   "source": [
    "# End Question 9"
   ]
  },
  {
   "cell_type": "markdown",
   "id": "8050ae23-ef08-4427-b076-b3abe1f038d1",
   "metadata": {},
   "source": [
    "## Conclusion"
   ]
  },
  {
   "cell_type": "markdown",
   "id": "22efd739-7941-4048-9fcb-e3987d62ba42",
   "metadata": {},
   "source": [
    "What type of datasets would you enjoy working with in this class?"
   ]
  },
  {
   "cell_type": "code",
   "execution_count": null,
   "id": "b24d0276-6a7d-4675-8ee6-aa83e0d63af1",
   "metadata": {},
   "outputs": [],
   "source": []
  },
  {
   "cell_type": "markdown",
   "id": "0d1cce58-97d0-4168-9112-2ec3f6791746",
   "metadata": {},
   "source": [
    "# Submission\n",
    "\n",
    "Make sure you have run all cells in your notebook so that all images/graphs (if any) appear in the output before preparing to submit your work.  **Please create a PDF using File->Save and Export Notebook as->PDF**, then upload this document to the appropriate assignment on Catcourses."
   ]
  },
  {
   "cell_type": "code",
   "execution_count": null,
   "id": "1246ba4c-7e77-483d-8fbf-1cca394f5669",
   "metadata": {},
   "outputs": [],
   "source": []
  }
 ],
 "metadata": {
  "kernelspec": {
   "display_name": "Python 3 (ipykernel)",
   "language": "python",
   "name": "python3"
  },
  "language_info": {
   "codemirror_mode": {
    "name": "ipython",
    "version": 3
   },
   "file_extension": ".py",
   "mimetype": "text/x-python",
   "name": "python",
   "nbconvert_exporter": "python",
   "pygments_lexer": "ipython3",
   "version": "3.11.4"
  }
 },
 "nbformat": 4,
 "nbformat_minor": 5
}
